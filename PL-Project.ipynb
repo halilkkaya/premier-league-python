{
 "cells": [
  {
   "cell_type": "code",
   "execution_count": 1,
   "id": "67c39b62-4ec7-47c0-9e4a-b67d003ee000",
   "metadata": {},
   "outputs": [],
   "source": [
    "import numpy as np\n",
    "import pandas as pd\n",
    "import matplotlib.pyplot as plt\n",
    "import seaborn as sns\n",
    "import warnings\n",
    "warnings.filterwarnings(\"ignore\")"
   ]
  },
  {
   "cell_type": "code",
   "execution_count": 2,
   "id": "7e51094b-f652-4cc4-9244-74a9d93001f0",
   "metadata": {},
   "outputs": [],
   "source": [
    "df = pd.read_csv(\"Premier_League.csv\")"
   ]
  },
  {
   "cell_type": "code",
   "execution_count": 3,
   "id": "18972d3d-a6c8-4426-b0e9-779f1cb6d07e",
   "metadata": {},
   "outputs": [
    {
     "data": {
      "text/html": [
       "<div>\n",
       "<style scoped>\n",
       "    .dataframe tbody tr th:only-of-type {\n",
       "        vertical-align: middle;\n",
       "    }\n",
       "\n",
       "    .dataframe tbody tr th {\n",
       "        vertical-align: top;\n",
       "    }\n",
       "\n",
       "    .dataframe thead th {\n",
       "        text-align: right;\n",
       "    }\n",
       "</style>\n",
       "<table border=\"1\" class=\"dataframe\">\n",
       "  <thead>\n",
       "    <tr style=\"text-align: right;\">\n",
       "      <th></th>\n",
       "      <th>Goals Home</th>\n",
       "      <th>Away Goals</th>\n",
       "      <th>home_possessions</th>\n",
       "      <th>away_possessions</th>\n",
       "      <th>home_shots</th>\n",
       "      <th>away_shots</th>\n",
       "      <th>home_on</th>\n",
       "      <th>away_on</th>\n",
       "      <th>home_off</th>\n",
       "      <th>away_off</th>\n",
       "      <th>...</th>\n",
       "      <th>home_duels</th>\n",
       "      <th>away_duels</th>\n",
       "      <th>home_saves</th>\n",
       "      <th>away_saves</th>\n",
       "      <th>home_fouls</th>\n",
       "      <th>away_fouls</th>\n",
       "      <th>home_yellow</th>\n",
       "      <th>away_yellow</th>\n",
       "      <th>home_red</th>\n",
       "      <th>away_red</th>\n",
       "    </tr>\n",
       "  </thead>\n",
       "  <tbody>\n",
       "    <tr>\n",
       "      <th>count</th>\n",
       "      <td>380.000000</td>\n",
       "      <td>380.000000</td>\n",
       "      <td>380.000000</td>\n",
       "      <td>380.000000</td>\n",
       "      <td>380.000000</td>\n",
       "      <td>380.000000</td>\n",
       "      <td>380.000000</td>\n",
       "      <td>380.000000</td>\n",
       "      <td>380.000000</td>\n",
       "      <td>380.000000</td>\n",
       "      <td>...</td>\n",
       "      <td>380.000000</td>\n",
       "      <td>380.000000</td>\n",
       "      <td>380.000000</td>\n",
       "      <td>380.000000</td>\n",
       "      <td>380.000000</td>\n",
       "      <td>380.000000</td>\n",
       "      <td>380.000000</td>\n",
       "      <td>380.000000</td>\n",
       "      <td>380.000000</td>\n",
       "      <td>380.000000</td>\n",
       "    </tr>\n",
       "    <tr>\n",
       "      <th>mean</th>\n",
       "      <td>1.634211</td>\n",
       "      <td>1.218421</td>\n",
       "      <td>50.447632</td>\n",
       "      <td>49.552368</td>\n",
       "      <td>13.973684</td>\n",
       "      <td>11.313158</td>\n",
       "      <td>4.913158</td>\n",
       "      <td>3.897368</td>\n",
       "      <td>5.110526</td>\n",
       "      <td>4.236842</td>\n",
       "      <td>...</td>\n",
       "      <td>50.611053</td>\n",
       "      <td>49.391579</td>\n",
       "      <td>2.650000</td>\n",
       "      <td>3.213158</td>\n",
       "      <td>10.607895</td>\n",
       "      <td>10.957895</td>\n",
       "      <td>1.676316</td>\n",
       "      <td>1.939474</td>\n",
       "      <td>0.052632</td>\n",
       "      <td>0.026316</td>\n",
       "    </tr>\n",
       "    <tr>\n",
       "      <th>std</th>\n",
       "      <td>1.419944</td>\n",
       "      <td>1.183518</td>\n",
       "      <td>12.896888</td>\n",
       "      <td>12.896888</td>\n",
       "      <td>5.600541</td>\n",
       "      <td>4.908593</td>\n",
       "      <td>2.495449</td>\n",
       "      <td>2.230159</td>\n",
       "      <td>2.547365</td>\n",
       "      <td>2.397604</td>\n",
       "      <td>...</td>\n",
       "      <td>11.012290</td>\n",
       "      <td>11.010639</td>\n",
       "      <td>1.838069</td>\n",
       "      <td>1.967905</td>\n",
       "      <td>3.273213</td>\n",
       "      <td>3.481321</td>\n",
       "      <td>1.259462</td>\n",
       "      <td>1.364464</td>\n",
       "      <td>0.246063</td>\n",
       "      <td>0.160284</td>\n",
       "    </tr>\n",
       "    <tr>\n",
       "      <th>min</th>\n",
       "      <td>0.000000</td>\n",
       "      <td>0.000000</td>\n",
       "      <td>18.300000</td>\n",
       "      <td>18.900000</td>\n",
       "      <td>1.000000</td>\n",
       "      <td>1.000000</td>\n",
       "      <td>0.000000</td>\n",
       "      <td>0.000000</td>\n",
       "      <td>0.000000</td>\n",
       "      <td>0.000000</td>\n",
       "      <td>...</td>\n",
       "      <td>10.000000</td>\n",
       "      <td>10.000000</td>\n",
       "      <td>0.000000</td>\n",
       "      <td>0.000000</td>\n",
       "      <td>3.000000</td>\n",
       "      <td>3.000000</td>\n",
       "      <td>0.000000</td>\n",
       "      <td>0.000000</td>\n",
       "      <td>0.000000</td>\n",
       "      <td>0.000000</td>\n",
       "    </tr>\n",
       "    <tr>\n",
       "      <th>25%</th>\n",
       "      <td>1.000000</td>\n",
       "      <td>0.000000</td>\n",
       "      <td>39.900000</td>\n",
       "      <td>40.400000</td>\n",
       "      <td>10.000000</td>\n",
       "      <td>8.000000</td>\n",
       "      <td>3.000000</td>\n",
       "      <td>2.000000</td>\n",
       "      <td>3.000000</td>\n",
       "      <td>3.000000</td>\n",
       "      <td>...</td>\n",
       "      <td>43.450000</td>\n",
       "      <td>42.475000</td>\n",
       "      <td>1.000000</td>\n",
       "      <td>2.000000</td>\n",
       "      <td>8.000000</td>\n",
       "      <td>8.750000</td>\n",
       "      <td>1.000000</td>\n",
       "      <td>1.000000</td>\n",
       "      <td>0.000000</td>\n",
       "      <td>0.000000</td>\n",
       "    </tr>\n",
       "    <tr>\n",
       "      <th>50%</th>\n",
       "      <td>1.000000</td>\n",
       "      <td>1.000000</td>\n",
       "      <td>51.000000</td>\n",
       "      <td>49.000000</td>\n",
       "      <td>14.000000</td>\n",
       "      <td>11.000000</td>\n",
       "      <td>5.000000</td>\n",
       "      <td>4.000000</td>\n",
       "      <td>5.000000</td>\n",
       "      <td>4.000000</td>\n",
       "      <td>...</td>\n",
       "      <td>51.450000</td>\n",
       "      <td>48.550000</td>\n",
       "      <td>2.000000</td>\n",
       "      <td>3.000000</td>\n",
       "      <td>10.000000</td>\n",
       "      <td>11.000000</td>\n",
       "      <td>2.000000</td>\n",
       "      <td>2.000000</td>\n",
       "      <td>0.000000</td>\n",
       "      <td>0.000000</td>\n",
       "    </tr>\n",
       "    <tr>\n",
       "      <th>75%</th>\n",
       "      <td>2.000000</td>\n",
       "      <td>2.000000</td>\n",
       "      <td>59.600000</td>\n",
       "      <td>60.100000</td>\n",
       "      <td>17.000000</td>\n",
       "      <td>15.000000</td>\n",
       "      <td>7.000000</td>\n",
       "      <td>5.000000</td>\n",
       "      <td>7.000000</td>\n",
       "      <td>6.000000</td>\n",
       "      <td>...</td>\n",
       "      <td>57.525000</td>\n",
       "      <td>56.550000</td>\n",
       "      <td>4.000000</td>\n",
       "      <td>5.000000</td>\n",
       "      <td>13.000000</td>\n",
       "      <td>13.000000</td>\n",
       "      <td>3.000000</td>\n",
       "      <td>3.000000</td>\n",
       "      <td>0.000000</td>\n",
       "      <td>0.000000</td>\n",
       "    </tr>\n",
       "    <tr>\n",
       "      <th>max</th>\n",
       "      <td>9.000000</td>\n",
       "      <td>6.000000</td>\n",
       "      <td>81.100000</td>\n",
       "      <td>81.700000</td>\n",
       "      <td>33.000000</td>\n",
       "      <td>30.000000</td>\n",
       "      <td>15.000000</td>\n",
       "      <td>11.000000</td>\n",
       "      <td>15.000000</td>\n",
       "      <td>12.000000</td>\n",
       "      <td>...</td>\n",
       "      <td>90.000000</td>\n",
       "      <td>90.000000</td>\n",
       "      <td>9.000000</td>\n",
       "      <td>11.000000</td>\n",
       "      <td>23.000000</td>\n",
       "      <td>25.000000</td>\n",
       "      <td>6.000000</td>\n",
       "      <td>7.000000</td>\n",
       "      <td>2.000000</td>\n",
       "      <td>1.000000</td>\n",
       "    </tr>\n",
       "  </tbody>\n",
       "</table>\n",
       "<p>8 rows × 32 columns</p>\n",
       "</div>"
      ],
      "text/plain": [
       "       Goals Home  Away Goals  home_possessions  away_possessions  home_shots  \\\n",
       "count  380.000000  380.000000        380.000000        380.000000  380.000000   \n",
       "mean     1.634211    1.218421         50.447632         49.552368   13.973684   \n",
       "std      1.419944    1.183518         12.896888         12.896888    5.600541   \n",
       "min      0.000000    0.000000         18.300000         18.900000    1.000000   \n",
       "25%      1.000000    0.000000         39.900000         40.400000   10.000000   \n",
       "50%      1.000000    1.000000         51.000000         49.000000   14.000000   \n",
       "75%      2.000000    2.000000         59.600000         60.100000   17.000000   \n",
       "max      9.000000    6.000000         81.100000         81.700000   33.000000   \n",
       "\n",
       "       away_shots     home_on     away_on    home_off    away_off  ...  \\\n",
       "count  380.000000  380.000000  380.000000  380.000000  380.000000  ...   \n",
       "mean    11.313158    4.913158    3.897368    5.110526    4.236842  ...   \n",
       "std      4.908593    2.495449    2.230159    2.547365    2.397604  ...   \n",
       "min      1.000000    0.000000    0.000000    0.000000    0.000000  ...   \n",
       "25%      8.000000    3.000000    2.000000    3.000000    3.000000  ...   \n",
       "50%     11.000000    5.000000    4.000000    5.000000    4.000000  ...   \n",
       "75%     15.000000    7.000000    5.000000    7.000000    6.000000  ...   \n",
       "max     30.000000   15.000000   11.000000   15.000000   12.000000  ...   \n",
       "\n",
       "       home_duels  away_duels  home_saves  away_saves  home_fouls  away_fouls  \\\n",
       "count  380.000000  380.000000  380.000000  380.000000  380.000000  380.000000   \n",
       "mean    50.611053   49.391579    2.650000    3.213158   10.607895   10.957895   \n",
       "std     11.012290   11.010639    1.838069    1.967905    3.273213    3.481321   \n",
       "min     10.000000   10.000000    0.000000    0.000000    3.000000    3.000000   \n",
       "25%     43.450000   42.475000    1.000000    2.000000    8.000000    8.750000   \n",
       "50%     51.450000   48.550000    2.000000    3.000000   10.000000   11.000000   \n",
       "75%     57.525000   56.550000    4.000000    5.000000   13.000000   13.000000   \n",
       "max     90.000000   90.000000    9.000000   11.000000   23.000000   25.000000   \n",
       "\n",
       "       home_yellow  away_yellow    home_red    away_red  \n",
       "count   380.000000   380.000000  380.000000  380.000000  \n",
       "mean      1.676316     1.939474    0.052632    0.026316  \n",
       "std       1.259462     1.364464    0.246063    0.160284  \n",
       "min       0.000000     0.000000    0.000000    0.000000  \n",
       "25%       1.000000     1.000000    0.000000    0.000000  \n",
       "50%       2.000000     2.000000    0.000000    0.000000  \n",
       "75%       3.000000     3.000000    0.000000    0.000000  \n",
       "max       6.000000     7.000000    2.000000    1.000000  \n",
       "\n",
       "[8 rows x 32 columns]"
      ]
     },
     "execution_count": 3,
     "metadata": {},
     "output_type": "execute_result"
    }
   ],
   "source": [
    "df.describe()\n",
    "# verilerimizin genel istatistik bilgilerine göz atıyoruz"
   ]
  },
  {
   "cell_type": "code",
   "execution_count": 4,
   "id": "6eb9848e-8189-4b72-85b3-51304b8a340a",
   "metadata": {},
   "outputs": [
    {
     "data": {
      "text/plain": [
       "date                0\n",
       "clock               0\n",
       "stadium             0\n",
       "attendance          0\n",
       "Home Team           0\n",
       "Goals Home          0\n",
       "Away Team           0\n",
       "Away Goals          0\n",
       "home_possessions    0\n",
       "away_possessions    0\n",
       "home_shots          0\n",
       "away_shots          0\n",
       "home_on             0\n",
       "away_on             0\n",
       "home_off            0\n",
       "away_off            0\n",
       "home_blocked        0\n",
       "away_blocked        0\n",
       "home_pass           0\n",
       "away_pass           0\n",
       "home_chances        0\n",
       "away_chances        0\n",
       "home_corners        0\n",
       "away_corners        0\n",
       "home_offside        0\n",
       "away_offside        0\n",
       "home_tackles        0\n",
       "away_tackles        0\n",
       "home_duels          0\n",
       "away_duels          0\n",
       "home_saves          0\n",
       "away_saves          0\n",
       "home_fouls          0\n",
       "away_fouls          0\n",
       "home_yellow         0\n",
       "away_yellow         0\n",
       "home_red            0\n",
       "away_red            0\n",
       "links               0\n",
       "dtype: int64"
      ]
     },
     "execution_count": 4,
     "metadata": {},
     "output_type": "execute_result"
    }
   ],
   "source": [
    "df.isnull().sum()\n",
    "# kayıp gözlem var mı onu inceliyoruz"
   ]
  },
  {
   "cell_type": "code",
   "execution_count": 5,
   "id": "f4444199-a2b7-4a57-b1f6-4f30869798b2",
   "metadata": {},
   "outputs": [
    {
     "name": "stdout",
     "output_type": "stream",
     "text": [
      "<class 'pandas.core.frame.DataFrame'>\n",
      "RangeIndex: 380 entries, 0 to 379\n",
      "Data columns (total 39 columns):\n",
      " #   Column            Non-Null Count  Dtype  \n",
      "---  ------            --------------  -----  \n",
      " 0   date              380 non-null    object \n",
      " 1   clock             380 non-null    object \n",
      " 2   stadium           380 non-null    object \n",
      " 3   attendance        380 non-null    object \n",
      " 4   Home Team         380 non-null    object \n",
      " 5   Goals Home        380 non-null    int64  \n",
      " 6   Away Team         380 non-null    object \n",
      " 7   Away Goals        380 non-null    int64  \n",
      " 8   home_possessions  380 non-null    float64\n",
      " 9   away_possessions  380 non-null    float64\n",
      " 10  home_shots        380 non-null    int64  \n",
      " 11  away_shots        380 non-null    int64  \n",
      " 12  home_on           380 non-null    int64  \n",
      " 13  away_on           380 non-null    int64  \n",
      " 14  home_off          380 non-null    int64  \n",
      " 15  away_off          380 non-null    int64  \n",
      " 16  home_blocked      380 non-null    int64  \n",
      " 17  away_blocked      380 non-null    int64  \n",
      " 18  home_pass         380 non-null    float64\n",
      " 19  away_pass         380 non-null    float64\n",
      " 20  home_chances      380 non-null    int64  \n",
      " 21  away_chances      380 non-null    int64  \n",
      " 22  home_corners      380 non-null    int64  \n",
      " 23  away_corners      380 non-null    int64  \n",
      " 24  home_offside      380 non-null    int64  \n",
      " 25  away_offside      380 non-null    int64  \n",
      " 26  home_tackles      380 non-null    float64\n",
      " 27  away_tackles      380 non-null    float64\n",
      " 28  home_duels        380 non-null    float64\n",
      " 29  away_duels        380 non-null    float64\n",
      " 30  home_saves        380 non-null    int64  \n",
      " 31  away_saves        380 non-null    int64  \n",
      " 32  home_fouls        380 non-null    int64  \n",
      " 33  away_fouls        380 non-null    int64  \n",
      " 34  home_yellow       380 non-null    int64  \n",
      " 35  away_yellow       380 non-null    int64  \n",
      " 36  home_red          380 non-null    int64  \n",
      " 37  away_red          380 non-null    int64  \n",
      " 38  links             380 non-null    object \n",
      "dtypes: float64(8), int64(24), object(7)\n",
      "memory usage: 115.9+ KB\n"
     ]
    }
   ],
   "source": [
    "df.info()\n",
    "# verilerimiz hakkında genel bilgi sahibi oluyoruz"
   ]
  },
  {
   "cell_type": "code",
   "execution_count": 6,
   "id": "d83fefb9-460f-4820-91b9-898bfaa38b4f",
   "metadata": {},
   "outputs": [
    {
     "data": {
      "text/plain": [
       "0"
      ]
     },
     "execution_count": 6,
     "metadata": {},
     "output_type": "execute_result"
    }
   ],
   "source": [
    "df.duplicated().sum()\n",
    "# tekrarlayan satrıları kontrol ediyoruz"
   ]
  },
  {
   "cell_type": "code",
   "execution_count": 7,
   "id": "66a20837-5447-427f-9906-69c3fa1665ce",
   "metadata": {},
   "outputs": [
    {
     "data": {
      "text/plain": [
       "0      https://www.skysports.com/football/arsenal-vs-...\n",
       "1      https://www.skysports.com/football/aston-villa...\n",
       "2      https://www.skysports.com/football/brentford-v...\n",
       "3      https://www.skysports.com/football/chelsea-vs-...\n",
       "4      https://www.skysports.com/football/crystal-pal...\n",
       "                             ...                        \n",
       "375    https://www.skysports.com/football/leeds-unite...\n",
       "376    https://www.skysports.com/football/newcastle-u...\n",
       "377    https://www.skysports.com/football/tottenham-h...\n",
       "378    https://www.skysports.com/football/everton-vs-...\n",
       "379    https://www.skysports.com/football/crystal-pal...\n",
       "Name: links, Length: 380, dtype: object"
      ]
     },
     "execution_count": 7,
     "metadata": {},
     "output_type": "execute_result"
    }
   ],
   "source": [
    "df.pop(\"links\")\n",
    "# linkleri önden bir çıkaralım. hiç işimize yaramayacak zaten"
   ]
  },
  {
   "cell_type": "code",
   "execution_count": 8,
   "id": "8a3c03cc-0196-4ae1-8886-1ea8bf247c2e",
   "metadata": {},
   "outputs": [
    {
     "data": {
      "text/plain": [
       "str"
      ]
     },
     "execution_count": 8,
     "metadata": {},
     "output_type": "execute_result"
    }
   ],
   "source": [
    "type(df.loc[1,\"date\"]) # str bir ifadeymis date yapalim"
   ]
  },
  {
   "cell_type": "code",
   "execution_count": 9,
   "id": "bc9152e1-737b-49b6-9702-56fa45febf4e",
   "metadata": {},
   "outputs": [],
   "source": [
    "df[\"date\"] = df[\"date\"].str.replace(r'\\d+(st|nd|rd|th)', '', regex=True).str.strip()\n",
    "df['date'] = pd.to_datetime(df['date'])\n",
    "df[\"Yil\"] = df[\"date\"].dt.year\n",
    "df[\"Ay\"] = df[\"date\"].dt.month\n",
    "df[\"Gun\"] = df[\"date\"].dt.day"
   ]
  },
  {
   "cell_type": "code",
   "execution_count": 10,
   "id": "8fcefd86-2483-4cfd-90d3-86eef0392005",
   "metadata": {},
   "outputs": [
    {
     "data": {
      "text/plain": [
       "0   2023-05-01\n",
       "1   2023-05-01\n",
       "2   2023-05-01\n",
       "3   2023-05-01\n",
       "4   2023-05-01\n",
       "Name: date, dtype: datetime64[ns]"
      ]
     },
     "execution_count": 10,
     "metadata": {},
     "output_type": "execute_result"
    }
   ],
   "source": [
    "df[\"date\"].head() # dönüşümü tamamladık. şimdi yıl ay gün şeklinde ayıralım ve date kısmını silelim"
   ]
  },
  {
   "cell_type": "code",
   "execution_count": 11,
   "id": "97e9a1c6-27af-47cc-95f0-d3e8e030e29d",
   "metadata": {},
   "outputs": [],
   "source": [
    "df = df.drop(['date', 'clock'], axis=1)\n",
    "# date ve clock çıkaralım saat zaten işimize yaramaz"
   ]
  },
  {
   "cell_type": "code",
   "execution_count": 12,
   "id": "517e749b-86a3-4f4f-88d0-7deb20de22bf",
   "metadata": {},
   "outputs": [
    {
     "data": {
      "image/png": "[encoded data removed]",
      "text/plain": [
       "<Figure size 640x480 with 2 Axes>"
      ]
     },
     "metadata": {},
     "output_type": "display_data"
    }
   ],
   "source": [
    "fig, ax = plt.subplots(1,2)\n",
    "\n",
    "sns.boxplot(y=\"home_possessions\",x=\"Goals Home\", data= df, ax=ax[0])\n",
    "sns.boxplot(y=\"away_possessions\",x=\"Away Goals\", data= df, ax=ax[1])\n",
    "plt.show()\n",
    "# her bir golde kaç pozisyona girilip girilmediğini inceliyoruz.\n",
    "# ev takımının hiç gol atmama durumunu incelediğimizde 40-60 arası pozisyonda yoğunlaşmış bir veri görüyoruz"
   ]
  },
  {
   "cell_type": "code",
   "execution_count": 13,
   "id": "c7e1ca71-01b9-4bd4-88be-323469aeeda1",
   "metadata": {},
   "outputs": [
    {
     "data": {
      "image/png": "[encoded data removed]",
      "text/plain": [
       "<Figure size 640x480 with 2 Axes>"
      ]
     },
     "metadata": {},
     "output_type": "display_data"
    }
   ],
   "source": [
    "fig, ax = plt.subplots(1,2)\n",
    "\n",
    "sns.boxplot(y=\"Goals Home\", data= df, ax=ax[0])\n",
    "sns.boxplot(y=\"Away Goals\", data= df, ax=ax[1])\n",
    "plt.show()\n",
    "# bu grafiğimizde de ev sahibi ve deplasman takımlarının genel gol sayılarına bakıyoruz.\n",
    "# ev takımı genellikle 1-2 arası gol atmışken bu aralık deplasman takımı için 0-2 arasıdır.\n",
    "# ev takımının attığı gollerde de bolca aykırı değer gözlemliyoruz"
   ]
  },
  {
   "cell_type": "code",
   "execution_count": 14,
   "id": "f034d3ef-845d-4fce-9bd3-d3cf500ba823",
   "metadata": {},
   "outputs": [
    {
     "data": {
      "text/plain": [
       "0    5\n",
       "1    1\n",
       "2    1\n",
       "3    0\n",
       "4    0\n",
       "Name: gol_fark, dtype: int64"
      ]
     },
     "execution_count": 14,
     "metadata": {},
     "output_type": "execute_result"
    }
   ],
   "source": [
    "df[\"gol_fark\"] = df[\"Goals Home\"] - df[\"Away Goals\"]\n",
    "df[\"gol_fark\"].head()\n",
    "# gol sayılarımızın farkını buluyoruz. bu sayede puan hesaplama işlemini de gerçekleştirebiliriz"
   ]
  },
  {
   "cell_type": "code",
   "execution_count": 15,
   "id": "5bfeeb22-46df-45c5-8871-631b8a2dc484",
   "metadata": {},
   "outputs": [],
   "source": [
    "fark = df[\"gol_fark\"]\n",
    "\n",
    "for i in range(0,len(fark)):\n",
    "    if(fark[i]>0):\n",
    "        df.loc[i,\"puan\"] = 3\n",
    "    elif(fark[i]==0):\n",
    "        df.loc[i,\"puan\"] = 1\n",
    "    elif(fark[i]<0):\n",
    "        df.loc[i,\"puan\"] = 0"
   ]
  },
  {
   "cell_type": "code",
   "execution_count": 16,
   "id": "17c5468b-1487-458c-b917-dee862998e81",
   "metadata": {},
   "outputs": [
    {
     "data": {
      "text/html": [
       "<div>\n",
       "<style scoped>\n",
       "    .dataframe tbody tr th:only-of-type {\n",
       "        vertical-align: middle;\n",
       "    }\n",
       "\n",
       "    .dataframe tbody tr th {\n",
       "        vertical-align: top;\n",
       "    }\n",
       "\n",
       "    .dataframe thead th {\n",
       "        text-align: right;\n",
       "    }\n",
       "</style>\n",
       "<table border=\"1\" class=\"dataframe\">\n",
       "  <thead>\n",
       "    <tr style=\"text-align: right;\">\n",
       "      <th></th>\n",
       "      <th>gol_fark</th>\n",
       "      <th>puan</th>\n",
       "    </tr>\n",
       "  </thead>\n",
       "  <tbody>\n",
       "    <tr>\n",
       "      <th>0</th>\n",
       "      <td>5</td>\n",
       "      <td>3.0</td>\n",
       "    </tr>\n",
       "    <tr>\n",
       "      <th>1</th>\n",
       "      <td>1</td>\n",
       "      <td>3.0</td>\n",
       "    </tr>\n",
       "    <tr>\n",
       "      <th>2</th>\n",
       "      <td>1</td>\n",
       "      <td>3.0</td>\n",
       "    </tr>\n",
       "    <tr>\n",
       "      <th>3</th>\n",
       "      <td>0</td>\n",
       "      <td>1.0</td>\n",
       "    </tr>\n",
       "    <tr>\n",
       "      <th>4</th>\n",
       "      <td>0</td>\n",
       "      <td>1.0</td>\n",
       "    </tr>\n",
       "  </tbody>\n",
       "</table>\n",
       "</div>"
      ],
      "text/plain": [
       "   gol_fark  puan\n",
       "0         5   3.0\n",
       "1         1   3.0\n",
       "2         1   3.0\n",
       "3         0   1.0\n",
       "4         0   1.0"
      ]
     },
     "execution_count": 16,
     "metadata": {},
     "output_type": "execute_result"
    }
   ],
   "source": [
    "df.loc[:,(\"gol_fark\",\"puan\")].head()\n",
    "# her bir sutuna o macta ev sahibinin aldigi puani yazdik\n",
    "# aynisini deplasman puani olarak da yapalim"
   ]
  },
  {
   "cell_type": "code",
   "execution_count": 17,
   "id": "70f47ec7-020d-4f70-81b2-ca970b3a8c82",
   "metadata": {},
   "outputs": [],
   "source": [
    "for i in range(len(df)):\n",
    "    if df.loc[i,\"puan\"]==3:\n",
    "        df.loc[i,\"dep_puan\"] = 0\n",
    "    elif(df.loc[i,\"puan\"]==1):\n",
    "        df.loc[i,\"dep_puan\"] = 1\n",
    "    elif(df.loc[i,\"puan\"]==0):\n",
    "        df.loc[i,\"dep_puan\"] = 3"
   ]
  },
  {
   "cell_type": "code",
   "execution_count": 18,
   "id": "11038ff9-5639-44b6-91b5-dff0c290227f",
   "metadata": {},
   "outputs": [
    {
     "data": {
      "text/plain": [
       "0    0\n",
       "1    0\n",
       "2    0\n",
       "3    1\n",
       "4    1\n",
       "Name: dep_puan, dtype: int32"
      ]
     },
     "execution_count": 18,
     "metadata": {},
     "output_type": "execute_result"
    }
   ],
   "source": [
    "df[\"dep_puan\"] = df[\"dep_puan\"].astype(int)\n",
    "df[\"dep_puan\"].head()\n",
    "# integer hale getirdik ve hem deplasman takımının hem de ev sahibinin o maçtan kaç puan \n",
    "# aldığını yazdık. şimdi bu sezon maç maç puanları kaça yükseldi ya da aynı mı kaldı bunu yapacağız\n",
    "# yeni bir data frame olusturacağım ve puan tablosu adını vereceğim\n",
    "# burada her bir takım için aldıkları puanı toplayacağım"
   ]
  },
  {
   "cell_type": "code",
   "execution_count": 19,
   "id": "29fdc3c6-ade6-450a-aa70-7c64dae31066",
   "metadata": {},
   "outputs": [],
   "source": [
    "# ev sahibi, deplasman takımı, puan, dep_puan, groupby, sum, \n",
    "home_puanlar = df.groupby(\"Home Team\")[\"puan\"].sum().reset_index()\n",
    "away_puanlar = df.groupby(\"Away Team\")[\"dep_puan\"].sum().reset_index()\n",
    "# ev sahibi ve deplasman puanlarını 2 listeye atadık. bu listelerdeki aynı\n",
    "# takımların puanlarını toplayıp yeni bir listeye atayalım"
   ]
  },
  {
   "cell_type": "code",
   "execution_count": 20,
   "id": "b66f1ac9-03fa-40d3-b2ec-98fd3f8fcf82",
   "metadata": {},
   "outputs": [],
   "source": [
    "toplam_puanlar = pd.merge(home_puanlar, away_puanlar, left_on=\"Home Team\", right_on=\"Away Team\", how=\"outer\", suffixes=('_home', '_away'))\n",
    "# pd.merge sutunları birleştirmek için kullanılır. sonra birleştirmek istediğimiz iki listeyi yazarız\n",
    "# left_on ve rigth_on kısımları sol ve sağdaki listelerin hangi sütunlarına göre listeleyeceğimizi yazıyoruz\n",
    "# birleştirme komutumnuz how oluyor outer yani iki date framein içerisindeki her seyi alıp birlestirir\n",
    "# suffixes kısmı çok önemli home ve away team kısımlarının birbirlerini bulması için kullanılan kod\n",
    "toplam_puanlar[\"total_puan\"] = toplam_puanlar[\"puan\"].fillna(0) + toplam_puanlar[\"dep_puan\"].fillna(0)\n",
    "# toplam puanlar listeminzde total puan diye değişken oluşturduj ve puan ile dep_puan değişkenlerini toplayıp\n",
    "# listemizi tamamlamış olduk"
   ]
  },
  {
   "cell_type": "code",
   "execution_count": 21,
   "id": "6af50fe3-4d1a-4600-89dc-6ab8188c5786",
   "metadata": {},
   "outputs": [],
   "source": [
    "toplam_puanlar=toplam_puanlar.sort_values(\"total_puan\",ascending=False).reset_index()"
   ]
  },
  {
   "cell_type": "code",
   "execution_count": 22,
   "id": "fa5b2eed-e87e-4b73-a93a-2a6caba977ba",
   "metadata": {},
   "outputs": [
    {
     "data": {
      "text/html": [
       "<div>\n",
       "<style scoped>\n",
       "    .dataframe tbody tr th:only-of-type {\n",
       "        vertical-align: middle;\n",
       "    }\n",
       "\n",
       "    .dataframe tbody tr th {\n",
       "        vertical-align: top;\n",
       "    }\n",
       "\n",
       "    .dataframe thead th {\n",
       "        text-align: right;\n",
       "    }\n",
       "</style>\n",
       "<table border=\"1\" class=\"dataframe\">\n",
       "  <thead>\n",
       "    <tr style=\"text-align: right;\">\n",
       "      <th></th>\n",
       "      <th>puan</th>\n",
       "      <th>dep_puan</th>\n",
       "      <th>total_puan</th>\n",
       "      <th>takim</th>\n",
       "    </tr>\n",
       "  </thead>\n",
       "  <tbody>\n",
       "    <tr>\n",
       "      <th>0</th>\n",
       "      <td>52.0</td>\n",
       "      <td>37</td>\n",
       "      <td>89.0</td>\n",
       "      <td>Manchester City</td>\n",
       "    </tr>\n",
       "    <tr>\n",
       "      <th>1</th>\n",
       "      <td>45.0</td>\n",
       "      <td>39</td>\n",
       "      <td>84.0</td>\n",
       "      <td>Arsenal</td>\n",
       "    </tr>\n",
       "    <tr>\n",
       "      <th>2</th>\n",
       "      <td>48.0</td>\n",
       "      <td>27</td>\n",
       "      <td>75.0</td>\n",
       "      <td>Manchester United</td>\n",
       "    </tr>\n",
       "    <tr>\n",
       "      <th>3</th>\n",
       "      <td>39.0</td>\n",
       "      <td>32</td>\n",
       "      <td>71.0</td>\n",
       "      <td>Newcastle United</td>\n",
       "    </tr>\n",
       "    <tr>\n",
       "      <th>4</th>\n",
       "      <td>44.0</td>\n",
       "      <td>23</td>\n",
       "      <td>67.0</td>\n",
       "      <td>Liverpool</td>\n",
       "    </tr>\n",
       "  </tbody>\n",
       "</table>\n",
       "</div>"
      ],
      "text/plain": [
       "   puan  dep_puan  total_puan              takim\n",
       "0  52.0        37        89.0    Manchester City\n",
       "1  45.0        39        84.0            Arsenal\n",
       "2  48.0        27        75.0  Manchester United\n",
       "3  39.0        32        71.0   Newcastle United\n",
       "4  44.0        23        67.0          Liverpool"
      ]
     },
     "execution_count": 22,
     "metadata": {},
     "output_type": "execute_result"
    }
   ],
   "source": [
    "for i in range(len(toplam_puanlar)):\n",
    "    toplam_puanlar.loc[i,\"takim\"] = toplam_puanlar.loc[i,\"Home Team\"] \n",
    "toplam_puanlar.pop(\"Home Team\")\n",
    "toplam_puanlar.pop(\"Away Team\")\n",
    "toplam_puanlar.pop(\"index\")\n",
    "toplam_puanlar.head()"
   ]
  },
  {
   "cell_type": "markdown",
   "id": "046db284-24d9-434f-8dab-05a02d095aa7",
   "metadata": {},
   "source": [
    "### ŞAMPİYON MANCHESTER CITY\n",
    "### MANCHESTER IS BLUE"
   ]
  },
  {
   "cell_type": "code",
   "execution_count": 24,
   "id": "ceb0c0b8-f807-4eb6-9521-faa3b2811205",
   "metadata": {},
   "outputs": [
    {
     "data": {
      "image/png": "[encoded data removed]",
      "text/plain": [
       "<Figure size 640x480 with 1 Axes>"
      ]
     },
     "metadata": {},
     "output_type": "display_data"
    }
   ],
   "source": [
    "sns.boxplot(y=\"total_puan\",data = toplam_puanlar)\n",
    "plt.title(\"Toplam Puan\")\n",
    "plt.show()\n",
    "# takımlara ait puanların aykırı değerlerini kontrol ediyoruz. burda aykırı değer olarak \n",
    "# bakıyoruz ama analiz ederken çok iyi sezon geçirmiş ya da çok kötü sezon geçirmiş olarak da düşünmek gerek"
   ]
  },
  {
   "cell_type": "code",
   "execution_count": 25,
   "id": "9d67eb1e-7667-42bf-b6e1-f5da9fa12e23",
   "metadata": {},
   "outputs": [
    {
     "data": {
      "image/png": "[encoded data removed]",
      "text/plain": [
       "<Figure size 500x500 with 1 Axes>"
      ]
     },
     "metadata": {},
     "output_type": "display_data"
    }
   ],
   "source": [
    "sns.catplot(x=\"takim\",y=\"total_puan\",data = toplam_puanlar,hue=\"takim\", kind=\"bar\")\n",
    "plt.xticks(rotation=45, ha=\"right\",fontsize=8)\n",
    "plt.xlabel(\"Takımlar\")\n",
    "plt.ylabel(\"Puanlar\")\n",
    "plt.show()\n",
    "# her takımın toplam puanlarının karşılaştırılması"
   ]
  },
  {
   "cell_type": "code",
   "execution_count": 26,
   "id": "c89a6f81-f434-4e97-9b13-4db666fc161f",
   "metadata": {},
   "outputs": [
    {
     "data": {
      "image/png": "[encoded data removed]",
      "text/plain": [
       "<Figure size 640x480 with 1 Axes>"
      ]
     },
     "metadata": {},
     "output_type": "display_data"
    }
   ],
   "source": [
    "sns.set_style(\"whitegrid\")\n",
    "sns.scatterplot(x=df[\"Goals Home\"],y=df[\"Away Goals\"],hue=df[\"Home Team\"])\n",
    "plt.legend(prop={'size': 5}, loc='upper right',title = \"Ev takımı\")\n",
    "plt.title(\"Gol Karşılaştırmaları\")\n",
    "plt.xlabel(\"Ev Takımı\")\n",
    "plt.ylabel(\"Deplasman Takımı\")\n",
    "plt.show()\n",
    "# ev sahibi kac gol attiginda rakip takim ona kac gol atmis karsilastirmasi"
   ]
  },
  {
   "cell_type": "code",
   "execution_count": 27,
   "id": "c2cb60e0-3dbe-439b-8e4c-a595d1ff5905",
   "metadata": {},
   "outputs": [
    {
     "data": {
      "image/png": "[encoded data removed]",
      "text/plain": [
       "<Figure size 640x480 with 1 Axes>"
      ]
     },
     "metadata": {},
     "output_type": "display_data"
    }
   ],
   "source": [
    "sns.set_style(\"darkgrid\") \n",
    "sns.regplot(x=df[\"home_possessions\"],y=df[\"away_possessions\"],marker=\"o\",scatter_kws={\"alpha\":0.2})\n",
    "plt.title(\"Karşılıklı Pozisyona Girme\")\n",
    "plt.xlabel(\"Ev Pozisyon\")\n",
    "plt.ylabel(\"Deplasman Pozisyon\")\n",
    "plt.show()"
   ]
  },
  {
   "cell_type": "code",
   "execution_count": 28,
   "id": "5906a938-b692-49a1-8a99-7e5934025d90",
   "metadata": {},
   "outputs": [],
   "source": [
    "# şimdi şöyle bir şey yapmak istiyorum. bunu sadece manchester city icin yapacağım\n",
    "# tabloyu ters çevirip her bir puan alışında sonraki puana onu ekleyip çizgi grafiğiyle puanının\n",
    "# nasıl arttığını göreceğiz. bir de arsenal ya da sonuncu takım için yaparız bakalım.\n",
    "df_yeni = df.iloc[::-1].reset_index(drop=True)"
   ]
  },
  {
   "cell_type": "code",
   "execution_count": 29,
   "id": "4209393d-9f3c-4081-adb4-3b8d8c8fa7ff",
   "metadata": {},
   "outputs": [],
   "source": [
    "df_ev = df_yeni.query('`Home Team` == \"Manchester City\" ')\n",
    "df_dep = df_yeni.query('`Away Team`== \"Manchester City\"')"
   ]
  },
  {
   "cell_type": "code",
   "execution_count": 30,
   "id": "9c0d28bf-01ea-4d14-9ace-be1e2f9fe3d9",
   "metadata": {},
   "outputs": [
    {
     "data": {
      "text/html": [
       "<div>\n",
       "<style scoped>\n",
       "    .dataframe tbody tr th:only-of-type {\n",
       "        vertical-align: middle;\n",
       "    }\n",
       "\n",
       "    .dataframe tbody tr th {\n",
       "        vertical-align: top;\n",
       "    }\n",
       "\n",
       "    .dataframe thead th {\n",
       "        text-align: right;\n",
       "    }\n",
       "</style>\n",
       "<table border=\"1\" class=\"dataframe\">\n",
       "  <thead>\n",
       "    <tr style=\"text-align: right;\">\n",
       "      <th></th>\n",
       "      <th>stadium</th>\n",
       "      <th>attendance</th>\n",
       "      <th>Home Team</th>\n",
       "      <th>Goals Home</th>\n",
       "      <th>Away Team</th>\n",
       "      <th>Away Goals</th>\n",
       "      <th>home_possessions</th>\n",
       "      <th>away_possessions</th>\n",
       "      <th>home_shots</th>\n",
       "      <th>away_shots</th>\n",
       "      <th>...</th>\n",
       "      <th>home_yellow</th>\n",
       "      <th>away_yellow</th>\n",
       "      <th>home_red</th>\n",
       "      <th>away_red</th>\n",
       "      <th>Yil</th>\n",
       "      <th>Ay</th>\n",
       "      <th>Gun</th>\n",
       "      <th>gol_fark</th>\n",
       "      <th>puan</th>\n",
       "      <th>dep_puan</th>\n",
       "    </tr>\n",
       "  </thead>\n",
       "  <tbody>\n",
       "    <tr>\n",
       "      <th>13</th>\n",
       "      <td>Etihad Stadium</td>\n",
       "      <td>53,453</td>\n",
       "      <td>Manchester City</td>\n",
       "      <td>4</td>\n",
       "      <td>Bournemouth</td>\n",
       "      <td>0</td>\n",
       "      <td>66.7</td>\n",
       "      <td>33.3</td>\n",
       "      <td>19</td>\n",
       "      <td>3</td>\n",
       "      <td>...</td>\n",
       "      <td>0</td>\n",
       "      <td>3</td>\n",
       "      <td>0</td>\n",
       "      <td>0</td>\n",
       "      <td>2022</td>\n",
       "      <td>8</td>\n",
       "      <td>1</td>\n",
       "      <td>4</td>\n",
       "      <td>3.0</td>\n",
       "      <td>0</td>\n",
       "    </tr>\n",
       "    <tr>\n",
       "      <th>31</th>\n",
       "      <td>Etihad Stadium</td>\n",
       "      <td>53,112</td>\n",
       "      <td>Manchester City</td>\n",
       "      <td>4</td>\n",
       "      <td>Crystal Palace</td>\n",
       "      <td>2</td>\n",
       "      <td>74.3</td>\n",
       "      <td>25.7</td>\n",
       "      <td>18</td>\n",
       "      <td>2</td>\n",
       "      <td>...</td>\n",
       "      <td>1</td>\n",
       "      <td>2</td>\n",
       "      <td>0</td>\n",
       "      <td>0</td>\n",
       "      <td>2022</td>\n",
       "      <td>8</td>\n",
       "      <td>1</td>\n",
       "      <td>2</td>\n",
       "      <td>3.0</td>\n",
       "      <td>0</td>\n",
       "    </tr>\n",
       "    <tr>\n",
       "      <th>46</th>\n",
       "      <td>Etihad Stadium</td>\n",
       "      <td>53,409</td>\n",
       "      <td>Manchester City</td>\n",
       "      <td>6</td>\n",
       "      <td>Nottingham Forest</td>\n",
       "      <td>0</td>\n",
       "      <td>74.9</td>\n",
       "      <td>25.1</td>\n",
       "      <td>17</td>\n",
       "      <td>8</td>\n",
       "      <td>...</td>\n",
       "      <td>0</td>\n",
       "      <td>1</td>\n",
       "      <td>0</td>\n",
       "      <td>0</td>\n",
       "      <td>2022</td>\n",
       "      <td>8</td>\n",
       "      <td>1</td>\n",
       "      <td>6</td>\n",
       "      <td>3.0</td>\n",
       "      <td>0</td>\n",
       "    </tr>\n",
       "    <tr>\n",
       "      <th>75</th>\n",
       "      <td>Etihad Stadium</td>\n",
       "      <td>53,475</td>\n",
       "      <td>Manchester City</td>\n",
       "      <td>6</td>\n",
       "      <td>Manchester United</td>\n",
       "      <td>3</td>\n",
       "      <td>53.9</td>\n",
       "      <td>46.1</td>\n",
       "      <td>22</td>\n",
       "      <td>12</td>\n",
       "      <td>...</td>\n",
       "      <td>0</td>\n",
       "      <td>3</td>\n",
       "      <td>0</td>\n",
       "      <td>0</td>\n",
       "      <td>2022</td>\n",
       "      <td>10</td>\n",
       "      <td>1</td>\n",
       "      <td>3</td>\n",
       "      <td>3.0</td>\n",
       "      <td>0</td>\n",
       "    </tr>\n",
       "    <tr>\n",
       "      <th>79</th>\n",
       "      <td>Etihad Stadium</td>\n",
       "      <td>53,365</td>\n",
       "      <td>Manchester City</td>\n",
       "      <td>4</td>\n",
       "      <td>Southampton</td>\n",
       "      <td>0</td>\n",
       "      <td>65.2</td>\n",
       "      <td>34.8</td>\n",
       "      <td>21</td>\n",
       "      <td>5</td>\n",
       "      <td>...</td>\n",
       "      <td>0</td>\n",
       "      <td>1</td>\n",
       "      <td>0</td>\n",
       "      <td>0</td>\n",
       "      <td>2022</td>\n",
       "      <td>10</td>\n",
       "      <td>1</td>\n",
       "      <td>4</td>\n",
       "      <td>3.0</td>\n",
       "      <td>0</td>\n",
       "    </tr>\n",
       "  </tbody>\n",
       "</table>\n",
       "<p>5 rows × 42 columns</p>\n",
       "</div>"
      ],
      "text/plain": [
       "           stadium attendance        Home Team  Goals Home          Away Team  \\\n",
       "13  Etihad Stadium     53,453  Manchester City           4        Bournemouth   \n",
       "31  Etihad Stadium     53,112  Manchester City           4     Crystal Palace   \n",
       "46  Etihad Stadium     53,409  Manchester City           6  Nottingham Forest   \n",
       "75  Etihad Stadium     53,475  Manchester City           6  Manchester United   \n",
       "79  Etihad Stadium     53,365  Manchester City           4        Southampton   \n",
       "\n",
       "    Away Goals  home_possessions  away_possessions  home_shots  away_shots  \\\n",
       "13           0              66.7              33.3          19           3   \n",
       "31           2              74.3              25.7          18           2   \n",
       "46           0              74.9              25.1          17           8   \n",
       "75           3              53.9              46.1          22          12   \n",
       "79           0              65.2              34.8          21           5   \n",
       "\n",
       "    ...  home_yellow  away_yellow  home_red  away_red   Yil  Ay  Gun  \\\n",
       "13  ...            0            3         0         0  2022   8    1   \n",
       "31  ...            1            2         0         0  2022   8    1   \n",
       "46  ...            0            1         0         0  2022   8    1   \n",
       "75  ...            0            3         0         0  2022  10    1   \n",
       "79  ...            0            1         0         0  2022  10    1   \n",
       "\n",
       "    gol_fark  puan  dep_puan  \n",
       "13         4   3.0         0  \n",
       "31         2   3.0         0  \n",
       "46         6   3.0         0  \n",
       "75         3   3.0         0  \n",
       "79         4   3.0         0  \n",
       "\n",
       "[5 rows x 42 columns]"
      ]
     },
     "execution_count": 30,
     "metadata": {},
     "output_type": "execute_result"
    }
   ],
   "source": [
    "mc_df = pd.concat([df_ev,df_dep],axis=0)\n",
    "mc_df.head()"
   ]
  },
  {
   "cell_type": "code",
   "execution_count": 31,
   "id": "95b44c4a-dc74-4f4e-96ab-d21b0a7999ee",
   "metadata": {},
   "outputs": [],
   "source": [
    "mc_df = mc_df.sort_index()\n",
    "mc_df = mc_df.reset_index()"
   ]
  },
  {
   "cell_type": "code",
   "execution_count": 32,
   "id": "ea2af804-5097-4a48-95b3-91a4858c61f3",
   "metadata": {},
   "outputs": [
    {
     "data": {
      "text/html": [
       "<div>\n",
       "<style scoped>\n",
       "    .dataframe tbody tr th:only-of-type {\n",
       "        vertical-align: middle;\n",
       "    }\n",
       "\n",
       "    .dataframe tbody tr th {\n",
       "        vertical-align: top;\n",
       "    }\n",
       "\n",
       "    .dataframe thead th {\n",
       "        text-align: right;\n",
       "    }\n",
       "</style>\n",
       "<table border=\"1\" class=\"dataframe\">\n",
       "  <thead>\n",
       "    <tr style=\"text-align: right;\">\n",
       "      <th></th>\n",
       "      <th>stadium</th>\n",
       "      <th>attendance</th>\n",
       "      <th>Home Team</th>\n",
       "      <th>Goals Home</th>\n",
       "      <th>Away Team</th>\n",
       "      <th>Away Goals</th>\n",
       "      <th>home_possessions</th>\n",
       "      <th>away_possessions</th>\n",
       "      <th>home_shots</th>\n",
       "      <th>away_shots</th>\n",
       "      <th>...</th>\n",
       "      <th>home_yellow</th>\n",
       "      <th>away_yellow</th>\n",
       "      <th>home_red</th>\n",
       "      <th>away_red</th>\n",
       "      <th>Yil</th>\n",
       "      <th>Ay</th>\n",
       "      <th>Gun</th>\n",
       "      <th>gol_fark</th>\n",
       "      <th>puan</th>\n",
       "      <th>dep_puan</th>\n",
       "    </tr>\n",
       "  </thead>\n",
       "  <tbody>\n",
       "    <tr>\n",
       "      <th>0</th>\n",
       "      <td>London Stadium</td>\n",
       "      <td>62,443</td>\n",
       "      <td>West Ham United</td>\n",
       "      <td>0</td>\n",
       "      <td>Manchester City</td>\n",
       "      <td>2</td>\n",
       "      <td>24.6</td>\n",
       "      <td>75.4</td>\n",
       "      <td>6</td>\n",
       "      <td>14</td>\n",
       "      <td>...</td>\n",
       "      <td>0</td>\n",
       "      <td>1</td>\n",
       "      <td>0</td>\n",
       "      <td>0</td>\n",
       "      <td>2022</td>\n",
       "      <td>8</td>\n",
       "      <td>1</td>\n",
       "      <td>-2</td>\n",
       "      <td>0</td>\n",
       "      <td>3</td>\n",
       "    </tr>\n",
       "    <tr>\n",
       "      <th>1</th>\n",
       "      <td>Etihad Stadium</td>\n",
       "      <td>53,453</td>\n",
       "      <td>Manchester City</td>\n",
       "      <td>4</td>\n",
       "      <td>Bournemouth</td>\n",
       "      <td>0</td>\n",
       "      <td>66.7</td>\n",
       "      <td>33.3</td>\n",
       "      <td>19</td>\n",
       "      <td>3</td>\n",
       "      <td>...</td>\n",
       "      <td>0</td>\n",
       "      <td>3</td>\n",
       "      <td>0</td>\n",
       "      <td>0</td>\n",
       "      <td>2022</td>\n",
       "      <td>8</td>\n",
       "      <td>1</td>\n",
       "      <td>4</td>\n",
       "      <td>3</td>\n",
       "      <td>0</td>\n",
       "    </tr>\n",
       "    <tr>\n",
       "      <th>2</th>\n",
       "      <td>St James' Park, Newcastle</td>\n",
       "      <td>52,258</td>\n",
       "      <td>Newcastle United</td>\n",
       "      <td>3</td>\n",
       "      <td>Manchester City</td>\n",
       "      <td>3</td>\n",
       "      <td>31.3</td>\n",
       "      <td>68.7</td>\n",
       "      <td>12</td>\n",
       "      <td>21</td>\n",
       "      <td>...</td>\n",
       "      <td>4</td>\n",
       "      <td>2</td>\n",
       "      <td>0</td>\n",
       "      <td>0</td>\n",
       "      <td>2022</td>\n",
       "      <td>8</td>\n",
       "      <td>1</td>\n",
       "      <td>0</td>\n",
       "      <td>1</td>\n",
       "      <td>1</td>\n",
       "    </tr>\n",
       "    <tr>\n",
       "      <th>3</th>\n",
       "      <td>Etihad Stadium</td>\n",
       "      <td>53,112</td>\n",
       "      <td>Manchester City</td>\n",
       "      <td>4</td>\n",
       "      <td>Crystal Palace</td>\n",
       "      <td>2</td>\n",
       "      <td>74.3</td>\n",
       "      <td>25.7</td>\n",
       "      <td>18</td>\n",
       "      <td>2</td>\n",
       "      <td>...</td>\n",
       "      <td>1</td>\n",
       "      <td>2</td>\n",
       "      <td>0</td>\n",
       "      <td>0</td>\n",
       "      <td>2022</td>\n",
       "      <td>8</td>\n",
       "      <td>1</td>\n",
       "      <td>2</td>\n",
       "      <td>3</td>\n",
       "      <td>0</td>\n",
       "    </tr>\n",
       "    <tr>\n",
       "      <th>4</th>\n",
       "      <td>Etihad Stadium</td>\n",
       "      <td>53,409</td>\n",
       "      <td>Manchester City</td>\n",
       "      <td>6</td>\n",
       "      <td>Nottingham Forest</td>\n",
       "      <td>0</td>\n",
       "      <td>74.9</td>\n",
       "      <td>25.1</td>\n",
       "      <td>17</td>\n",
       "      <td>8</td>\n",
       "      <td>...</td>\n",
       "      <td>0</td>\n",
       "      <td>1</td>\n",
       "      <td>0</td>\n",
       "      <td>0</td>\n",
       "      <td>2022</td>\n",
       "      <td>8</td>\n",
       "      <td>1</td>\n",
       "      <td>6</td>\n",
       "      <td>3</td>\n",
       "      <td>0</td>\n",
       "    </tr>\n",
       "  </tbody>\n",
       "</table>\n",
       "<p>5 rows × 42 columns</p>\n",
       "</div>"
      ],
      "text/plain": [
       "                     stadium attendance         Home Team  Goals Home  \\\n",
       "0             London Stadium     62,443   West Ham United           0   \n",
       "1             Etihad Stadium     53,453   Manchester City           4   \n",
       "2  St James' Park, Newcastle     52,258  Newcastle United           3   \n",
       "3             Etihad Stadium     53,112   Manchester City           4   \n",
       "4             Etihad Stadium     53,409   Manchester City           6   \n",
       "\n",
       "           Away Team  Away Goals  home_possessions  away_possessions  \\\n",
       "0    Manchester City           2              24.6              75.4   \n",
       "1        Bournemouth           0              66.7              33.3   \n",
       "2    Manchester City           3              31.3              68.7   \n",
       "3     Crystal Palace           2              74.3              25.7   \n",
       "4  Nottingham Forest           0              74.9              25.1   \n",
       "\n",
       "   home_shots  away_shots  ...  home_yellow  away_yellow  home_red  away_red  \\\n",
       "0           6          14  ...            0            1         0         0   \n",
       "1          19           3  ...            0            3         0         0   \n",
       "2          12          21  ...            4            2         0         0   \n",
       "3          18           2  ...            1            2         0         0   \n",
       "4          17           8  ...            0            1         0         0   \n",
       "\n",
       "    Yil  Ay  Gun  gol_fark  puan  dep_puan  \n",
       "0  2022   8    1        -2     0         3  \n",
       "1  2022   8    1         4     3         0  \n",
       "2  2022   8    1         0     1         1  \n",
       "3  2022   8    1         2     3         0  \n",
       "4  2022   8    1         6     3         0  \n",
       "\n",
       "[5 rows x 42 columns]"
      ]
     },
     "execution_count": 32,
     "metadata": {},
     "output_type": "execute_result"
    }
   ],
   "source": [
    "mc_df[\"puan\"] = mc_df[\"puan\"].astype(int)\n",
    "# float tipiydi şimdi fark ettim integer yaptım.\n",
    "mc_df.pop(\"index\")\n",
    "mc_df.head()"
   ]
  },
  {
   "cell_type": "code",
   "execution_count": 33,
   "id": "b3073468-3500-491f-a344-270d0d283b9f",
   "metadata": {},
   "outputs": [],
   "source": [
    "mc_df[\"toplam_puan\"] = 0\n",
    "for i in range(len(mc_df)):\n",
    "    if i == 0:  \n",
    "        if mc_df.loc[i, \"Home Team\"] == \"Manchester City\":\n",
    "            mc_df.loc[i, \"toplam_puan\"] = mc_df.loc[i, \"puan\"]\n",
    "        elif mc_df.loc[i, \"Away Team\"] == \"Manchester City\":\n",
    "            mc_df.loc[i, \"toplam_puan\"] = mc_df.loc[i, \"dep_puan\"]\n",
    "    else:  \n",
    "        if mc_df.loc[i, \"Home Team\"] == \"Manchester City\":\n",
    "            mc_df.loc[i, \"toplam_puan\"] = mc_df.loc[i-1, \"toplam_puan\"] + mc_df.loc[i, \"puan\"]\n",
    "        elif mc_df.loc[i, \"Away Team\"] == \"Manchester City\":\n",
    "            mc_df.loc[i, \"toplam_puan\"] = mc_df.loc[i-1, \"toplam_puan\"] + mc_df.loc[i, \"dep_puan\"]"
   ]
  },
  {
   "cell_type": "code",
   "execution_count": 34,
   "id": "1795e843-bbb3-4645-bb2d-b19361b49772",
   "metadata": {},
   "outputs": [
    {
     "data": {
      "text/plain": [
       "0     3\n",
       "1     6\n",
       "2     7\n",
       "3    10\n",
       "4    13\n",
       "Name: toplam_puan, dtype: int64"
      ]
     },
     "execution_count": 34,
     "metadata": {},
     "output_type": "execute_result"
    }
   ],
   "source": [
    "mc_df[\"toplam_puan\"].head()"
   ]
  },
  {
   "cell_type": "markdown",
   "id": "7903de0d-9701-4af1-b75d-0834b79ad1bb",
   "metadata": {},
   "source": [
    "# Açıklayalım:\n",
    "kodumuzun ilk if kısmı ilk haftaya ait kısım oluyor. burada ilk haftaysa eğer direkt o puanı ata\n",
    "demek için böyle bir yola gittim. sonrasında ise puanı sürekli üstüne ekleme işlemiyle devam ettim.\n",
    "bu şekilde her hafta yeni veri çerçevemde yeni sütunuma veriyi sürekli güncelleyerek sonunda puanıma ulaştım"
   ]
  },
  {
   "cell_type": "code",
   "execution_count": 36,
   "id": "1bb1141d-6586-45bb-8255-ef30ecf39182",
   "metadata": {},
   "outputs": [
    {
     "data": {
      "text/plain": [
       "Text(0.5, 1.0, 'MC Haftalık Puan Artışı')"
      ]
     },
     "execution_count": 36,
     "metadata": {},
     "output_type": "execute_result"
    },
    {
     "data": {
      "image/png": "[encoded data removed]",
      "text/plain": [
       "<Figure size 640x480 with 1 Axes>"
      ]
     },
     "metadata": {},
     "output_type": "display_data"
    }
   ],
   "source": [
    "sns.set_style(\"white\")\n",
    "sns.lineplot(x=range(len(mc_df)), y=mc_df[\"toplam_puan\"])\n",
    "plt.xlabel(\"Haftalar\")\n",
    "plt.ylabel(\"Puan Artışı\")\n",
    "plt.title(\"MC Haftalık Puan Artışı\")"
   ]
  },
  {
   "cell_type": "markdown",
   "id": "0b06aba1-483f-4e19-8019-57a0e39644c3",
   "metadata": {},
   "source": [
    "Manchester City takımının puan artışını bu şekilde grafikleştirdik. en yakın rakibi Arsenal'ı da grafiğin üstüne eklemek için yapalım"
   ]
  },
  {
   "cell_type": "code",
   "execution_count": 38,
   "id": "aa597bff-985d-47f1-a877-863a21aaba84",
   "metadata": {},
   "outputs": [],
   "source": [
    "ars_df = pd.DataFrame()\n",
    "for i in range(len(df_yeni)):\n",
    "    if i == 0:  \n",
    "        if df_yeni.loc[i, \"Home Team\"] == \"Arsenal\":\n",
    "            ars_df.loc[i, \"toplam_puan\"] = df_yeni.loc[i, \"puan\"]\n",
    "        elif df_yeni.loc[i, \"Away Team\"] == \"Arsenal\":\n",
    "            ars_df.loc[i, \"toplam_puan\"] = df_yeni.loc[i, \"dep_puan\"]\n",
    "    else:  \n",
    "        if df_yeni.loc[i, \"Home Team\"] == \"Arsenal\":\n",
    "            ars_df.loc[i, \"toplam_puan\"] = max(ars_df[\"toplam_puan\"]) + df_yeni.loc[i, \"puan\"]\n",
    "        elif df_yeni.loc[i, \"Away Team\"] == \"Arsenal\":\n",
    "            ars_df.loc[i, \"toplam_puan\"] = max(ars_df[\"toplam_puan\"]) + df_yeni.loc[i, \"dep_puan\"]"
   ]
  },
  {
   "cell_type": "markdown",
   "id": "aa3139e3-dab8-4662-a675-d6d75c3af5a0",
   "metadata": {},
   "source": [
    "Burada biraz aydınlanma yaşadım ve yeni data frame oluşturup da içine arsenalları doldurup da\n",
    "sonra onları birleştirmeye gerek duymadığımı anladım bu şekilde hallettim.\n",
    "diğeri de en azından pratik oldu diye bırakıyorum"
   ]
  },
  {
   "cell_type": "code",
   "execution_count": 40,
   "id": "a4d795bb-7be8-4081-9513-012ae352b154",
   "metadata": {},
   "outputs": [
    {
     "data": {
      "text/html": [
       "<div>\n",
       "<style scoped>\n",
       "    .dataframe tbody tr th:only-of-type {\n",
       "        vertical-align: middle;\n",
       "    }\n",
       "\n",
       "    .dataframe tbody tr th {\n",
       "        vertical-align: top;\n",
       "    }\n",
       "\n",
       "    .dataframe thead th {\n",
       "        text-align: right;\n",
       "    }\n",
       "</style>\n",
       "<table border=\"1\" class=\"dataframe\">\n",
       "  <thead>\n",
       "    <tr style=\"text-align: right;\">\n",
       "      <th></th>\n",
       "      <th>toplam_puan</th>\n",
       "    </tr>\n",
       "  </thead>\n",
       "  <tbody>\n",
       "    <tr>\n",
       "      <th>0</th>\n",
       "      <td>3.0</td>\n",
       "    </tr>\n",
       "    <tr>\n",
       "      <th>1</th>\n",
       "      <td>6.0</td>\n",
       "    </tr>\n",
       "    <tr>\n",
       "      <th>2</th>\n",
       "      <td>9.0</td>\n",
       "    </tr>\n",
       "    <tr>\n",
       "      <th>3</th>\n",
       "      <td>12.0</td>\n",
       "    </tr>\n",
       "    <tr>\n",
       "      <th>4</th>\n",
       "      <td>15.0</td>\n",
       "    </tr>\n",
       "  </tbody>\n",
       "</table>\n",
       "</div>"
      ],
      "text/plain": [
       "   toplam_puan\n",
       "0          3.0\n",
       "1          6.0\n",
       "2          9.0\n",
       "3         12.0\n",
       "4         15.0"
      ]
     },
     "execution_count": 40,
     "metadata": {},
     "output_type": "execute_result"
    }
   ],
   "source": [
    "ars_df = ars_df.reset_index()\n",
    "ars_df.pop(\"index\")\n",
    "ars_df.head()\n",
    "# indexleri de sıfırladık çünkü o haftaya ait indexler geliyordu\n",
    "# 0dan baslicak sekilde aldık indexleri."
   ]
  },
  {
   "cell_type": "code",
   "execution_count": 41,
   "id": "135dcf41-b4d4-4a4c-9e0d-943a4e989765",
   "metadata": {},
   "outputs": [
    {
     "data": {
      "text/plain": [
       "<matplotlib.legend.Legend at 0x1d8da864260>"
      ]
     },
     "execution_count": 41,
     "metadata": {},
     "output_type": "execute_result"
    },
    {
     "data": {
      "image/png": "[encoded data removed]",
      "text/plain": [
       "<Figure size 640x480 with 1 Axes>"
      ]
     },
     "metadata": {},
     "output_type": "display_data"
    }
   ],
   "source": [
    "sns.set_style(\"white\")\n",
    "sns.lineplot(x=range(len(mc_df)), y=mc_df[\"toplam_puan\"],label=\"Manchester City\",color=\"blue\")\n",
    "sns.lineplot(x=range(len(ars_df)), y=ars_df[\"toplam_puan\"],label=\"Arsenal\",color=\"red\")\n",
    "plt.xlabel(\"Haftalar\")\n",
    "plt.ylabel(\"Puan Artışı\")\n",
    "plt.title(\"MC-ARS Haftalık Puan Artışı\")\n",
    "plt.legend(prop={'size': 8}, loc='upper left',title = \"Takımlar\")"
   ]
  },
  {
   "cell_type": "markdown",
   "id": "be93b957-7565-4586-9a4e-60a0ec0a0a8a",
   "metadata": {},
   "source": [
    "\"30. haftadan sonra Arsenal liderliği kaptırmış.... yazık oldu\n",
    "    "
   ]
  },
  {
   "cell_type": "code",
   "execution_count": 43,
   "id": "e7e6fd48-cd0c-4c67-8267-1c3b71b515a5",
   "metadata": {},
   "outputs": [
    {
     "data": {
      "image/png": "[encoded data removed]",
      "text/plain": [
       "<Figure size 640x480 with 2 Axes>"
      ]
     },
     "metadata": {},
     "output_type": "display_data"
    }
   ],
   "source": [
    "fig, ax =plt.subplots(1,2)\n",
    "sns.countplot(x='Goals Home', data=df, ax=ax[0])\n",
    "sns.countplot(x='Away Goals', data=df, ax=ax[1])\n",
    "plt.show()\n",
    "# ev sahibi olanların ve deplasman takımlarının toplam gol sayılarını gösteren bir grafiğimiz"
   ]
  },
  {
   "cell_type": "code",
   "execution_count": 44,
   "id": "7c3a4266-52fe-4563-a2ca-e770bcbda254",
   "metadata": {},
   "outputs": [
    {
     "data": {
      "image/png": "[encoded data removed]",
      "text/plain": [
       "<Figure size 640x480 with 1 Axes>"
      ]
     },
     "metadata": {},
     "output_type": "display_data"
    }
   ],
   "source": [
    "sns.scatterplot(x=\"away_yellow\",y=\"away_red\",data=df)\n",
    "plt.title(\"Deplasman Sarı/Kırmızı Kart Karşılaştırılması\")\n",
    "plt.xlabel(\"Sarı Kart\")\n",
    "plt.ylabel(\"Kırmıız Kart\")\n",
    "plt.show()\n",
    "# sarı kart ve kırmızıı kart karşılaştırma grafiği"
   ]
  },
  {
   "cell_type": "code",
   "execution_count": 45,
   "id": "3170c7bf-1839-415a-a107-c25cb9df59f9",
   "metadata": {},
   "outputs": [
    {
     "data": {
      "image/png": "[encoded data removed]",
      "text/plain": [
       "<Figure size 640x480 with 1 Axes>"
      ]
     },
     "metadata": {},
     "output_type": "display_data"
    }
   ],
   "source": [
    "sns.scatterplot(x=\"home_yellow\",y=\"away_yellow\",s=df[\"home_possessions\"],data=df,label=\"home_possessions\")\n",
    "plt.title(\"Sarı Kart Karşılaştırılması\")\n",
    "plt.xlabel(\"Ev Sahibi\")\n",
    "plt.ylabel(\"Deplasman\")\n",
    "plt.legend()\n",
    "plt.show()\n",
    "# ev sahibiyle deplasman takımının yedikleri sarı kartların karşılaştırmaları\n",
    "# ev sahibinin pozisyona girmesiyle nokta boyları orantılıdır."
   ]
  },
  {
   "cell_type": "code",
   "execution_count": 47,
   "id": "1cbb29fb-9aa6-403c-809c-d92689f01e1a",
   "metadata": {},
   "outputs": [],
   "source": [
    "import plotly.express as px"
   ]
  },
  {
   "cell_type": "code",
   "execution_count": 53,
   "id": "534b00a3-c356-49f1-9ba5-0879501536b4",
   "metadata": {},
   "outputs": [
    {
     "data": {
      "text/plain": [
       "Index(['stadium', 'attendance', 'Home Team', 'Goals Home', 'Away Team',\n",
       "       'Away Goals', 'home_possessions', 'away_possessions', 'home_shots',\n",
       "       'away_shots', 'home_on', 'away_on', 'home_off', 'away_off',\n",
       "       'home_blocked', 'away_blocked', 'home_pass', 'away_pass',\n",
       "       'home_chances', 'away_chances', 'home_corners', 'away_corners',\n",
       "       'home_offside', 'away_offside', 'home_tackles', 'away_tackles',\n",
       "       'home_duels', 'away_duels', 'home_saves', 'away_saves', 'home_fouls',\n",
       "       'away_fouls', 'home_yellow', 'away_yellow', 'home_red', 'away_red',\n",
       "       'Yil', 'Ay', 'Gun', 'gol_fark', 'puan', 'dep_puan'],\n",
       "      dtype='object')"
      ]
     },
     "execution_count": 53,
     "metadata": {},
     "output_type": "execute_result"
    }
   ],
   "source": [
    "df.columns"
   ]
  },
  {
   "cell_type": "code",
   "execution_count": 81,
   "id": "200e9733-3e9b-45e4-a606-86aeb2541ff9",
   "metadata": {},
   "outputs": [],
   "source": [
    "onemli = df[[\"Goals Home\",\"Away Goals\",\"home_possessions\",\"away_possessions\"]]"
   ]
  },
  {
   "cell_type": "code",
   "execution_count": 85,
   "id": "f41eecc3-3d58-46a7-8d51-5b8686b861dc",
   "metadata": {},
   "outputs": [
    {
     "data": {
      "application/vnd.plotly.v1+json": {
       "config": {
        "plotlyServerURL": "https://plot.ly"
       },
       "data": [
        {
         "dimensions": [
          {
           "axis": {
            "matches": true
           },
           "label": "Goals Home",
           "values": [
            5,
            2,
            1,
            1,
            1,
            1,
            1,
            2,
            2,
            4,
            4,
            1,
            0,
            3,
            3,
            1,
            1,
            0,
            2,
            1,
            1,
            1,
            4,
            0,
            2,
            0,
            0,
            2,
            2,
            2,
            2,
            2,
            0,
            5,
            1,
            4,
            0,
            1,
            1,
            2,
            1,
            1,
            1,
            1,
            1,
            3,
            3,
            2,
            4,
            1,
            1,
            3,
            4,
            4,
            2,
            6,
            1,
            0,
            2,
            3,
            0,
            1,
            4,
            2,
            1,
            1,
            0,
            6,
            2,
            1,
            0,
            2,
            3,
            3,
            1,
            2,
            0,
            3,
            1,
            1,
            0,
            2,
            2,
            3,
            1,
            2,
            2,
            2,
            1,
            0,
            0,
            2,
            1,
            1,
            1,
            1,
            0,
            2,
            1,
            0,
            1,
            1,
            2,
            4,
            4,
            2,
            3,
            2,
            1,
            0,
            4,
            3,
            1,
            3,
            2,
            2,
            1,
            1,
            0,
            0,
            0,
            1,
            2,
            1,
            1,
            2,
            1,
            3,
            0,
            3,
            2,
            7,
            2,
            3,
            1,
            4,
            1,
            1,
            1,
            4,
            2,
            2,
            0,
            1,
            0,
            4,
            1,
            0,
            1,
            3,
            2,
            2,
            1,
            0,
            0,
            1,
            1,
            0,
            0,
            1,
            2,
            0,
            3,
            1,
            1,
            1,
            2,
            4,
            1,
            1,
            2,
            1,
            1,
            1,
            2,
            3,
            1,
            2,
            3,
            1,
            0,
            0,
            0,
            3,
            3,
            0,
            1,
            2,
            0,
            2,
            0,
            4,
            1,
            1,
            1,
            0,
            2,
            3,
            1,
            2,
            1,
            2,
            2,
            2,
            0,
            0,
            2,
            1,
            0,
            0,
            1,
            0,
            3,
            3,
            0,
            1,
            0,
            0,
            2,
            1,
            0,
            2,
            0,
            2,
            1,
            2,
            3,
            2,
            0,
            1,
            0,
            1,
            1,
            3,
            1,
            1,
            1,
            3,
            3,
            1,
            4,
            0,
            1,
            0,
            0,
            3,
            1,
            1,
            1,
            4,
            2,
            2,
            2,
            0,
            5,
            1,
            0,
            2,
            1,
            4,
            1,
            4,
            0,
            1,
            2,
            4,
            2,
            1,
            0,
            1,
            1,
            3,
            3,
            1,
            3,
            2,
            0,
            0,
            1,
            1,
            2,
            0,
            2,
            0,
            0,
            0,
            1,
            1,
            0,
            2,
            1,
            2,
            2,
            1,
            2,
            3,
            3,
            1,
            2,
            3,
            4,
            5,
            0,
            4,
            6,
            0,
            3,
            0,
            1,
            1,
            3,
            1,
            2,
            0,
            1,
            0,
            1,
            6,
            1,
            2,
            5,
            3,
            0,
            5,
            2,
            0,
            2,
            2,
            1,
            1,
            0,
            2,
            0,
            6,
            1,
            2,
            1,
            2,
            2,
            1,
            0,
            1,
            0,
            0,
            1,
            1,
            2,
            9,
            4,
            2,
            2,
            3,
            0,
            3,
            1,
            3,
            1,
            3,
            1,
            0,
            1,
            1,
            2,
            2,
            4,
            0,
            4,
            2,
            0,
            4,
            2,
            1,
            0,
            2,
            2,
            2,
            2,
            4,
            0,
            0
           ]
          },
          {
           "axis": {
            "matches": true
           },
           "label": "Away Goals",
           "values": [
            0,
            1,
            0,
            1,
            1,
            0,
            4,
            1,
            1,
            4,
            1,
            1,
            0,
            1,
            1,
            0,
            3,
            1,
            2,
            1,
            1,
            0,
            1,
            3,
            0,
            3,
            3,
            2,
            1,
            2,
            0,
            0,
            2,
            3,
            5,
            3,
            2,
            0,
            3,
            1,
            0,
            0,
            0,
            0,
            0,
            0,
            1,
            2,
            1,
            2,
            0,
            1,
            3,
            3,
            1,
            0,
            4,
            1,
            2,
            1,
            2,
            2,
            1,
            0,
            0,
            1,
            4,
            1,
            1,
            1,
            0,
            1,
            2,
            3,
            6,
            2,
            2,
            0,
            2,
            3,
            2,
            3,
            0,
            1,
            5,
            2,
            0,
            0,
            2,
            1,
            1,
            1,
            0,
            4,
            0,
            5,
            2,
            1,
            2,
            0,
            1,
            0,
            0,
            1,
            1,
            1,
            3,
            1,
            1,
            2,
            1,
            0,
            1,
            3,
            4,
            2,
            2,
            0,
            2,
            3,
            0,
            1,
            1,
            0,
            0,
            2,
            3,
            1,
            1,
            2,
            2,
            0,
            0,
            2,
            0,
            0,
            0,
            0,
            0,
            0,
            0,
            0,
            2,
            0,
            1,
            0,
            4,
            0,
            1,
            0,
            0,
            4,
            1,
            1,
            1,
            0,
            1,
            1,
            2,
            3,
            0,
            2,
            1,
            1,
            1,
            1,
            0,
            1,
            2,
            1,
            2,
            0,
            0,
            0,
            4,
            0,
            0,
            1,
            0,
            1,
            0,
            1,
            0,
            0,
            2,
            0,
            1,
            2,
            1,
            0,
            0,
            2,
            1,
            0,
            0,
            2,
            1,
            0,
            2,
            0,
            0,
            0,
            1,
            1,
            1,
            1,
            2,
            1,
            4,
            0,
            4,
            1,
            0,
            1,
            2,
            1,
            1,
            2,
            1,
            1,
            0,
            4,
            2,
            1,
            3,
            0,
            0,
            2,
            3,
            2,
            3,
            3,
            3,
            1,
            2,
            2,
            2,
            0,
            1,
            0,
            3,
            2,
            0,
            2,
            1,
            1,
            4,
            2,
            2,
            3,
            1,
            2,
            3,
            2,
            0,
            0,
            1,
            3,
            1,
            1,
            0,
            0,
            0,
            2,
            0,
            0,
            3,
            1,
            4,
            2,
            0,
            0,
            1,
            1,
            0,
            0,
            1,
            0,
            0,
            0,
            0,
            0,
            1,
            2,
            1,
            0,
            1,
            0,
            0,
            2,
            0,
            0,
            0,
            1,
            1,
            1,
            2,
            2,
            1,
            0,
            0,
            1,
            1,
            0,
            3,
            0,
            1,
            0,
            2,
            4,
            3,
            2,
            0,
            3,
            0,
            3,
            1,
            2,
            0,
            3,
            2,
            1,
            0,
            2,
            1,
            0,
            3,
            1,
            0,
            1,
            1,
            1,
            0,
            0,
            1,
            1,
            1,
            1,
            1,
            1,
            1,
            1,
            2,
            1,
            1,
            0,
            1,
            0,
            2,
            1,
            1,
            0,
            2,
            3,
            0,
            1,
            1,
            2,
            2,
            3,
            1,
            0,
            2,
            1,
            2,
            0,
            0,
            2,
            0,
            0,
            2,
            2,
            2,
            2,
            0,
            1,
            0,
            1,
            1,
            2
           ]
          },
          {
           "axis": {
            "matches": true
           },
           "label": "home_possessions",
           "values": [
            51,
            40.3,
            34.4,
            64.4,
            66,
            37.8,
            52.1,
            48.2,
            53.2,
            30.9,
            41.1,
            39.6,
            77.6,
            58.8,
            63,
            64.6,
            61.8,
            41.5,
            49.5,
            66.3,
            53.2,
            18.3,
            33.7,
            33.1,
            53.1,
            36.8,
            40.9,
            36.1,
            48.7,
            76.1,
            59.8,
            48,
            35.6,
            57.1,
            77.7,
            35.9,
            54.3,
            34.6,
            34,
            80.9,
            57.5,
            38,
            53.9,
            59.6,
            57.1,
            68.9,
            54.8,
            55.3,
            42.1,
            37.4,
            57.1,
            63.4,
            67.6,
            59.9,
            68.9,
            57.2,
            39.6,
            56.5,
            39.9,
            24.8,
            72.9,
            27.4,
            51.9,
            41.2,
            51.8,
            40.8,
            64.6,
            57,
            49.3,
            42.5,
            56.9,
            41.8,
            81.1,
            74.2,
            26.4,
            28.5,
            31.8,
            52,
            42.6,
            46.5,
            58.2,
            57.4,
            50.6,
            70.6,
            48,
            59,
            63.8,
            65.3,
            41,
            76.6,
            50.8,
            35.2,
            37.6,
            27.2,
            64.7,
            42,
            36.7,
            62.4,
            35.9,
            49.6,
            39.3,
            43,
            45.7,
            68.1,
            67.1,
            42.7,
            72.2,
            51,
            27.6,
            69,
            62.2,
            55.8,
            52.9,
            50.4,
            65.9,
            68.9,
            38.4,
            57.1,
            66.4,
            44.7,
            46.7,
            40.8,
            42.1,
            30.7,
            33.3,
            38,
            48.4,
            55.2,
            32.2,
            36.2,
            57.1,
            59.6,
            56.3,
            80.1,
            58.1,
            65.8,
            57.2,
            46.5,
            34.9,
            73.1,
            56.8,
            41.2,
            46.5,
            60.6,
            34.1,
            49.1,
            34,
            36.2,
            50.5,
            56.9,
            57,
            33.4,
            58.7,
            65.3,
            61.3,
            50,
            27,
            68.6,
            37.4,
            63.5,
            59.1,
            33,
            67.2,
            28.2,
            69.2,
            25.8,
            50,
            48.9,
            40.9,
            33.2,
            65.9,
            30.1,
            35.2,
            29.5,
            63.2,
            48.3,
            71.8,
            53.1,
            41.8,
            62.7,
            66.9,
            52.9,
            58.5,
            55.3,
            57.2,
            47.5,
            42.4,
            36.6,
            36.5,
            32.2,
            39.2,
            57.9,
            39.4,
            62.5,
            62.3,
            50.6,
            29.4,
            60.8,
            52.2,
            38.8,
            58.5,
            49.9,
            53.4,
            47.4,
            47.7,
            62.5,
            63.3,
            55.9,
            46.7,
            66.8,
            48.9,
            61.4,
            58.5,
            27,
            59.3,
            27.7,
            45.7,
            58.9,
            62.5,
            73.7,
            59,
            67.8,
            63.1,
            57,
            31,
            60.3,
            65.8,
            39.1,
            36.2,
            58.8,
            60.1,
            33.6,
            48.1,
            66.5,
            65.1,
            52.7,
            74.6,
            35.8,
            59.9,
            31.5,
            54.7,
            53.6,
            48.9,
            37.4,
            44.3,
            41.8,
            55.2,
            42,
            46.6,
            60.9,
            70.6,
            47.2,
            28.6,
            48.4,
            69.1,
            53,
            35.7,
            30.6,
            57.8,
            41,
            44.4,
            59.5,
            56.5,
            69,
            54.4,
            45.1,
            57.2,
            40.7,
            60.9,
            52.4,
            24.8,
            45.8,
            48.4,
            47.9,
            60.4,
            46.8,
            53.5,
            33.7,
            53.8,
            49.8,
            51.9,
            70.3,
            51.3,
            41.1,
            47,
            63,
            39.1,
            36.8,
            53.1,
            68.9,
            58,
            61.5,
            27.5,
            39.9,
            54.5,
            50.3,
            44,
            39.7,
            44.2,
            57.4,
            65.2,
            54.4,
            58.9,
            51.6,
            53.9,
            43.8,
            64.7,
            42,
            36,
            31.7,
            53.8,
            54.2,
            39.1,
            36.1,
            53.6,
            40.8,
            72.4,
            43.7,
            52.7,
            40.8,
            53.5,
            39.5,
            39.1,
            31.1,
            68.1,
            51.7,
            52.7,
            51.9,
            50.8,
            27.7,
            53.9,
            58.9,
            34.1,
            74.9,
            38.3,
            71.8,
            48.9,
            39.1,
            32.2,
            69.1,
            57.8,
            36.1,
            55.3,
            48.3,
            57.8,
            42.8,
            45.1,
            69.4,
            74.3,
            72,
            29.5,
            39.1,
            49.6,
            31.3,
            49.9,
            50.8,
            48.3,
            43.7,
            62,
            41.8,
            72.6,
            43.2,
            63.7,
            57.5,
            49.9,
            54.5,
            66.7,
            42.6,
            59.6,
            33.3,
            55.4,
            62.9,
            24.6,
            33.1,
            34.4,
            40.1,
            61.4,
            57.5,
            37.3,
            56.3
           ]
          },
          {
           "axis": {
            "matches": true
           },
           "label": "away_possessions",
           "values": [
            49,
            59.7,
            65.6,
            35.6,
            34,
            62.2,
            47.9,
            51.8,
            46.8,
            69.1,
            58.9,
            60.4,
            22.4,
            41.2,
            37,
            35.4,
            38.2,
            58.5,
            50.5,
            33.7,
            46.8,
            81.7,
            66.3,
            66.9,
            46.9,
            63.2,
            59.1,
            63.9,
            51.3,
            23.9,
            40.2,
            52,
            64.4,
            42.9,
            22.3,
            64.1,
            45.7,
            65.4,
            66,
            19.1,
            42.5,
            62,
            46.1,
            40.4,
            42.9,
            31.1,
            45.2,
            44.7,
            57.9,
            62.6,
            42.9,
            36.6,
            32.4,
            40.1,
            31.1,
            42.8,
            60.4,
            43.5,
            60.1,
            75.2,
            27.1,
            72.6,
            48.1,
            58.8,
            48.2,
            59.2,
            35.4,
            43,
            50.7,
            57.5,
            43.1,
            58.2,
            18.9,
            25.8,
            73.6,
            71.5,
            68.2,
            48,
            57.4,
            53.5,
            41.8,
            42.6,
            49.4,
            29.4,
            52,
            41,
            36.2,
            34.7,
            59,
            23.4,
            49.2,
            64.8,
            62.4,
            72.8,
            35.3,
            58,
            63.3,
            37.6,
            64.1,
            50.4,
            60.7,
            57,
            54.3,
            31.9,
            32.9,
            57.3,
            27.8,
            49,
            72.4,
            31,
            37.8,
            44.2,
            47.1,
            49.6,
            34.1,
            31.1,
            61.6,
            42.9,
            33.6,
            55.3,
            53.3,
            59.2,
            57.9,
            69.3,
            66.7,
            62,
            51.6,
            44.8,
            67.8,
            63.8,
            42.9,
            40.4,
            43.7,
            19.9,
            41.9,
            34.2,
            42.8,
            53.5,
            65.1,
            26.9,
            43.2,
            58.8,
            53.5,
            39.4,
            65.9,
            50.9,
            66,
            63.8,
            49.5,
            43.1,
            43,
            66.6,
            41.3,
            34.7,
            38.7,
            50,
            73,
            31.4,
            62.6,
            36.5,
            40.9,
            67,
            32.8,
            71.8,
            30.8,
            74.2,
            50,
            51.1,
            59.1,
            66.8,
            34.1,
            69.9,
            64.8,
            70.5,
            36.8,
            51.7,
            28.2,
            46.9,
            58.2,
            37.3,
            33.1,
            47.1,
            41.5,
            44.7,
            42.8,
            52.5,
            57.6,
            63.4,
            63.5,
            67.8,
            60.8,
            42.1,
            60.6,
            37.5,
            37.7,
            49.4,
            70.6,
            39.2,
            47.8,
            61.2,
            41.5,
            50.1,
            46.6,
            52.6,
            52.3,
            37.5,
            36.7,
            44.1,
            53.3,
            33.2,
            51.1,
            38.6,
            41.5,
            73,
            40.7,
            72.3,
            54.3,
            41.1,
            37.5,
            26.3,
            41,
            32.2,
            36.9,
            43,
            69,
            39.7,
            34.2,
            60.9,
            63.8,
            41.2,
            39.9,
            66.4,
            51.9,
            33.5,
            34.9,
            47.3,
            25.4,
            64.2,
            40.1,
            68.5,
            45.3,
            46.4,
            51.1,
            62.6,
            55.7,
            58.2,
            44.8,
            58,
            53.4,
            39.1,
            29.4,
            52.8,
            71.4,
            51.6,
            30.9,
            47,
            64.3,
            69.4,
            42.2,
            59,
            55.6,
            40.5,
            43.5,
            31,
            45.6,
            54.9,
            42.8,
            59.3,
            39.1,
            47.6,
            75.2,
            54.2,
            51.6,
            52.1,
            39.6,
            53.2,
            46.5,
            66.3,
            46.2,
            50.2,
            48.1,
            29.7,
            48.7,
            58.9,
            53,
            37,
            60.9,
            63.2,
            46.9,
            31.1,
            42,
            38.5,
            72.5,
            60.1,
            45.5,
            49.7,
            56,
            60.3,
            55.8,
            42.6,
            34.8,
            45.6,
            41.1,
            48.4,
            46.1,
            56.2,
            35.3,
            58,
            64,
            68.3,
            46.2,
            45.8,
            60.9,
            63.9,
            46.4,
            59.2,
            27.6,
            56.3,
            47.3,
            59.2,
            46.5,
            60.5,
            60.9,
            68.9,
            31.9,
            48.3,
            47.3,
            48.1,
            49.2,
            72.3,
            46.1,
            41.1,
            65.9,
            25.1,
            61.7,
            28.2,
            51.1,
            60.9,
            67.8,
            30.9,
            42.2,
            63.9,
            44.7,
            51.7,
            42.2,
            57.2,
            54.9,
            30.6,
            25.7,
            28,
            70.5,
            60.9,
            50.4,
            68.7,
            50.1,
            49.2,
            51.7,
            56.3,
            38,
            58.2,
            27.4,
            56.8,
            36.3,
            42.5,
            50.1,
            45.5,
            33.3,
            57.4,
            40.4,
            66.7,
            44.6,
            37.1,
            75.4,
            66.9,
            65.6,
            59.9,
            38.6,
            42.5,
            62.7,
            43.7
           ]
          }
         ],
         "hovertemplate": "%{xaxis.title.text}=%{x}<br>%{yaxis.title.text}=%{y}<extra></extra>",
         "legendgroup": "",
         "marker": {
          "color": "#636efa",
          "symbol": "circle"
         },
         "name": "",
         "showlegend": false,
         "type": "splom"
        }
       ],
       "layout": {
        "autosize": true,
        "dragmode": "select",
        "legend": {
         "tracegroupgap": 0
        },
        "margin": {
         "t": 60
        },
        "template": {
         "data": {
          "bar": [
           {
            "error_x": {
             "color": "#2a3f5f"
            },
            "error_y": {
             "color": "#2a3f5f"
            },
            "marker": {
             "line": {
              "color": "#E5ECF6",
              "width": 0.5
             },
             "pattern": {
              "fillmode": "overlay",
              "size": 10,
              "solidity": 0.2
             }
            },
            "type": "bar"
           }
          ],
          "barpolar": [
           {
            "marker": {
             "line": {
              "color": "#E5ECF6",
              "width": 0.5
             },
             "pattern": {
              "fillmode": "overlay",
              "size": 10,
              "solidity": 0.2
             }
            },
            "type": "barpolar"
           }
          ],
          "carpet": [
           {
            "aaxis": {
             "endlinecolor": "#2a3f5f",
             "gridcolor": "white",
             "linecolor": "white",
             "minorgridcolor": "white",
             "startlinecolor": "#2a3f5f"
            },
            "baxis": {
             "endlinecolor": "#2a3f5f",
             "gridcolor": "white",
             "linecolor": "white",
             "minorgridcolor": "white",
             "startlinecolor": "#2a3f5f"
            },
            "type": "carpet"
           }
          ],
          "choropleth": [
           {
            "colorbar": {
             "outlinewidth": 0,
             "ticks": ""
            },
            "type": "choropleth"
           }
          ],
          "contour": [
           {
            "colorbar": {
             "outlinewidth": 0,
             "ticks": ""
            },
            "colorscale": [
             [
              0,
              "#0d0887"
             ],
             [
              0.1111111111111111,
              "#46039f"
             ],
             [
              0.2222222222222222,
              "#7201a8"
             ],
             [
              0.3333333333333333,
              "#9c179e"
             ],
             [
              0.4444444444444444,
              "#bd3786"
             ],
             [
              0.5555555555555556,
              "#d8576b"
             ],
             [
              0.6666666666666666,
              "#ed7953"
             ],
             [
              0.7777777777777778,
              "#fb9f3a"
             ],
             [
              0.8888888888888888,
              "#fdca26"
             ],
             [
              1,
              "#f0f921"
             ]
            ],
            "type": "contour"
           }
          ],
          "contourcarpet": [
           {
            "colorbar": {
             "outlinewidth": 0,
             "ticks": ""
            },
            "type": "contourcarpet"
           }
          ],
          "heatmap": [
           {
            "colorbar": {
             "outlinewidth": 0,
             "ticks": ""
            },
            "colorscale": [
             [
              0,
              "#0d0887"
             ],
             [
              0.1111111111111111,
              "#46039f"
             ],
             [
              0.2222222222222222,
              "#7201a8"
             ],
             [
              0.3333333333333333,
              "#9c179e"
             ],
             [
              0.4444444444444444,
              "#bd3786"
             ],
             [
              0.5555555555555556,
              "#d8576b"
             ],
             [
              0.6666666666666666,
              "#ed7953"
             ],
             [
              0.7777777777777778,
              "#fb9f3a"
             ],
             [
              0.8888888888888888,
              "#fdca26"
             ],
             [
              1,
              "#f0f921"
             ]
            ],
            "type": "heatmap"
           }
          ],
          "heatmapgl": [
           {
            "colorbar": {
             "outlinewidth": 0,
             "ticks": ""
            },
            "colorscale": [
             [
              0,
              "#0d0887"
             ],
             [
              0.1111111111111111,
              "#46039f"
             ],
             [
              0.2222222222222222,
              "#7201a8"
             ],
             [
              0.3333333333333333,
              "#9c179e"
             ],
             [
              0.4444444444444444,
              "#bd3786"
             ],
             [
              0.5555555555555556,
              "#d8576b"
             ],
             [
              0.6666666666666666,
              "#ed7953"
             ],
             [
              0.7777777777777778,
              "#fb9f3a"
             ],
             [
              0.8888888888888888,
              "#fdca26"
             ],
             [
              1,
              "#f0f921"
             ]
            ],
            "type": "heatmapgl"
           }
          ],
          "histogram": [
           {
            "marker": {
             "pattern": {
              "fillmode": "overlay",
              "size": 10,
              "solidity": 0.2
             }
            },
            "type": "histogram"
           }
          ],
          "histogram2d": [
           {
            "colorbar": {
             "outlinewidth": 0,
             "ticks": ""
            },
            "colorscale": [
             [
              0,
              "#0d0887"
             ],
             [
              0.1111111111111111,
              "#46039f"
             ],
             [
              0.2222222222222222,
              "#7201a8"
             ],
             [
              0.3333333333333333,
              "#9c179e"
             ],
             [
              0.4444444444444444,
              "#bd3786"
             ],
             [
              0.5555555555555556,
              "#d8576b"
             ],
             [
              0.6666666666666666,
              "#ed7953"
             ],
             [
              0.7777777777777778,
              "#fb9f3a"
             ],
             [
              0.8888888888888888,
              "#fdca26"
             ],
             [
              1,
              "#f0f921"
             ]
            ],
            "type": "histogram2d"
           }
          ],
          "histogram2dcontour": [
           {
            "colorbar": {
             "outlinewidth": 0,
             "ticks": ""
            },
            "colorscale": [
             [
              0,
              "#0d0887"
             ],
             [
              0.1111111111111111,
              "#46039f"
             ],
             [
              0.2222222222222222,
              "#7201a8"
             ],
             [
              0.3333333333333333,
              "#9c179e"
             ],
             [
              0.4444444444444444,
              "#bd3786"
             ],
             [
              0.5555555555555556,
              "#d8576b"
             ],
             [
              0.6666666666666666,
              "#ed7953"
             ],
             [
              0.7777777777777778,
              "#fb9f3a"
             ],
             [
              0.8888888888888888,
              "#fdca26"
             ],
             [
              1,
              "#f0f921"
             ]
            ],
            "type": "histogram2dcontour"
           }
          ],
          "mesh3d": [
           {
            "colorbar": {
             "outlinewidth": 0,
             "ticks": ""
            },
            "type": "mesh3d"
           }
          ],
          "parcoords": [
           {
            "line": {
             "colorbar": {
              "outlinewidth": 0,
              "ticks": ""
             }
            },
            "type": "parcoords"
           }
          ],
          "pie": [
           {
            "automargin": true,
            "type": "pie"
           }
          ],
          "scatter": [
           {
            "fillpattern": {
             "fillmode": "overlay",
             "size": 10,
             "solidity": 0.2
            },
            "type": "scatter"
           }
          ],
          "scatter3d": [
           {
            "line": {
             "colorbar": {
              "outlinewidth": 0,
              "ticks": ""
             }
            },
            "marker": {
             "colorbar": {
              "outlinewidth": 0,
              "ticks": ""
             }
            },
            "type": "scatter3d"
           }
          ],
          "scattercarpet": [
           {
            "marker": {
             "colorbar": {
              "outlinewidth": 0,
              "ticks": ""
             }
            },
            "type": "scattercarpet"
           }
          ],
          "scattergeo": [
           {
            "marker": {
             "colorbar": {
              "outlinewidth": 0,
              "ticks": ""
             }
            },
            "type": "scattergeo"
           }
          ],
          "scattergl": [
           {
            "marker": {
             "colorbar": {
              "outlinewidth": 0,
              "ticks": ""
             }
            },
            "type": "scattergl"
           }
          ],
          "scattermapbox": [
           {
            "marker": {
             "colorbar": {
              "outlinewidth": 0,
              "ticks": ""
             }
            },
            "type": "scattermapbox"
           }
          ],
          "scatterpolar": [
           {
            "marker": {
             "colorbar": {
              "outlinewidth": 0,
              "ticks": ""
             }
            },
            "type": "scatterpolar"
           }
          ],
          "scatterpolargl": [
           {
            "marker": {
             "colorbar": {
              "outlinewidth": 0,
              "ticks": ""
             }
            },
            "type": "scatterpolargl"
           }
          ],
          "scatterternary": [
           {
            "marker": {
             "colorbar": {
              "outlinewidth": 0,
              "ticks": ""
             }
            },
            "type": "scatterternary"
           }
          ],
          "surface": [
           {
            "colorbar": {
             "outlinewidth": 0,
             "ticks": ""
            },
            "colorscale": [
             [
              0,
              "#0d0887"
             ],
             [
              0.1111111111111111,
              "#46039f"
             ],
             [
              0.2222222222222222,
              "#7201a8"
             ],
             [
              0.3333333333333333,
              "#9c179e"
             ],
             [
              0.4444444444444444,
              "#bd3786"
             ],
             [
              0.5555555555555556,
              "#d8576b"
             ],
             [
              0.6666666666666666,
              "#ed7953"
             ],
             [
              0.7777777777777778,
              "#fb9f3a"
             ],
             [
              0.8888888888888888,
              "#fdca26"
             ],
             [
              1,
              "#f0f921"
             ]
            ],
            "type": "surface"
           }
          ],
          "table": [
           {
            "cells": {
             "fill": {
              "color": "#EBF0F8"
             },
             "line": {
              "color": "white"
             }
            },
            "header": {
             "fill": {
              "color": "#C8D4E3"
             },
             "line": {
              "color": "white"
             }
            },
            "type": "table"
           }
          ]
         },
         "layout": {
          "annotationdefaults": {
           "arrowcolor": "#2a3f5f",
           "arrowhead": 0,
           "arrowwidth": 1
          },
          "autotypenumbers": "strict",
          "coloraxis": {
           "colorbar": {
            "outlinewidth": 0,
            "ticks": ""
           }
          },
          "colorscale": {
           "diverging": [
            [
             0,
             "#8e0152"
            ],
            [
             0.1,
             "#c51b7d"
            ],
            [
             0.2,
             "#de77ae"
            ],
            [
             0.3,
             "#f1b6da"
            ],
            [
             0.4,
             "#fde0ef"
            ],
            [
             0.5,
             "#f7f7f7"
            ],
            [
             0.6,
             "#e6f5d0"
            ],
            [
             0.7,
             "#b8e186"
            ],
            [
             0.8,
             "#7fbc41"
            ],
            [
             0.9,
             "#4d9221"
            ],
            [
             1,
             "#276419"
            ]
           ],
           "sequential": [
            [
             0,
             "#0d0887"
            ],
            [
             0.1111111111111111,
             "#46039f"
            ],
            [
             0.2222222222222222,
             "#7201a8"
            ],
            [
             0.3333333333333333,
             "#9c179e"
            ],
            [
             0.4444444444444444,
             "#bd3786"
            ],
            [
             0.5555555555555556,
             "#d8576b"
            ],
            [
             0.6666666666666666,
             "#ed7953"
            ],
            [
             0.7777777777777778,
             "#fb9f3a"
            ],
            [
             0.8888888888888888,
             "#fdca26"
            ],
            [
             1,
             "#f0f921"
            ]
           ],
           "sequentialminus": [
            [
             0,
             "#0d0887"
            ],
            [
             0.1111111111111111,
             "#46039f"
            ],
            [
             0.2222222222222222,
             "#7201a8"
            ],
            [
             0.3333333333333333,
             "#9c179e"
            ],
            [
             0.4444444444444444,
             "#bd3786"
            ],
            [
             0.5555555555555556,
             "#d8576b"
            ],
            [
             0.6666666666666666,
             "#ed7953"
            ],
            [
             0.7777777777777778,
             "#fb9f3a"
            ],
            [
             0.8888888888888888,
             "#fdca26"
            ],
            [
             1,
             "#f0f921"
            ]
           ]
          },
          "colorway": [
           "#636efa",
           "#EF553B",
           "#00cc96",
           "#ab63fa",
           "#FFA15A",
           "#19d3f3",
           "#FF6692",
           "#B6E880",
           "#FF97FF",
           "#FECB52"
          ],
          "font": {
           "color": "#2a3f5f"
          },
          "geo": {
           "bgcolor": "white",
           "lakecolor": "white",
           "landcolor": "#E5ECF6",
           "showlakes": true,
           "showland": true,
           "subunitcolor": "white"
          },
          "hoverlabel": {
           "align": "left"
          },
          "hovermode": "closest",
          "mapbox": {
           "style": "light"
          },
          "paper_bgcolor": "white",
          "plot_bgcolor": "#E5ECF6",
          "polar": {
           "angularaxis": {
            "gridcolor": "white",
            "linecolor": "white",
            "ticks": ""
           },
           "bgcolor": "#E5ECF6",
           "radialaxis": {
            "gridcolor": "white",
            "linecolor": "white",
            "ticks": ""
           }
          },
          "scene": {
           "xaxis": {
            "backgroundcolor": "#E5ECF6",
            "gridcolor": "white",
            "gridwidth": 2,
            "linecolor": "white",
            "showbackground": true,
            "ticks": "",
            "zerolinecolor": "white"
           },
           "yaxis": {
            "backgroundcolor": "#E5ECF6",
            "gridcolor": "white",
            "gridwidth": 2,
            "linecolor": "white",
            "showbackground": true,
            "ticks": "",
            "zerolinecolor": "white"
           },
           "zaxis": {
            "backgroundcolor": "#E5ECF6",
            "gridcolor": "white",
            "gridwidth": 2,
            "linecolor": "white",
            "showbackground": true,
            "ticks": "",
            "zerolinecolor": "white"
           }
          },
          "shapedefaults": {
           "line": {
            "color": "#2a3f5f"
           }
          },
          "ternary": {
           "aaxis": {
            "gridcolor": "white",
            "linecolor": "white",
            "ticks": ""
           },
           "baxis": {
            "gridcolor": "white",
            "linecolor": "white",
            "ticks": ""
           },
           "bgcolor": "#E5ECF6",
           "caxis": {
            "gridcolor": "white",
            "linecolor": "white",
            "ticks": ""
           }
          },
          "title": {
           "x": 0.05
          },
          "xaxis": {
           "automargin": true,
           "gridcolor": "white",
           "linecolor": "white",
           "ticks": "",
           "title": {
            "standoff": 15
           },
           "zerolinecolor": "white",
           "zerolinewidth": 2
          },
          "yaxis": {
           "automargin": true,
           "gridcolor": "white",
           "linecolor": "white",
           "ticks": "",
           "title": {
            "standoff": 15
           },
           "zerolinecolor": "white",
           "zerolinewidth": 2
          }
         }
        },
        "xaxis": {
         "autorange": true,
         "range": [
          -1.4818731117824768,
          10.481873111782477
         ],
         "type": "linear"
        },
        "xaxis2": {
         "autorange": true,
         "range": [
          -0.9879154078549844,
          6.9879154078549846
         ],
         "type": "linear"
        },
        "xaxis3": {
         "autorange": true,
         "range": [
          7.959818731117826,
          91.44018126888217
         ],
         "type": "linear"
        },
        "xaxis4": {
         "autorange": true,
         "range": [
          8.559818731117826,
          92.04018126888218
         ],
         "type": "linear"
        },
        "yaxis": {
         "autorange": true,
         "range": [
          -1.4818731117824768,
          10.481873111782477
         ],
         "type": "linear"
        },
        "yaxis2": {
         "autorange": true,
         "range": [
          -0.9879154078549844,
          6.9879154078549846
         ],
         "type": "linear"
        },
        "yaxis3": {
         "autorange": true,
         "range": [
          7.959818731117826,
          91.44018126888217
         ],
         "type": "linear"
        },
        "yaxis4": {
         "autorange": true,
         "range": [
          8.559818731117826,
          92.04018126888218
         ],
         "type": "linear"
        }
       }
      },
      "image/png": "[encoded data removed]",
      "text/html": [
       "<div>                            <div id=\"188f127e-3499-43d6-8930-d7861d3bb1f4\" class=\"plotly-graph-div\" style=\"height:525px; width:100%;\"></div>            <script type=\"text/javascript\">                require([\"plotly\"], function(Plotly) {                    window.PLOTLYENV=window.PLOTLYENV || {};                                    if (document.getElementById(\"188f127e-3499-43d6-8930-d7861d3bb1f4\")) {                    Plotly.newPlot(                        \"188f127e-3499-43d6-8930-d7861d3bb1f4\",                        [{\"dimensions\":[{\"axis\":{\"matches\":true},\"label\":\"Goals Home\",\"values\":[5,2,1,1,1,1,1,2,2,4,4,1,0,3,3,1,1,0,2,1,1,1,4,0,2,0,0,2,2,2,2,2,0,5,1,4,0,1,1,2,1,1,1,1,1,3,3,2,4,1,1,3,4,4,2,6,1,0,2,3,0,1,4,2,1,1,0,6,2,1,0,2,3,3,1,2,0,3,1,1,0,2,2,3,1,2,2,2,1,0,0,2,1,1,1,1,0,2,1,0,1,1,2,4,4,2,3,2,1,0,4,3,1,3,2,2,1,1,0,0,0,1,2,1,1,2,1,3,0,3,2,7,2,3,1,4,1,1,1,4,2,2,0,1,0,4,1,0,1,3,2,2,1,0,0,1,1,0,0,1,2,0,3,1,1,1,2,4,1,1,2,1,1,1,2,3,1,2,3,1,0,0,0,3,3,0,1,2,0,2,0,4,1,1,1,0,2,3,1,2,1,2,2,2,0,0,2,1,0,0,1,0,3,3,0,1,0,0,2,1,0,2,0,2,1,2,3,2,0,1,0,1,1,3,1,1,1,3,3,1,4,0,1,0,0,3,1,1,1,4,2,2,2,0,5,1,0,2,1,4,1,4,0,1,2,4,2,1,0,1,1,3,3,1,3,2,0,0,1,1,2,0,2,0,0,0,1,1,0,2,1,2,2,1,2,3,3,1,2,3,4,5,0,4,6,0,3,0,1,1,3,1,2,0,1,0,1,6,1,2,5,3,0,5,2,0,2,2,1,1,0,2,0,6,1,2,1,2,2,1,0,1,0,0,1,1,2,9,4,2,2,3,0,3,1,3,1,3,1,0,1,1,2,2,4,0,4,2,0,4,2,1,0,2,2,2,2,4,0,0]},{\"axis\":{\"matches\":true},\"label\":\"Away Goals\",\"values\":[0,1,0,1,1,0,4,1,1,4,1,1,0,1,1,0,3,1,2,1,1,0,1,3,0,3,3,2,1,2,0,0,2,3,5,3,2,0,3,1,0,0,0,0,0,0,1,2,1,2,0,1,3,3,1,0,4,1,2,1,2,2,1,0,0,1,4,1,1,1,0,1,2,3,6,2,2,0,2,3,2,3,0,1,5,2,0,0,2,1,1,1,0,4,0,5,2,1,2,0,1,0,0,1,1,1,3,1,1,2,1,0,1,3,4,2,2,0,2,3,0,1,1,0,0,2,3,1,1,2,2,0,0,2,0,0,0,0,0,0,0,0,2,0,1,0,4,0,1,0,0,4,1,1,1,0,1,1,2,3,0,2,1,1,1,1,0,1,2,1,2,0,0,0,4,0,0,1,0,1,0,1,0,0,2,0,1,2,1,0,0,2,1,0,0,2,1,0,2,0,0,0,1,1,1,1,2,1,4,0,4,1,0,1,2,1,1,2,1,1,0,4,2,1,3,0,0,2,3,2,3,3,3,1,2,2,2,0,1,0,3,2,0,2,1,1,4,2,2,3,1,2,3,2,0,0,1,3,1,1,0,0,0,2,0,0,3,1,4,2,0,0,1,1,0,0,1,0,0,0,0,0,1,2,1,0,1,0,0,2,0,0,0,1,1,1,2,2,1,0,0,1,1,0,3,0,1,0,2,4,3,2,0,3,0,3,1,2,0,3,2,1,0,2,1,0,3,1,0,1,1,1,0,0,1,1,1,1,1,1,1,1,2,1,1,0,1,0,2,1,1,0,2,3,0,1,1,2,2,3,1,0,2,1,2,0,0,2,0,0,2,2,2,2,0,1,0,1,1,2]},{\"axis\":{\"matches\":true},\"label\":\"home_possessions\",\"values\":[51.0,40.3,34.4,64.4,66.0,37.8,52.1,48.2,53.2,30.9,41.1,39.6,77.6,58.8,63.0,64.6,61.8,41.5,49.5,66.3,53.2,18.3,33.7,33.1,53.1,36.8,40.9,36.1,48.7,76.1,59.8,48.0,35.6,57.1,77.7,35.9,54.3,34.6,34.0,80.9,57.5,38.0,53.9,59.6,57.1,68.9,54.8,55.3,42.1,37.4,57.1,63.4,67.6,59.9,68.9,57.2,39.6,56.5,39.9,24.8,72.9,27.4,51.9,41.2,51.8,40.8,64.6,57.0,49.3,42.5,56.9,41.8,81.1,74.2,26.4,28.5,31.8,52.0,42.6,46.5,58.2,57.4,50.6,70.6,48.0,59.0,63.8,65.3,41.0,76.6,50.8,35.2,37.6,27.2,64.7,42.0,36.7,62.4,35.9,49.6,39.3,43.0,45.7,68.1,67.1,42.7,72.2,51.0,27.6,69.0,62.2,55.8,52.9,50.4,65.9,68.9,38.4,57.1,66.4,44.7,46.7,40.8,42.1,30.7,33.3,38.0,48.4,55.2,32.2,36.2,57.1,59.6,56.3,80.1,58.1,65.8,57.2,46.5,34.9,73.1,56.8,41.2,46.5,60.6,34.1,49.1,34.0,36.2,50.5,56.9,57.0,33.4,58.7,65.3,61.3,50.0,27.0,68.6,37.4,63.5,59.1,33.0,67.2,28.2,69.2,25.8,50.0,48.9,40.9,33.2,65.9,30.1,35.2,29.5,63.2,48.3,71.8,53.1,41.8,62.7,66.9,52.9,58.5,55.3,57.2,47.5,42.4,36.6,36.5,32.2,39.2,57.9,39.4,62.5,62.3,50.6,29.4,60.8,52.2,38.8,58.5,49.9,53.4,47.4,47.7,62.5,63.3,55.9,46.7,66.8,48.9,61.4,58.5,27.0,59.3,27.7,45.7,58.9,62.5,73.7,59.0,67.8,63.1,57.0,31.0,60.3,65.8,39.1,36.2,58.8,60.1,33.6,48.1,66.5,65.1,52.7,74.6,35.8,59.9,31.5,54.7,53.6,48.9,37.4,44.3,41.8,55.2,42.0,46.6,60.9,70.6,47.2,28.6,48.4,69.1,53.0,35.7,30.6,57.8,41.0,44.4,59.5,56.5,69.0,54.4,45.1,57.2,40.7,60.9,52.4,24.8,45.8,48.4,47.9,60.4,46.8,53.5,33.7,53.8,49.8,51.9,70.3,51.3,41.1,47.0,63.0,39.1,36.8,53.1,68.9,58.0,61.5,27.5,39.9,54.5,50.3,44.0,39.7,44.2,57.4,65.2,54.4,58.9,51.6,53.9,43.8,64.7,42.0,36.0,31.7,53.8,54.2,39.1,36.1,53.6,40.8,72.4,43.7,52.7,40.8,53.5,39.5,39.1,31.1,68.1,51.7,52.7,51.9,50.8,27.7,53.9,58.9,34.1,74.9,38.3,71.8,48.9,39.1,32.2,69.1,57.8,36.1,55.3,48.3,57.8,42.8,45.1,69.4,74.3,72.0,29.5,39.1,49.6,31.3,49.9,50.8,48.3,43.7,62.0,41.8,72.6,43.2,63.7,57.5,49.9,54.5,66.7,42.6,59.6,33.3,55.4,62.9,24.6,33.1,34.4,40.1,61.4,57.5,37.3,56.3]},{\"axis\":{\"matches\":true},\"label\":\"away_possessions\",\"values\":[49.0,59.7,65.6,35.6,34.0,62.2,47.9,51.8,46.8,69.1,58.9,60.4,22.4,41.2,37.0,35.4,38.2,58.5,50.5,33.7,46.8,81.7,66.3,66.9,46.9,63.2,59.1,63.9,51.3,23.9,40.2,52.0,64.4,42.9,22.3,64.1,45.7,65.4,66.0,19.1,42.5,62.0,46.1,40.4,42.9,31.1,45.2,44.7,57.9,62.6,42.9,36.6,32.4,40.1,31.1,42.8,60.4,43.5,60.1,75.2,27.1,72.6,48.1,58.8,48.2,59.2,35.4,43.0,50.7,57.5,43.1,58.2,18.9,25.8,73.6,71.5,68.2,48.0,57.4,53.5,41.8,42.6,49.4,29.4,52.0,41.0,36.2,34.7,59.0,23.4,49.2,64.8,62.4,72.8,35.3,58.0,63.3,37.6,64.1,50.4,60.7,57.0,54.3,31.9,32.9,57.3,27.8,49.0,72.4,31.0,37.8,44.2,47.1,49.6,34.1,31.1,61.6,42.9,33.6,55.3,53.3,59.2,57.9,69.3,66.7,62.0,51.6,44.8,67.8,63.8,42.9,40.4,43.7,19.9,41.9,34.2,42.8,53.5,65.1,26.9,43.2,58.8,53.5,39.4,65.9,50.9,66.0,63.8,49.5,43.1,43.0,66.6,41.3,34.7,38.7,50.0,73.0,31.4,62.6,36.5,40.9,67.0,32.8,71.8,30.8,74.2,50.0,51.1,59.1,66.8,34.1,69.9,64.8,70.5,36.8,51.7,28.2,46.9,58.2,37.3,33.1,47.1,41.5,44.7,42.8,52.5,57.6,63.4,63.5,67.8,60.8,42.1,60.6,37.5,37.7,49.4,70.6,39.2,47.8,61.2,41.5,50.1,46.6,52.6,52.3,37.5,36.7,44.1,53.3,33.2,51.1,38.6,41.5,73.0,40.7,72.3,54.3,41.1,37.5,26.3,41.0,32.2,36.9,43.0,69.0,39.7,34.2,60.9,63.8,41.2,39.9,66.4,51.9,33.5,34.9,47.3,25.4,64.2,40.1,68.5,45.3,46.4,51.1,62.6,55.7,58.2,44.8,58.0,53.4,39.1,29.4,52.8,71.4,51.6,30.9,47.0,64.3,69.4,42.2,59.0,55.6,40.5,43.5,31.0,45.6,54.9,42.8,59.3,39.1,47.6,75.2,54.2,51.6,52.1,39.6,53.2,46.5,66.3,46.2,50.2,48.1,29.7,48.7,58.9,53.0,37.0,60.9,63.2,46.9,31.1,42.0,38.5,72.5,60.1,45.5,49.7,56.0,60.3,55.8,42.6,34.8,45.6,41.1,48.4,46.1,56.2,35.3,58.0,64.0,68.3,46.2,45.8,60.9,63.9,46.4,59.2,27.6,56.3,47.3,59.2,46.5,60.5,60.9,68.9,31.9,48.3,47.3,48.1,49.2,72.3,46.1,41.1,65.9,25.1,61.7,28.2,51.1,60.9,67.8,30.9,42.2,63.9,44.7,51.7,42.2,57.2,54.9,30.6,25.7,28.0,70.5,60.9,50.4,68.7,50.1,49.2,51.7,56.3,38.0,58.2,27.4,56.8,36.3,42.5,50.1,45.5,33.3,57.4,40.4,66.7,44.6,37.1,75.4,66.9,65.6,59.9,38.6,42.5,62.7,43.7]}],\"hovertemplate\":\"%{xaxis.title.text}=%{x}\\u003cbr\\u003e%{yaxis.title.text}=%{y}\\u003cextra\\u003e\\u003c\\u002fextra\\u003e\",\"legendgroup\":\"\",\"marker\":{\"color\":\"#636efa\",\"symbol\":\"circle\"},\"name\":\"\",\"showlegend\":false,\"type\":\"splom\"}],                        {\"template\":{\"data\":{\"histogram2dcontour\":[{\"type\":\"histogram2dcontour\",\"colorbar\":{\"outlinewidth\":0,\"ticks\":\"\"},\"colorscale\":[[0.0,\"#0d0887\"],[0.1111111111111111,\"#46039f\"],[0.2222222222222222,\"#7201a8\"],[0.3333333333333333,\"#9c179e\"],[0.4444444444444444,\"#bd3786\"],[0.5555555555555556,\"#d8576b\"],[0.6666666666666666,\"#ed7953\"],[0.7777777777777778,\"#fb9f3a\"],[0.8888888888888888,\"#fdca26\"],[1.0,\"#f0f921\"]]}],\"choropleth\":[{\"type\":\"choropleth\",\"colorbar\":{\"outlinewidth\":0,\"ticks\":\"\"}}],\"histogram2d\":[{\"type\":\"histogram2d\",\"colorbar\":{\"outlinewidth\":0,\"ticks\":\"\"},\"colorscale\":[[0.0,\"#0d0887\"],[0.1111111111111111,\"#46039f\"],[0.2222222222222222,\"#7201a8\"],[0.3333333333333333,\"#9c179e\"],[0.4444444444444444,\"#bd3786\"],[0.5555555555555556,\"#d8576b\"],[0.6666666666666666,\"#ed7953\"],[0.7777777777777778,\"#fb9f3a\"],[0.8888888888888888,\"#fdca26\"],[1.0,\"#f0f921\"]]}],\"heatmap\":[{\"type\":\"heatmap\",\"colorbar\":{\"outlinewidth\":0,\"ticks\":\"\"},\"colorscale\":[[0.0,\"#0d0887\"],[0.1111111111111111,\"#46039f\"],[0.2222222222222222,\"#7201a8\"],[0.3333333333333333,\"#9c179e\"],[0.4444444444444444,\"#bd3786\"],[0.5555555555555556,\"#d8576b\"],[0.6666666666666666,\"#ed7953\"],[0.7777777777777778,\"#fb9f3a\"],[0.8888888888888888,\"#fdca26\"],[1.0,\"#f0f921\"]]}],\"heatmapgl\":[{\"type\":\"heatmapgl\",\"colorbar\":{\"outlinewidth\":0,\"ticks\":\"\"},\"colorscale\":[[0.0,\"#0d0887\"],[0.1111111111111111,\"#46039f\"],[0.2222222222222222,\"#7201a8\"],[0.3333333333333333,\"#9c179e\"],[0.4444444444444444,\"#bd3786\"],[0.5555555555555556,\"#d8576b\"],[0.6666666666666666,\"#ed7953\"],[0.7777777777777778,\"#fb9f3a\"],[0.8888888888888888,\"#fdca26\"],[1.0,\"#f0f921\"]]}],\"contourcarpet\":[{\"type\":\"contourcarpet\",\"colorbar\":{\"outlinewidth\":0,\"ticks\":\"\"}}],\"contour\":[{\"type\":\"contour\",\"colorbar\":{\"outlinewidth\":0,\"ticks\":\"\"},\"colorscale\":[[0.0,\"#0d0887\"],[0.1111111111111111,\"#46039f\"],[0.2222222222222222,\"#7201a8\"],[0.3333333333333333,\"#9c179e\"],[0.4444444444444444,\"#bd3786\"],[0.5555555555555556,\"#d8576b\"],[0.6666666666666666,\"#ed7953\"],[0.7777777777777778,\"#fb9f3a\"],[0.8888888888888888,\"#fdca26\"],[1.0,\"#f0f921\"]]}],\"surface\":[{\"type\":\"surface\",\"colorbar\":{\"outlinewidth\":0,\"ticks\":\"\"},\"colorscale\":[[0.0,\"#0d0887\"],[0.1111111111111111,\"#46039f\"],[0.2222222222222222,\"#7201a8\"],[0.3333333333333333,\"#9c179e\"],[0.4444444444444444,\"#bd3786\"],[0.5555555555555556,\"#d8576b\"],[0.6666666666666666,\"#ed7953\"],[0.7777777777777778,\"#fb9f3a\"],[0.8888888888888888,\"#fdca26\"],[1.0,\"#f0f921\"]]}],\"mesh3d\":[{\"type\":\"mesh3d\",\"colorbar\":{\"outlinewidth\":0,\"ticks\":\"\"}}],\"scatter\":[{\"fillpattern\":{\"fillmode\":\"overlay\",\"size\":10,\"solidity\":0.2},\"type\":\"scatter\"}],\"parcoords\":[{\"type\":\"parcoords\",\"line\":{\"colorbar\":{\"outlinewidth\":0,\"ticks\":\"\"}}}],\"scatterpolargl\":[{\"type\":\"scatterpolargl\",\"marker\":{\"colorbar\":{\"outlinewidth\":0,\"ticks\":\"\"}}}],\"bar\":[{\"error_x\":{\"color\":\"#2a3f5f\"},\"error_y\":{\"color\":\"#2a3f5f\"},\"marker\":{\"line\":{\"color\":\"#E5ECF6\",\"width\":0.5},\"pattern\":{\"fillmode\":\"overlay\",\"size\":10,\"solidity\":0.2}},\"type\":\"bar\"}],\"scattergeo\":[{\"type\":\"scattergeo\",\"marker\":{\"colorbar\":{\"outlinewidth\":0,\"ticks\":\"\"}}}],\"scatterpolar\":[{\"type\":\"scatterpolar\",\"marker\":{\"colorbar\":{\"outlinewidth\":0,\"ticks\":\"\"}}}],\"histogram\":[{\"marker\":{\"pattern\":{\"fillmode\":\"overlay\",\"size\":10,\"solidity\":0.2}},\"type\":\"histogram\"}],\"scattergl\":[{\"type\":\"scattergl\",\"marker\":{\"colorbar\":{\"outlinewidth\":0,\"ticks\":\"\"}}}],\"scatter3d\":[{\"type\":\"scatter3d\",\"line\":{\"colorbar\":{\"outlinewidth\":0,\"ticks\":\"\"}},\"marker\":{\"colorbar\":{\"outlinewidth\":0,\"ticks\":\"\"}}}],\"scattermapbox\":[{\"type\":\"scattermapbox\",\"marker\":{\"colorbar\":{\"outlinewidth\":0,\"ticks\":\"\"}}}],\"scatterternary\":[{\"type\":\"scatterternary\",\"marker\":{\"colorbar\":{\"outlinewidth\":0,\"ticks\":\"\"}}}],\"scattercarpet\":[{\"type\":\"scattercarpet\",\"marker\":{\"colorbar\":{\"outlinewidth\":0,\"ticks\":\"\"}}}],\"carpet\":[{\"aaxis\":{\"endlinecolor\":\"#2a3f5f\",\"gridcolor\":\"white\",\"linecolor\":\"white\",\"minorgridcolor\":\"white\",\"startlinecolor\":\"#2a3f5f\"},\"baxis\":{\"endlinecolor\":\"#2a3f5f\",\"gridcolor\":\"white\",\"linecolor\":\"white\",\"minorgridcolor\":\"white\",\"startlinecolor\":\"#2a3f5f\"},\"type\":\"carpet\"}],\"table\":[{\"cells\":{\"fill\":{\"color\":\"#EBF0F8\"},\"line\":{\"color\":\"white\"}},\"header\":{\"fill\":{\"color\":\"#C8D4E3\"},\"line\":{\"color\":\"white\"}},\"type\":\"table\"}],\"barpolar\":[{\"marker\":{\"line\":{\"color\":\"#E5ECF6\",\"width\":0.5},\"pattern\":{\"fillmode\":\"overlay\",\"size\":10,\"solidity\":0.2}},\"type\":\"barpolar\"}],\"pie\":[{\"automargin\":true,\"type\":\"pie\"}]},\"layout\":{\"autotypenumbers\":\"strict\",\"colorway\":[\"#636efa\",\"#EF553B\",\"#00cc96\",\"#ab63fa\",\"#FFA15A\",\"#19d3f3\",\"#FF6692\",\"#B6E880\",\"#FF97FF\",\"#FECB52\"],\"font\":{\"color\":\"#2a3f5f\"},\"hovermode\":\"closest\",\"hoverlabel\":{\"align\":\"left\"},\"paper_bgcolor\":\"white\",\"plot_bgcolor\":\"#E5ECF6\",\"polar\":{\"bgcolor\":\"#E5ECF6\",\"angularaxis\":{\"gridcolor\":\"white\",\"linecolor\":\"white\",\"ticks\":\"\"},\"radialaxis\":{\"gridcolor\":\"white\",\"linecolor\":\"white\",\"ticks\":\"\"}},\"ternary\":{\"bgcolor\":\"#E5ECF6\",\"aaxis\":{\"gridcolor\":\"white\",\"linecolor\":\"white\",\"ticks\":\"\"},\"baxis\":{\"gridcolor\":\"white\",\"linecolor\":\"white\",\"ticks\":\"\"},\"caxis\":{\"gridcolor\":\"white\",\"linecolor\":\"white\",\"ticks\":\"\"}},\"coloraxis\":{\"colorbar\":{\"outlinewidth\":0,\"ticks\":\"\"}},\"colorscale\":{\"sequential\":[[0.0,\"#0d0887\"],[0.1111111111111111,\"#46039f\"],[0.2222222222222222,\"#7201a8\"],[0.3333333333333333,\"#9c179e\"],[0.4444444444444444,\"#bd3786\"],[0.5555555555555556,\"#d8576b\"],[0.6666666666666666,\"#ed7953\"],[0.7777777777777778,\"#fb9f3a\"],[0.8888888888888888,\"#fdca26\"],[1.0,\"#f0f921\"]],\"sequentialminus\":[[0.0,\"#0d0887\"],[0.1111111111111111,\"#46039f\"],[0.2222222222222222,\"#7201a8\"],[0.3333333333333333,\"#9c179e\"],[0.4444444444444444,\"#bd3786\"],[0.5555555555555556,\"#d8576b\"],[0.6666666666666666,\"#ed7953\"],[0.7777777777777778,\"#fb9f3a\"],[0.8888888888888888,\"#fdca26\"],[1.0,\"#f0f921\"]],\"diverging\":[[0,\"#8e0152\"],[0.1,\"#c51b7d\"],[0.2,\"#de77ae\"],[0.3,\"#f1b6da\"],[0.4,\"#fde0ef\"],[0.5,\"#f7f7f7\"],[0.6,\"#e6f5d0\"],[0.7,\"#b8e186\"],[0.8,\"#7fbc41\"],[0.9,\"#4d9221\"],[1,\"#276419\"]]},\"xaxis\":{\"gridcolor\":\"white\",\"linecolor\":\"white\",\"ticks\":\"\",\"title\":{\"standoff\":15},\"zerolinecolor\":\"white\",\"automargin\":true,\"zerolinewidth\":2},\"yaxis\":{\"gridcolor\":\"white\",\"linecolor\":\"white\",\"ticks\":\"\",\"title\":{\"standoff\":15},\"zerolinecolor\":\"white\",\"automargin\":true,\"zerolinewidth\":2},\"scene\":{\"xaxis\":{\"backgroundcolor\":\"#E5ECF6\",\"gridcolor\":\"white\",\"linecolor\":\"white\",\"showbackground\":true,\"ticks\":\"\",\"zerolinecolor\":\"white\",\"gridwidth\":2},\"yaxis\":{\"backgroundcolor\":\"#E5ECF6\",\"gridcolor\":\"white\",\"linecolor\":\"white\",\"showbackground\":true,\"ticks\":\"\",\"zerolinecolor\":\"white\",\"gridwidth\":2},\"zaxis\":{\"backgroundcolor\":\"#E5ECF6\",\"gridcolor\":\"white\",\"linecolor\":\"white\",\"showbackground\":true,\"ticks\":\"\",\"zerolinecolor\":\"white\",\"gridwidth\":2}},\"shapedefaults\":{\"line\":{\"color\":\"#2a3f5f\"}},\"annotationdefaults\":{\"arrowcolor\":\"#2a3f5f\",\"arrowhead\":0,\"arrowwidth\":1},\"geo\":{\"bgcolor\":\"white\",\"landcolor\":\"#E5ECF6\",\"subunitcolor\":\"white\",\"showland\":true,\"showlakes\":true,\"lakecolor\":\"white\"},\"title\":{\"x\":0.05},\"mapbox\":{\"style\":\"light\"}}},\"legend\":{\"tracegroupgap\":0},\"margin\":{\"t\":60},\"dragmode\":\"select\"},                        {\"responsive\": true}                    ).then(function(){\n",
       "                            \n",
       "var gd = document.getElementById('188f127e-3499-43d6-8930-d7861d3bb1f4');\n",
       "var x = new MutationObserver(function (mutations, observer) {{\n",
       "        var display = window.getComputedStyle(gd).display;\n",
       "        if (!display || display === 'none') {{\n",
       "            console.log([gd, 'removed!']);\n",
       "            Plotly.purge(gd);\n",
       "            observer.disconnect();\n",
       "        }}\n",
       "}});\n",
       "\n",
       "// Listen for the removal of the full notebook cells\n",
       "var notebookContainer = gd.closest('#notebook-container');\n",
       "if (notebookContainer) {{\n",
       "    x.observe(notebookContainer, {childList: true});\n",
       "}}\n",
       "\n",
       "// Listen for the clearing of the current output cell\n",
       "var outputEl = gd.closest('.output');\n",
       "if (outputEl) {{\n",
       "    x.observe(outputEl, {childList: true});\n",
       "}}\n",
       "\n",
       "                        })                };                });            </script>        </div>"
      ]
     },
     "metadata": {},
     "output_type": "display_data"
    }
   ],
   "source": [
    "fig = px.scatter_matrix(onemli)\n",
    "fig.show()\n",
    "# goller ve pozisyonların birbirleriyle karşılaştırılması"
   ]
  },
  {
   "cell_type": "markdown",
   "id": "efbdcec3-2662-4964-a486-50c2a7b8607e",
   "metadata": {},
   "source": [
    "çoklu doğrusal regresyon için verilerimizi seçelim. ev takımı kaç gol atar onu bulmaya çalışalım\n",
    "burda takımdan bağımsız sadece istatistiki verileri kullanıp deneyeceğiz. bakalım sonuc ne olacak\n",
    "Goals Home,home_possessions,home_shots,home_on,home_off,home_chances,home_corners,home_offside,home_yellow,home_red"
   ]
  }
 ],
 "metadata": {
  "kernelspec": {
   "display_name": "Python 3 (ipykernel)",
   "language": "python",
   "name": "python3"
  },
  "language_info": {
   "codemirror_mode": {
    "name": "ipython",
    "version": 3
   },
   "file_extension": ".py",
   "mimetype": "text/x-python",
   "name": "python",
   "nbconvert_exporter": "python",
   "pygments_lexer": "ipython3",
   "version": "3.12.4"
  }
 },
 "nbformat": 4,
 "nbformat_minor": 5
}
