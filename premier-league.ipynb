{
 "cells": [
  {
   "cell_type": "code",
   "execution_count": 1,
   "id": "283534ad",
   "metadata": {
    "execution": {
     "iopub.execute_input": "2024-09-02T17:32:16.017482Z",
     "iopub.status.busy": "2024-09-02T17:32:16.016953Z",
     "iopub.status.idle": "2024-09-02T17:32:18.685787Z",
     "shell.execute_reply": "2024-09-02T17:32:18.684064Z"
    },
    "papermill": {
     "duration": 2.688549,
     "end_time": "2024-09-02T17:32:18.689455",
     "exception": false,
     "start_time": "2024-09-02T17:32:16.000906",
     "status": "completed"
    },
    "tags": []
   },
   "outputs": [],
   "source": [
    "import pandas as pd\n",
    "import numpy as np\n",
    "from matplotlib import pyplot as plt\n",
    "import seaborn as sns\n",
    "import warnings\n",
    "warnings.filterwarnings(\"ignore\")\n",
    "sns.set_style(\"darkgrid\")"
   ]
  },
  {
   "cell_type": "code",
   "execution_count": 2,
   "id": "3101a201",
   "metadata": {
    "execution": {
     "iopub.execute_input": "2024-09-02T17:32:18.714377Z",
     "iopub.status.busy": "2024-09-02T17:32:18.713746Z",
     "iopub.status.idle": "2024-09-02T17:32:18.746609Z",
     "shell.execute_reply": "2024-09-02T17:32:18.745291Z"
    },
    "papermill": {
     "duration": 0.048697,
     "end_time": "2024-09-02T17:32:18.749652",
     "exception": false,
     "start_time": "2024-09-02T17:32:18.700955",
     "status": "completed"
    },
    "tags": []
   },
   "outputs": [],
   "source": [
    "df = pd.read_csv('/kaggle/input/premier-league-stats-2022-2023/Premier_League.csv')\n"
   ]
  },
  {
   "cell_type": "code",
   "execution_count": 3,
   "id": "95dd35e6",
   "metadata": {
    "execution": {
     "iopub.execute_input": "2024-09-02T17:32:18.774290Z",
     "iopub.status.busy": "2024-09-02T17:32:18.773751Z",
     "iopub.status.idle": "2024-09-02T17:32:18.824915Z",
     "shell.execute_reply": "2024-09-02T17:32:18.823279Z"
    },
    "papermill": {
     "duration": 0.067034,
     "end_time": "2024-09-02T17:32:18.827926",
     "exception": false,
     "start_time": "2024-09-02T17:32:18.760892",
     "status": "completed"
    },
    "tags": []
   },
   "outputs": [
    {
     "data": {
      "text/html": [
       "<div>\n",
       "<style scoped>\n",
       "    .dataframe tbody tr th:only-of-type {\n",
       "        vertical-align: middle;\n",
       "    }\n",
       "\n",
       "    .dataframe tbody tr th {\n",
       "        vertical-align: top;\n",
       "    }\n",
       "\n",
       "    .dataframe thead th {\n",
       "        text-align: right;\n",
       "    }\n",
       "</style>\n",
       "<table border=\"1\" class=\"dataframe\">\n",
       "  <thead>\n",
       "    <tr style=\"text-align: right;\">\n",
       "      <th></th>\n",
       "      <th>date</th>\n",
       "      <th>clock</th>\n",
       "      <th>stadium</th>\n",
       "      <th>attendance</th>\n",
       "      <th>Home Team</th>\n",
       "      <th>Goals Home</th>\n",
       "      <th>Away Team</th>\n",
       "      <th>Away Goals</th>\n",
       "      <th>home_possessions</th>\n",
       "      <th>away_possessions</th>\n",
       "      <th>...</th>\n",
       "      <th>away_duels</th>\n",
       "      <th>home_saves</th>\n",
       "      <th>away_saves</th>\n",
       "      <th>home_fouls</th>\n",
       "      <th>away_fouls</th>\n",
       "      <th>home_yellow</th>\n",
       "      <th>away_yellow</th>\n",
       "      <th>home_red</th>\n",
       "      <th>away_red</th>\n",
       "      <th>links</th>\n",
       "    </tr>\n",
       "  </thead>\n",
       "  <tbody>\n",
       "    <tr>\n",
       "      <th>0</th>\n",
       "      <td>28th May 2023</td>\n",
       "      <td>4:30pm</td>\n",
       "      <td>Emirates Stadium</td>\n",
       "      <td>60,095</td>\n",
       "      <td>Arsenal</td>\n",
       "      <td>5</td>\n",
       "      <td>Wolverhampton Wanderers</td>\n",
       "      <td>0</td>\n",
       "      <td>51.0</td>\n",
       "      <td>49.0</td>\n",
       "      <td>...</td>\n",
       "      <td>52.2</td>\n",
       "      <td>0</td>\n",
       "      <td>3</td>\n",
       "      <td>8</td>\n",
       "      <td>11</td>\n",
       "      <td>0</td>\n",
       "      <td>0</td>\n",
       "      <td>0</td>\n",
       "      <td>0</td>\n",
       "      <td>https://www.skysports.com/football/arsenal-vs-...</td>\n",
       "    </tr>\n",
       "    <tr>\n",
       "      <th>1</th>\n",
       "      <td>28th May 2023</td>\n",
       "      <td>4:30pm</td>\n",
       "      <td>Villa Park</td>\n",
       "      <td>42,212</td>\n",
       "      <td>Aston Villa</td>\n",
       "      <td>2</td>\n",
       "      <td>Brighton and Hove Albion</td>\n",
       "      <td>1</td>\n",
       "      <td>40.3</td>\n",
       "      <td>59.7</td>\n",
       "      <td>...</td>\n",
       "      <td>47.8</td>\n",
       "      <td>3</td>\n",
       "      <td>3</td>\n",
       "      <td>15</td>\n",
       "      <td>16</td>\n",
       "      <td>4</td>\n",
       "      <td>4</td>\n",
       "      <td>0</td>\n",
       "      <td>0</td>\n",
       "      <td>https://www.skysports.com/football/aston-villa...</td>\n",
       "    </tr>\n",
       "    <tr>\n",
       "      <th>2</th>\n",
       "      <td>28th May 2023</td>\n",
       "      <td>4:30pm</td>\n",
       "      <td>Gtech Community Stadium</td>\n",
       "      <td>17,120</td>\n",
       "      <td>Brentford</td>\n",
       "      <td>1</td>\n",
       "      <td>Manchester City</td>\n",
       "      <td>0</td>\n",
       "      <td>34.4</td>\n",
       "      <td>65.6</td>\n",
       "      <td>...</td>\n",
       "      <td>50.0</td>\n",
       "      <td>2</td>\n",
       "      <td>3</td>\n",
       "      <td>12</td>\n",
       "      <td>8</td>\n",
       "      <td>4</td>\n",
       "      <td>0</td>\n",
       "      <td>0</td>\n",
       "      <td>0</td>\n",
       "      <td>https://www.skysports.com/football/brentford-v...</td>\n",
       "    </tr>\n",
       "    <tr>\n",
       "      <th>3</th>\n",
       "      <td>28th May 2023</td>\n",
       "      <td>4:30pm</td>\n",
       "      <td>Stamford Bridge</td>\n",
       "      <td>40,130</td>\n",
       "      <td>Chelsea</td>\n",
       "      <td>1</td>\n",
       "      <td>Newcastle United</td>\n",
       "      <td>1</td>\n",
       "      <td>64.4</td>\n",
       "      <td>35.6</td>\n",
       "      <td>...</td>\n",
       "      <td>45.5</td>\n",
       "      <td>3</td>\n",
       "      <td>5</td>\n",
       "      <td>9</td>\n",
       "      <td>11</td>\n",
       "      <td>0</td>\n",
       "      <td>0</td>\n",
       "      <td>0</td>\n",
       "      <td>0</td>\n",
       "      <td>https://www.skysports.com/football/chelsea-vs-...</td>\n",
       "    </tr>\n",
       "    <tr>\n",
       "      <th>4</th>\n",
       "      <td>28th May 2023</td>\n",
       "      <td>4:30pm</td>\n",
       "      <td>Selhurst Park</td>\n",
       "      <td>25,198</td>\n",
       "      <td>Crystal Palace</td>\n",
       "      <td>1</td>\n",
       "      <td>Nottingham Forest</td>\n",
       "      <td>1</td>\n",
       "      <td>66.0</td>\n",
       "      <td>34.0</td>\n",
       "      <td>...</td>\n",
       "      <td>41.7</td>\n",
       "      <td>3</td>\n",
       "      <td>2</td>\n",
       "      <td>9</td>\n",
       "      <td>13</td>\n",
       "      <td>0</td>\n",
       "      <td>2</td>\n",
       "      <td>0</td>\n",
       "      <td>0</td>\n",
       "      <td>https://www.skysports.com/football/crystal-pal...</td>\n",
       "    </tr>\n",
       "  </tbody>\n",
       "</table>\n",
       "<p>5 rows × 39 columns</p>\n",
       "</div>"
      ],
      "text/plain": [
       "            date   clock                  stadium attendance       Home Team  \\\n",
       "0  28th May 2023  4:30pm         Emirates Stadium     60,095         Arsenal   \n",
       "1  28th May 2023  4:30pm               Villa Park     42,212     Aston Villa   \n",
       "2  28th May 2023  4:30pm  Gtech Community Stadium     17,120       Brentford   \n",
       "3  28th May 2023  4:30pm          Stamford Bridge     40,130         Chelsea   \n",
       "4  28th May 2023  4:30pm            Selhurst Park     25,198  Crystal Palace   \n",
       "\n",
       "   Goals Home                 Away Team  Away Goals  home_possessions  \\\n",
       "0           5   Wolverhampton Wanderers           0              51.0   \n",
       "1           2  Brighton and Hove Albion           1              40.3   \n",
       "2           1           Manchester City           0              34.4   \n",
       "3           1          Newcastle United           1              64.4   \n",
       "4           1         Nottingham Forest           1              66.0   \n",
       "\n",
       "   away_possessions  ...  away_duels  home_saves  away_saves  home_fouls  \\\n",
       "0              49.0  ...        52.2           0           3           8   \n",
       "1              59.7  ...        47.8           3           3          15   \n",
       "2              65.6  ...        50.0           2           3          12   \n",
       "3              35.6  ...        45.5           3           5           9   \n",
       "4              34.0  ...        41.7           3           2           9   \n",
       "\n",
       "   away_fouls  home_yellow  away_yellow  home_red  away_red  \\\n",
       "0          11            0            0         0         0   \n",
       "1          16            4            4         0         0   \n",
       "2           8            4            0         0         0   \n",
       "3          11            0            0         0         0   \n",
       "4          13            0            2         0         0   \n",
       "\n",
       "                                               links  \n",
       "0  https://www.skysports.com/football/arsenal-vs-...  \n",
       "1  https://www.skysports.com/football/aston-villa...  \n",
       "2  https://www.skysports.com/football/brentford-v...  \n",
       "3  https://www.skysports.com/football/chelsea-vs-...  \n",
       "4  https://www.skysports.com/football/crystal-pal...  \n",
       "\n",
       "[5 rows x 39 columns]"
      ]
     },
     "execution_count": 3,
     "metadata": {},
     "output_type": "execute_result"
    }
   ],
   "source": [
    "df.head()"
   ]
  },
  {
   "cell_type": "code",
   "execution_count": 4,
   "id": "eb5791fc",
   "metadata": {
    "execution": {
     "iopub.execute_input": "2024-09-02T17:32:18.856447Z",
     "iopub.status.busy": "2024-09-02T17:32:18.855963Z",
     "iopub.status.idle": "2024-09-02T17:32:18.958557Z",
     "shell.execute_reply": "2024-09-02T17:32:18.956971Z"
    },
    "papermill": {
     "duration": 0.120613,
     "end_time": "2024-09-02T17:32:18.961744",
     "exception": false,
     "start_time": "2024-09-02T17:32:18.841131",
     "status": "completed"
    },
    "tags": []
   },
   "outputs": [
    {
     "data": {
      "text/html": [
       "<div>\n",
       "<style scoped>\n",
       "    .dataframe tbody tr th:only-of-type {\n",
       "        vertical-align: middle;\n",
       "    }\n",
       "\n",
       "    .dataframe tbody tr th {\n",
       "        vertical-align: top;\n",
       "    }\n",
       "\n",
       "    .dataframe thead th {\n",
       "        text-align: right;\n",
       "    }\n",
       "</style>\n",
       "<table border=\"1\" class=\"dataframe\">\n",
       "  <thead>\n",
       "    <tr style=\"text-align: right;\">\n",
       "      <th></th>\n",
       "      <th>Goals Home</th>\n",
       "      <th>Away Goals</th>\n",
       "      <th>home_possessions</th>\n",
       "      <th>away_possessions</th>\n",
       "      <th>home_shots</th>\n",
       "      <th>away_shots</th>\n",
       "      <th>home_on</th>\n",
       "      <th>away_on</th>\n",
       "      <th>home_off</th>\n",
       "      <th>away_off</th>\n",
       "      <th>...</th>\n",
       "      <th>home_duels</th>\n",
       "      <th>away_duels</th>\n",
       "      <th>home_saves</th>\n",
       "      <th>away_saves</th>\n",
       "      <th>home_fouls</th>\n",
       "      <th>away_fouls</th>\n",
       "      <th>home_yellow</th>\n",
       "      <th>away_yellow</th>\n",
       "      <th>home_red</th>\n",
       "      <th>away_red</th>\n",
       "    </tr>\n",
       "  </thead>\n",
       "  <tbody>\n",
       "    <tr>\n",
       "      <th>count</th>\n",
       "      <td>380.000000</td>\n",
       "      <td>380.000000</td>\n",
       "      <td>380.000000</td>\n",
       "      <td>380.000000</td>\n",
       "      <td>380.000000</td>\n",
       "      <td>380.000000</td>\n",
       "      <td>380.000000</td>\n",
       "      <td>380.000000</td>\n",
       "      <td>380.000000</td>\n",
       "      <td>380.000000</td>\n",
       "      <td>...</td>\n",
       "      <td>380.000000</td>\n",
       "      <td>380.000000</td>\n",
       "      <td>380.000000</td>\n",
       "      <td>380.000000</td>\n",
       "      <td>380.000000</td>\n",
       "      <td>380.000000</td>\n",
       "      <td>380.000000</td>\n",
       "      <td>380.000000</td>\n",
       "      <td>380.000000</td>\n",
       "      <td>380.000000</td>\n",
       "    </tr>\n",
       "    <tr>\n",
       "      <th>mean</th>\n",
       "      <td>1.634211</td>\n",
       "      <td>1.218421</td>\n",
       "      <td>50.447632</td>\n",
       "      <td>49.552368</td>\n",
       "      <td>13.973684</td>\n",
       "      <td>11.313158</td>\n",
       "      <td>4.913158</td>\n",
       "      <td>3.897368</td>\n",
       "      <td>5.110526</td>\n",
       "      <td>4.236842</td>\n",
       "      <td>...</td>\n",
       "      <td>50.611053</td>\n",
       "      <td>49.391579</td>\n",
       "      <td>2.650000</td>\n",
       "      <td>3.213158</td>\n",
       "      <td>10.607895</td>\n",
       "      <td>10.957895</td>\n",
       "      <td>1.676316</td>\n",
       "      <td>1.939474</td>\n",
       "      <td>0.052632</td>\n",
       "      <td>0.026316</td>\n",
       "    </tr>\n",
       "    <tr>\n",
       "      <th>std</th>\n",
       "      <td>1.419944</td>\n",
       "      <td>1.183518</td>\n",
       "      <td>12.896888</td>\n",
       "      <td>12.896888</td>\n",
       "      <td>5.600541</td>\n",
       "      <td>4.908593</td>\n",
       "      <td>2.495449</td>\n",
       "      <td>2.230159</td>\n",
       "      <td>2.547365</td>\n",
       "      <td>2.397604</td>\n",
       "      <td>...</td>\n",
       "      <td>11.012290</td>\n",
       "      <td>11.010639</td>\n",
       "      <td>1.838069</td>\n",
       "      <td>1.967905</td>\n",
       "      <td>3.273213</td>\n",
       "      <td>3.481321</td>\n",
       "      <td>1.259462</td>\n",
       "      <td>1.364464</td>\n",
       "      <td>0.246063</td>\n",
       "      <td>0.160284</td>\n",
       "    </tr>\n",
       "    <tr>\n",
       "      <th>min</th>\n",
       "      <td>0.000000</td>\n",
       "      <td>0.000000</td>\n",
       "      <td>18.300000</td>\n",
       "      <td>18.900000</td>\n",
       "      <td>1.000000</td>\n",
       "      <td>1.000000</td>\n",
       "      <td>0.000000</td>\n",
       "      <td>0.000000</td>\n",
       "      <td>0.000000</td>\n",
       "      <td>0.000000</td>\n",
       "      <td>...</td>\n",
       "      <td>10.000000</td>\n",
       "      <td>10.000000</td>\n",
       "      <td>0.000000</td>\n",
       "      <td>0.000000</td>\n",
       "      <td>3.000000</td>\n",
       "      <td>3.000000</td>\n",
       "      <td>0.000000</td>\n",
       "      <td>0.000000</td>\n",
       "      <td>0.000000</td>\n",
       "      <td>0.000000</td>\n",
       "    </tr>\n",
       "    <tr>\n",
       "      <th>25%</th>\n",
       "      <td>1.000000</td>\n",
       "      <td>0.000000</td>\n",
       "      <td>39.900000</td>\n",
       "      <td>40.400000</td>\n",
       "      <td>10.000000</td>\n",
       "      <td>8.000000</td>\n",
       "      <td>3.000000</td>\n",
       "      <td>2.000000</td>\n",
       "      <td>3.000000</td>\n",
       "      <td>3.000000</td>\n",
       "      <td>...</td>\n",
       "      <td>43.450000</td>\n",
       "      <td>42.475000</td>\n",
       "      <td>1.000000</td>\n",
       "      <td>2.000000</td>\n",
       "      <td>8.000000</td>\n",
       "      <td>8.750000</td>\n",
       "      <td>1.000000</td>\n",
       "      <td>1.000000</td>\n",
       "      <td>0.000000</td>\n",
       "      <td>0.000000</td>\n",
       "    </tr>\n",
       "    <tr>\n",
       "      <th>50%</th>\n",
       "      <td>1.000000</td>\n",
       "      <td>1.000000</td>\n",
       "      <td>51.000000</td>\n",
       "      <td>49.000000</td>\n",
       "      <td>14.000000</td>\n",
       "      <td>11.000000</td>\n",
       "      <td>5.000000</td>\n",
       "      <td>4.000000</td>\n",
       "      <td>5.000000</td>\n",
       "      <td>4.000000</td>\n",
       "      <td>...</td>\n",
       "      <td>51.450000</td>\n",
       "      <td>48.550000</td>\n",
       "      <td>2.000000</td>\n",
       "      <td>3.000000</td>\n",
       "      <td>10.000000</td>\n",
       "      <td>11.000000</td>\n",
       "      <td>2.000000</td>\n",
       "      <td>2.000000</td>\n",
       "      <td>0.000000</td>\n",
       "      <td>0.000000</td>\n",
       "    </tr>\n",
       "    <tr>\n",
       "      <th>75%</th>\n",
       "      <td>2.000000</td>\n",
       "      <td>2.000000</td>\n",
       "      <td>59.600000</td>\n",
       "      <td>60.100000</td>\n",
       "      <td>17.000000</td>\n",
       "      <td>15.000000</td>\n",
       "      <td>7.000000</td>\n",
       "      <td>5.000000</td>\n",
       "      <td>7.000000</td>\n",
       "      <td>6.000000</td>\n",
       "      <td>...</td>\n",
       "      <td>57.525000</td>\n",
       "      <td>56.550000</td>\n",
       "      <td>4.000000</td>\n",
       "      <td>5.000000</td>\n",
       "      <td>13.000000</td>\n",
       "      <td>13.000000</td>\n",
       "      <td>3.000000</td>\n",
       "      <td>3.000000</td>\n",
       "      <td>0.000000</td>\n",
       "      <td>0.000000</td>\n",
       "    </tr>\n",
       "    <tr>\n",
       "      <th>max</th>\n",
       "      <td>9.000000</td>\n",
       "      <td>6.000000</td>\n",
       "      <td>81.100000</td>\n",
       "      <td>81.700000</td>\n",
       "      <td>33.000000</td>\n",
       "      <td>30.000000</td>\n",
       "      <td>15.000000</td>\n",
       "      <td>11.000000</td>\n",
       "      <td>15.000000</td>\n",
       "      <td>12.000000</td>\n",
       "      <td>...</td>\n",
       "      <td>90.000000</td>\n",
       "      <td>90.000000</td>\n",
       "      <td>9.000000</td>\n",
       "      <td>11.000000</td>\n",
       "      <td>23.000000</td>\n",
       "      <td>25.000000</td>\n",
       "      <td>6.000000</td>\n",
       "      <td>7.000000</td>\n",
       "      <td>2.000000</td>\n",
       "      <td>1.000000</td>\n",
       "    </tr>\n",
       "  </tbody>\n",
       "</table>\n",
       "<p>8 rows × 32 columns</p>\n",
       "</div>"
      ],
      "text/plain": [
       "       Goals Home  Away Goals  home_possessions  away_possessions  home_shots  \\\n",
       "count  380.000000  380.000000        380.000000        380.000000  380.000000   \n",
       "mean     1.634211    1.218421         50.447632         49.552368   13.973684   \n",
       "std      1.419944    1.183518         12.896888         12.896888    5.600541   \n",
       "min      0.000000    0.000000         18.300000         18.900000    1.000000   \n",
       "25%      1.000000    0.000000         39.900000         40.400000   10.000000   \n",
       "50%      1.000000    1.000000         51.000000         49.000000   14.000000   \n",
       "75%      2.000000    2.000000         59.600000         60.100000   17.000000   \n",
       "max      9.000000    6.000000         81.100000         81.700000   33.000000   \n",
       "\n",
       "       away_shots     home_on     away_on    home_off    away_off  ...  \\\n",
       "count  380.000000  380.000000  380.000000  380.000000  380.000000  ...   \n",
       "mean    11.313158    4.913158    3.897368    5.110526    4.236842  ...   \n",
       "std      4.908593    2.495449    2.230159    2.547365    2.397604  ...   \n",
       "min      1.000000    0.000000    0.000000    0.000000    0.000000  ...   \n",
       "25%      8.000000    3.000000    2.000000    3.000000    3.000000  ...   \n",
       "50%     11.000000    5.000000    4.000000    5.000000    4.000000  ...   \n",
       "75%     15.000000    7.000000    5.000000    7.000000    6.000000  ...   \n",
       "max     30.000000   15.000000   11.000000   15.000000   12.000000  ...   \n",
       "\n",
       "       home_duels  away_duels  home_saves  away_saves  home_fouls  away_fouls  \\\n",
       "count  380.000000  380.000000  380.000000  380.000000  380.000000  380.000000   \n",
       "mean    50.611053   49.391579    2.650000    3.213158   10.607895   10.957895   \n",
       "std     11.012290   11.010639    1.838069    1.967905    3.273213    3.481321   \n",
       "min     10.000000   10.000000    0.000000    0.000000    3.000000    3.000000   \n",
       "25%     43.450000   42.475000    1.000000    2.000000    8.000000    8.750000   \n",
       "50%     51.450000   48.550000    2.000000    3.000000   10.000000   11.000000   \n",
       "75%     57.525000   56.550000    4.000000    5.000000   13.000000   13.000000   \n",
       "max     90.000000   90.000000    9.000000   11.000000   23.000000   25.000000   \n",
       "\n",
       "       home_yellow  away_yellow    home_red    away_red  \n",
       "count   380.000000   380.000000  380.000000  380.000000  \n",
       "mean      1.676316     1.939474    0.052632    0.026316  \n",
       "std       1.259462     1.364464    0.246063    0.160284  \n",
       "min       0.000000     0.000000    0.000000    0.000000  \n",
       "25%       1.000000     1.000000    0.000000    0.000000  \n",
       "50%       2.000000     2.000000    0.000000    0.000000  \n",
       "75%       3.000000     3.000000    0.000000    0.000000  \n",
       "max       6.000000     7.000000    2.000000    1.000000  \n",
       "\n",
       "[8 rows x 32 columns]"
      ]
     },
     "execution_count": 4,
     "metadata": {},
     "output_type": "execute_result"
    }
   ],
   "source": [
    "df.describe()"
   ]
  },
  {
   "cell_type": "code",
   "execution_count": 5,
   "id": "92622c8e",
   "metadata": {
    "execution": {
     "iopub.execute_input": "2024-09-02T17:32:18.991148Z",
     "iopub.status.busy": "2024-09-02T17:32:18.990680Z",
     "iopub.status.idle": "2024-09-02T17:32:19.023496Z",
     "shell.execute_reply": "2024-09-02T17:32:19.021188Z"
    },
    "papermill": {
     "duration": 0.051884,
     "end_time": "2024-09-02T17:32:19.028146",
     "exception": false,
     "start_time": "2024-09-02T17:32:18.976262",
     "status": "completed"
    },
    "tags": []
   },
   "outputs": [
    {
     "name": "stdout",
     "output_type": "stream",
     "text": [
      "<class 'pandas.core.frame.DataFrame'>\n",
      "RangeIndex: 380 entries, 0 to 379\n",
      "Data columns (total 39 columns):\n",
      " #   Column            Non-Null Count  Dtype  \n",
      "---  ------            --------------  -----  \n",
      " 0   date              380 non-null    object \n",
      " 1   clock             380 non-null    object \n",
      " 2   stadium           380 non-null    object \n",
      " 3   attendance        380 non-null    object \n",
      " 4   Home Team         380 non-null    object \n",
      " 5   Goals Home        380 non-null    int64  \n",
      " 6   Away Team         380 non-null    object \n",
      " 7   Away Goals        380 non-null    int64  \n",
      " 8   home_possessions  380 non-null    float64\n",
      " 9   away_possessions  380 non-null    float64\n",
      " 10  home_shots        380 non-null    int64  \n",
      " 11  away_shots        380 non-null    int64  \n",
      " 12  home_on           380 non-null    int64  \n",
      " 13  away_on           380 non-null    int64  \n",
      " 14  home_off          380 non-null    int64  \n",
      " 15  away_off          380 non-null    int64  \n",
      " 16  home_blocked      380 non-null    int64  \n",
      " 17  away_blocked      380 non-null    int64  \n",
      " 18  home_pass         380 non-null    float64\n",
      " 19  away_pass         380 non-null    float64\n",
      " 20  home_chances      380 non-null    int64  \n",
      " 21  away_chances      380 non-null    int64  \n",
      " 22  home_corners      380 non-null    int64  \n",
      " 23  away_corners      380 non-null    int64  \n",
      " 24  home_offside      380 non-null    int64  \n",
      " 25  away_offside      380 non-null    int64  \n",
      " 26  home_tackles      380 non-null    float64\n",
      " 27  away_tackles      380 non-null    float64\n",
      " 28  home_duels        380 non-null    float64\n",
      " 29  away_duels        380 non-null    float64\n",
      " 30  home_saves        380 non-null    int64  \n",
      " 31  away_saves        380 non-null    int64  \n",
      " 32  home_fouls        380 non-null    int64  \n",
      " 33  away_fouls        380 non-null    int64  \n",
      " 34  home_yellow       380 non-null    int64  \n",
      " 35  away_yellow       380 non-null    int64  \n",
      " 36  home_red          380 non-null    int64  \n",
      " 37  away_red          380 non-null    int64  \n",
      " 38  links             380 non-null    object \n",
      "dtypes: float64(8), int64(24), object(7)\n",
      "memory usage: 115.9+ KB\n"
     ]
    }
   ],
   "source": [
    "df.info()"
   ]
  },
  {
   "cell_type": "code",
   "execution_count": 6,
   "id": "d78b3f17",
   "metadata": {
    "execution": {
     "iopub.execute_input": "2024-09-02T17:32:19.056171Z",
     "iopub.status.busy": "2024-09-02T17:32:19.055565Z",
     "iopub.status.idle": "2024-09-02T17:32:19.068659Z",
     "shell.execute_reply": "2024-09-02T17:32:19.066886Z"
    },
    "papermill": {
     "duration": 0.03073,
     "end_time": "2024-09-02T17:32:19.071705",
     "exception": false,
     "start_time": "2024-09-02T17:32:19.040975",
     "status": "completed"
    },
    "tags": []
   },
   "outputs": [
    {
     "data": {
      "text/plain": [
       "date                0\n",
       "clock               0\n",
       "stadium             0\n",
       "attendance          0\n",
       "Home Team           0\n",
       "Goals Home          0\n",
       "Away Team           0\n",
       "Away Goals          0\n",
       "home_possessions    0\n",
       "away_possessions    0\n",
       "home_shots          0\n",
       "away_shots          0\n",
       "home_on             0\n",
       "away_on             0\n",
       "home_off            0\n",
       "away_off            0\n",
       "home_blocked        0\n",
       "away_blocked        0\n",
       "home_pass           0\n",
       "away_pass           0\n",
       "home_chances        0\n",
       "away_chances        0\n",
       "home_corners        0\n",
       "away_corners        0\n",
       "home_offside        0\n",
       "away_offside        0\n",
       "home_tackles        0\n",
       "away_tackles        0\n",
       "home_duels          0\n",
       "away_duels          0\n",
       "home_saves          0\n",
       "away_saves          0\n",
       "home_fouls          0\n",
       "away_fouls          0\n",
       "home_yellow         0\n",
       "away_yellow         0\n",
       "home_red            0\n",
       "away_red            0\n",
       "links               0\n",
       "dtype: int64"
      ]
     },
     "execution_count": 6,
     "metadata": {},
     "output_type": "execute_result"
    }
   ],
   "source": [
    "df.isnull().sum()"
   ]
  },
  {
   "cell_type": "code",
   "execution_count": 7,
   "id": "bd037bb6",
   "metadata": {
    "execution": {
     "iopub.execute_input": "2024-09-02T17:32:19.101028Z",
     "iopub.status.busy": "2024-09-02T17:32:19.100514Z",
     "iopub.status.idle": "2024-09-02T17:32:19.117906Z",
     "shell.execute_reply": "2024-09-02T17:32:19.116255Z"
    },
    "papermill": {
     "duration": 0.035984,
     "end_time": "2024-09-02T17:32:19.121002",
     "exception": false,
     "start_time": "2024-09-02T17:32:19.085018",
     "status": "completed"
    },
    "tags": []
   },
   "outputs": [
    {
     "data": {
      "text/plain": [
       "0"
      ]
     },
     "execution_count": 7,
     "metadata": {},
     "output_type": "execute_result"
    }
   ],
   "source": [
    "df.duplicated().sum()\n",
    "# There are no duplicate records."
   ]
  },
  {
   "cell_type": "code",
   "execution_count": 8,
   "id": "d8d365a5",
   "metadata": {
    "execution": {
     "iopub.execute_input": "2024-09-02T17:32:19.149816Z",
     "iopub.status.busy": "2024-09-02T17:32:19.149303Z",
     "iopub.status.idle": "2024-09-02T17:32:19.159821Z",
     "shell.execute_reply": "2024-09-02T17:32:19.158061Z"
    },
    "papermill": {
     "duration": 0.029392,
     "end_time": "2024-09-02T17:32:19.163338",
     "exception": false,
     "start_time": "2024-09-02T17:32:19.133946",
     "status": "completed"
    },
    "tags": []
   },
   "outputs": [
    {
     "data": {
      "text/plain": [
       "str"
      ]
     },
     "execution_count": 8,
     "metadata": {},
     "output_type": "execute_result"
    }
   ],
   "source": [
    "type(df.loc[1,\"date\"])\n",
    "#Check the data type of our 'date' column.\n",
    "# It turned out to be a string data type; let's complete the conversion to a date type. \n",
    "# However, let's not forget the presence of 'st', 'nd', 'rd', and 'th' suffixes."
   ]
  },
  {
   "cell_type": "code",
   "execution_count": 9,
   "id": "2641e08f",
   "metadata": {
    "execution": {
     "iopub.execute_input": "2024-09-02T17:32:19.192289Z",
     "iopub.status.busy": "2024-09-02T17:32:19.191707Z",
     "iopub.status.idle": "2024-09-02T17:32:19.211646Z",
     "shell.execute_reply": "2024-09-02T17:32:19.209994Z"
    },
    "papermill": {
     "duration": 0.038401,
     "end_time": "2024-09-02T17:32:19.214961",
     "exception": false,
     "start_time": "2024-09-02T17:32:19.176560",
     "status": "completed"
    },
    "tags": []
   },
   "outputs": [],
   "source": [
    "df[\"date\"] = df[\"date\"].str.replace(r'\\d+(st|nd|rd|th)', '', regex=True).str.strip()\n",
    "df['date'] = pd.to_datetime(df['date'])"
   ]
  },
  {
   "cell_type": "code",
   "execution_count": 10,
   "id": "7071d96f",
   "metadata": {
    "execution": {
     "iopub.execute_input": "2024-09-02T17:32:19.243712Z",
     "iopub.status.busy": "2024-09-02T17:32:19.243162Z",
     "iopub.status.idle": "2024-09-02T17:32:19.254005Z",
     "shell.execute_reply": "2024-09-02T17:32:19.252587Z"
    },
    "papermill": {
     "duration": 0.02794,
     "end_time": "2024-09-02T17:32:19.256588",
     "exception": false,
     "start_time": "2024-09-02T17:32:19.228648",
     "status": "completed"
    },
    "tags": []
   },
   "outputs": [
    {
     "data": {
      "text/plain": [
       "0   2023-05-01\n",
       "1   2023-05-01\n",
       "2   2023-05-01\n",
       "3   2023-05-01\n",
       "4   2023-05-01\n",
       "Name: date, dtype: datetime64[ns]"
      ]
     },
     "execution_count": 10,
     "metadata": {},
     "output_type": "execute_result"
    }
   ],
   "source": [
    "df[\"date\"].head()\n",
    "# We've completed the conversion. Now, let's split this data into three separate columns for year, month, and day."
   ]
  },
  {
   "cell_type": "code",
   "execution_count": 11,
   "id": "0a904096",
   "metadata": {
    "execution": {
     "iopub.execute_input": "2024-09-02T17:32:19.284514Z",
     "iopub.status.busy": "2024-09-02T17:32:19.283983Z",
     "iopub.status.idle": "2024-09-02T17:32:19.305880Z",
     "shell.execute_reply": "2024-09-02T17:32:19.304117Z"
    },
    "papermill": {
     "duration": 0.040098,
     "end_time": "2024-09-02T17:32:19.309495",
     "exception": false,
     "start_time": "2024-09-02T17:32:19.269397",
     "status": "completed"
    },
    "tags": []
   },
   "outputs": [],
   "source": [
    "df[\"year\"] = df[\"date\"].dt.year\n",
    "df[\"month\"] = df[\"date\"].dt.month\n",
    "df[\"day\"] = df[\"date\"].dt.day"
   ]
  },
  {
   "cell_type": "code",
   "execution_count": 12,
   "id": "0e3c9689",
   "metadata": {
    "execution": {
     "iopub.execute_input": "2024-09-02T17:32:19.340389Z",
     "iopub.status.busy": "2024-09-02T17:32:19.339867Z",
     "iopub.status.idle": "2024-09-02T17:32:19.349808Z",
     "shell.execute_reply": "2024-09-02T17:32:19.348180Z"
    },
    "papermill": {
     "duration": 0.030402,
     "end_time": "2024-09-02T17:32:19.353925",
     "exception": false,
     "start_time": "2024-09-02T17:32:19.323523",
     "status": "completed"
    },
    "tags": []
   },
   "outputs": [
    {
     "name": "stdout",
     "output_type": "stream",
     "text": [
      "0    2023\n",
      "1    2023\n",
      "2    2023\n",
      "3    2023\n",
      "4    2023\n",
      "Name: year, dtype: int32\n",
      "0    5\n",
      "1    5\n",
      "2    5\n",
      "3    5\n",
      "4    5\n",
      "Name: month, dtype: int32\n",
      "0    1\n",
      "1    1\n",
      "2    1\n",
      "3    1\n",
      "4    1\n",
      "Name: day, dtype: int32\n"
     ]
    }
   ],
   "source": [
    "print(df[\"year\"].head())\n",
    "print(df[\"month\"].head())\n",
    "print(df[\"day\"].head())"
   ]
  },
  {
   "cell_type": "code",
   "execution_count": 13,
   "id": "f0ba13a4",
   "metadata": {
    "execution": {
     "iopub.execute_input": "2024-09-02T17:32:19.384898Z",
     "iopub.status.busy": "2024-09-02T17:32:19.384415Z",
     "iopub.status.idle": "2024-09-02T17:32:19.417418Z",
     "shell.execute_reply": "2024-09-02T17:32:19.415802Z"
    },
    "papermill": {
     "duration": 0.052324,
     "end_time": "2024-09-02T17:32:19.420663",
     "exception": false,
     "start_time": "2024-09-02T17:32:19.368339",
     "status": "completed"
    },
    "tags": []
   },
   "outputs": [
    {
     "data": {
      "text/html": [
       "<div>\n",
       "<style scoped>\n",
       "    .dataframe tbody tr th:only-of-type {\n",
       "        vertical-align: middle;\n",
       "    }\n",
       "\n",
       "    .dataframe tbody tr th {\n",
       "        vertical-align: top;\n",
       "    }\n",
       "\n",
       "    .dataframe thead th {\n",
       "        text-align: right;\n",
       "    }\n",
       "</style>\n",
       "<table border=\"1\" class=\"dataframe\">\n",
       "  <thead>\n",
       "    <tr style=\"text-align: right;\">\n",
       "      <th></th>\n",
       "      <th>stadium</th>\n",
       "      <th>attendance</th>\n",
       "      <th>Home Team</th>\n",
       "      <th>Goals Home</th>\n",
       "      <th>Away Team</th>\n",
       "      <th>Away Goals</th>\n",
       "      <th>home_possessions</th>\n",
       "      <th>away_possessions</th>\n",
       "      <th>home_shots</th>\n",
       "      <th>away_shots</th>\n",
       "      <th>...</th>\n",
       "      <th>away_saves</th>\n",
       "      <th>home_fouls</th>\n",
       "      <th>away_fouls</th>\n",
       "      <th>home_yellow</th>\n",
       "      <th>away_yellow</th>\n",
       "      <th>home_red</th>\n",
       "      <th>away_red</th>\n",
       "      <th>year</th>\n",
       "      <th>month</th>\n",
       "      <th>day</th>\n",
       "    </tr>\n",
       "  </thead>\n",
       "  <tbody>\n",
       "    <tr>\n",
       "      <th>0</th>\n",
       "      <td>Emirates Stadium</td>\n",
       "      <td>60,095</td>\n",
       "      <td>Arsenal</td>\n",
       "      <td>5</td>\n",
       "      <td>Wolverhampton Wanderers</td>\n",
       "      <td>0</td>\n",
       "      <td>51.0</td>\n",
       "      <td>49.0</td>\n",
       "      <td>14</td>\n",
       "      <td>6</td>\n",
       "      <td>...</td>\n",
       "      <td>3</td>\n",
       "      <td>8</td>\n",
       "      <td>11</td>\n",
       "      <td>0</td>\n",
       "      <td>0</td>\n",
       "      <td>0</td>\n",
       "      <td>0</td>\n",
       "      <td>2023</td>\n",
       "      <td>5</td>\n",
       "      <td>1</td>\n",
       "    </tr>\n",
       "    <tr>\n",
       "      <th>1</th>\n",
       "      <td>Villa Park</td>\n",
       "      <td>42,212</td>\n",
       "      <td>Aston Villa</td>\n",
       "      <td>2</td>\n",
       "      <td>Brighton and Hove Albion</td>\n",
       "      <td>1</td>\n",
       "      <td>40.3</td>\n",
       "      <td>59.7</td>\n",
       "      <td>12</td>\n",
       "      <td>8</td>\n",
       "      <td>...</td>\n",
       "      <td>3</td>\n",
       "      <td>15</td>\n",
       "      <td>16</td>\n",
       "      <td>4</td>\n",
       "      <td>4</td>\n",
       "      <td>0</td>\n",
       "      <td>0</td>\n",
       "      <td>2023</td>\n",
       "      <td>5</td>\n",
       "      <td>1</td>\n",
       "    </tr>\n",
       "    <tr>\n",
       "      <th>2</th>\n",
       "      <td>Gtech Community Stadium</td>\n",
       "      <td>17,120</td>\n",
       "      <td>Brentford</td>\n",
       "      <td>1</td>\n",
       "      <td>Manchester City</td>\n",
       "      <td>0</td>\n",
       "      <td>34.4</td>\n",
       "      <td>65.6</td>\n",
       "      <td>11</td>\n",
       "      <td>17</td>\n",
       "      <td>...</td>\n",
       "      <td>3</td>\n",
       "      <td>12</td>\n",
       "      <td>8</td>\n",
       "      <td>4</td>\n",
       "      <td>0</td>\n",
       "      <td>0</td>\n",
       "      <td>0</td>\n",
       "      <td>2023</td>\n",
       "      <td>5</td>\n",
       "      <td>1</td>\n",
       "    </tr>\n",
       "    <tr>\n",
       "      <th>3</th>\n",
       "      <td>Stamford Bridge</td>\n",
       "      <td>40,130</td>\n",
       "      <td>Chelsea</td>\n",
       "      <td>1</td>\n",
       "      <td>Newcastle United</td>\n",
       "      <td>1</td>\n",
       "      <td>64.4</td>\n",
       "      <td>35.6</td>\n",
       "      <td>22</td>\n",
       "      <td>13</td>\n",
       "      <td>...</td>\n",
       "      <td>5</td>\n",
       "      <td>9</td>\n",
       "      <td>11</td>\n",
       "      <td>0</td>\n",
       "      <td>0</td>\n",
       "      <td>0</td>\n",
       "      <td>0</td>\n",
       "      <td>2023</td>\n",
       "      <td>5</td>\n",
       "      <td>1</td>\n",
       "    </tr>\n",
       "    <tr>\n",
       "      <th>4</th>\n",
       "      <td>Selhurst Park</td>\n",
       "      <td>25,198</td>\n",
       "      <td>Crystal Palace</td>\n",
       "      <td>1</td>\n",
       "      <td>Nottingham Forest</td>\n",
       "      <td>1</td>\n",
       "      <td>66.0</td>\n",
       "      <td>34.0</td>\n",
       "      <td>15</td>\n",
       "      <td>7</td>\n",
       "      <td>...</td>\n",
       "      <td>2</td>\n",
       "      <td>9</td>\n",
       "      <td>13</td>\n",
       "      <td>0</td>\n",
       "      <td>2</td>\n",
       "      <td>0</td>\n",
       "      <td>0</td>\n",
       "      <td>2023</td>\n",
       "      <td>5</td>\n",
       "      <td>1</td>\n",
       "    </tr>\n",
       "  </tbody>\n",
       "</table>\n",
       "<p>5 rows × 39 columns</p>\n",
       "</div>"
      ],
      "text/plain": [
       "                   stadium attendance       Home Team  Goals Home  \\\n",
       "0         Emirates Stadium     60,095         Arsenal           5   \n",
       "1               Villa Park     42,212     Aston Villa           2   \n",
       "2  Gtech Community Stadium     17,120       Brentford           1   \n",
       "3          Stamford Bridge     40,130         Chelsea           1   \n",
       "4            Selhurst Park     25,198  Crystal Palace           1   \n",
       "\n",
       "                  Away Team  Away Goals  home_possessions  away_possessions  \\\n",
       "0   Wolverhampton Wanderers           0              51.0              49.0   \n",
       "1  Brighton and Hove Albion           1              40.3              59.7   \n",
       "2           Manchester City           0              34.4              65.6   \n",
       "3          Newcastle United           1              64.4              35.6   \n",
       "4         Nottingham Forest           1              66.0              34.0   \n",
       "\n",
       "   home_shots  away_shots  ...  away_saves  home_fouls  away_fouls  \\\n",
       "0          14           6  ...           3           8          11   \n",
       "1          12           8  ...           3          15          16   \n",
       "2          11          17  ...           3          12           8   \n",
       "3          22          13  ...           5           9          11   \n",
       "4          15           7  ...           2           9          13   \n",
       "\n",
       "   home_yellow  away_yellow  home_red  away_red  year  month  day  \n",
       "0            0            0         0         0  2023      5    1  \n",
       "1            4            4         0         0  2023      5    1  \n",
       "2            4            0         0         0  2023      5    1  \n",
       "3            0            0         0         0  2023      5    1  \n",
       "4            0            2         0         0  2023      5    1  \n",
       "\n",
       "[5 rows x 39 columns]"
      ]
     },
     "execution_count": 13,
     "metadata": {},
     "output_type": "execute_result"
    }
   ],
   "source": [
    "df = df.drop(['date', 'clock','links'], axis=1)\n",
    "df.head()\n",
    "# After completing the conversions and splitting, let's drop the columns that won't be useful for our work."
   ]
  },
  {
   "cell_type": "code",
   "execution_count": 14,
   "id": "2c3570e7",
   "metadata": {
    "execution": {
     "iopub.execute_input": "2024-09-02T17:32:19.455291Z",
     "iopub.status.busy": "2024-09-02T17:32:19.454757Z",
     "iopub.status.idle": "2024-09-02T17:32:19.800390Z",
     "shell.execute_reply": "2024-09-02T17:32:19.798848Z"
    },
    "papermill": {
     "duration": 0.367105,
     "end_time": "2024-09-02T17:32:19.803695",
     "exception": false,
     "start_time": "2024-09-02T17:32:19.436590",
     "status": "completed"
    },
    "tags": []
   },
   "outputs": [
    {
     "data": {
      "image/png": "[encoded data removed]",
      "text/plain": [
       "<Figure size 640x480 with 2 Axes>"
      ]
     },
     "metadata": {},
     "output_type": "display_data"
    }
   ],
   "source": [
    "fig, ax = plt.subplots(1,2)\n",
    "sns.boxplot(y=\"Goals Home\", data= df, ax=ax[0],color =\"green\")\n",
    "sns.boxplot(y=\"Away Goals\", data= df, ax=ax[1],color = \"orange\")\n",
    "plt.show()\n",
    "# Let's examine the quartiles and outliers of the goals scored by the home and away teams."
   ]
  },
  {
   "cell_type": "code",
   "execution_count": 15,
   "id": "9f6224b4",
   "metadata": {
    "execution": {
     "iopub.execute_input": "2024-09-02T17:32:19.833974Z",
     "iopub.status.busy": "2024-09-02T17:32:19.833411Z",
     "iopub.status.idle": "2024-09-02T17:32:20.509375Z",
     "shell.execute_reply": "2024-09-02T17:32:20.507596Z"
    },
    "papermill": {
     "duration": 0.695221,
     "end_time": "2024-09-02T17:32:20.512988",
     "exception": false,
     "start_time": "2024-09-02T17:32:19.817767",
     "status": "completed"
    },
    "tags": []
   },
   "outputs": [
    {
     "data": {
      "image/png": "[encoded data removed]",
      "text/plain": [
       "<Figure size 640x480 with 2 Axes>"
      ]
     },
     "metadata": {},
     "output_type": "display_data"
    }
   ],
   "source": [
    "fig, ax = plt.subplots(1,2)\n",
    "sns.boxplot(y=\"home_possessions\",x=\"Goals Home\", data= df, ax=ax[0])\n",
    "sns.boxplot(y=\"away_possessions\",x=\"Away Goals\", data= df, ax=ax[1])\n",
    "plt.show()\n",
    "# Let's analyze the relationship between the possession and the goals scored by the home and away teams."
   ]
  },
  {
   "cell_type": "code",
   "execution_count": 16,
   "id": "9c95b9b2",
   "metadata": {
    "execution": {
     "iopub.execute_input": "2024-09-02T17:32:20.545789Z",
     "iopub.status.busy": "2024-09-02T17:32:20.545295Z",
     "iopub.status.idle": "2024-09-02T17:32:21.226527Z",
     "shell.execute_reply": "2024-09-02T17:32:21.225328Z"
    },
    "papermill": {
     "duration": 0.700448,
     "end_time": "2024-09-02T17:32:21.229198",
     "exception": false,
     "start_time": "2024-09-02T17:32:20.528750",
     "status": "completed"
    },
    "tags": []
   },
   "outputs": [
    {
     "data": {
      "image/png": "[encoded data removed]",
      "text/plain": [
       "<Figure size 640x480 with 2 Axes>"
      ]
     },
     "metadata": {},
     "output_type": "display_data"
    }
   ],
   "source": [
    "fig, ax = plt.subplots(1,2)\n",
    "sns.scatterplot(y=\"home_shots\",x=\"Goals Home\", data= df,ax = ax[0])\n",
    "sns.scatterplot(y=\"away_shots\",x=\"Away Goals\", data= df, ax=ax[1])\n",
    "plt.show()\n",
    "# Comparison of shots taken and goals scored using a scatter plot"
   ]
  },
  {
   "cell_type": "code",
   "execution_count": 17,
   "id": "93cd8953",
   "metadata": {
    "execution": {
     "iopub.execute_input": "2024-09-02T17:32:21.262318Z",
     "iopub.status.busy": "2024-09-02T17:32:21.261214Z",
     "iopub.status.idle": "2024-09-02T17:32:21.666390Z",
     "shell.execute_reply": "2024-09-02T17:32:21.665034Z"
    },
    "papermill": {
     "duration": 0.424779,
     "end_time": "2024-09-02T17:32:21.669206",
     "exception": false,
     "start_time": "2024-09-02T17:32:21.244427",
     "status": "completed"
    },
    "tags": []
   },
   "outputs": [
    {
     "data": {
      "text/plain": [
       "Text(0, 0.5, 'Total Goals')"
      ]
     },
     "execution_count": 17,
     "metadata": {},
     "output_type": "execute_result"
    },
    {
     "data": {
      "image/png": "[encoded data removed]",
      "text/plain": [
       "<Figure size 640x480 with 1 Axes>"
      ]
     },
     "metadata": {},
     "output_type": "display_data"
    }
   ],
   "source": [
    "sns.countplot(df, x=df[\"Goals Home\"]+df[\"Away Goals\"])\n",
    "plt.xlabel(\"Goals\")\n",
    "plt.ylabel(\"Total Goals\")\n",
    "# The graph showing the number of occurrences for each goal count"
   ]
  },
  {
   "cell_type": "code",
   "execution_count": 18,
   "id": "4a929244",
   "metadata": {
    "execution": {
     "iopub.execute_input": "2024-09-02T17:32:21.701920Z",
     "iopub.status.busy": "2024-09-02T17:32:21.701475Z",
     "iopub.status.idle": "2024-09-02T17:32:21.711897Z",
     "shell.execute_reply": "2024-09-02T17:32:21.710798Z"
    },
    "papermill": {
     "duration": 0.029762,
     "end_time": "2024-09-02T17:32:21.714473",
     "exception": false,
     "start_time": "2024-09-02T17:32:21.684711",
     "status": "completed"
    },
    "tags": []
   },
   "outputs": [
    {
     "data": {
      "text/plain": [
       "0    5\n",
       "1    1\n",
       "2    1\n",
       "3    0\n",
       "4    0\n",
       "Name: Goal Diff, dtype: int64"
      ]
     },
     "execution_count": 18,
     "metadata": {},
     "output_type": "execute_result"
    }
   ],
   "source": [
    "df[\"Goal Diff\"] = df[\"Goals Home\"] - df[\"Away Goals\"]\n",
    "df[\"Goal Diff\"].head()\n",
    "# Let's calculate the goal differences. I will use this to calculate the points per game for our teams."
   ]
  },
  {
   "cell_type": "code",
   "execution_count": 19,
   "id": "1f93d1ca",
   "metadata": {
    "execution": {
     "iopub.execute_input": "2024-09-02T17:32:21.746975Z",
     "iopub.status.busy": "2024-09-02T17:32:21.746534Z",
     "iopub.status.idle": "2024-09-02T17:32:21.853227Z",
     "shell.execute_reply": "2024-09-02T17:32:21.852135Z"
    },
    "papermill": {
     "duration": 0.125918,
     "end_time": "2024-09-02T17:32:21.855755",
     "exception": false,
     "start_time": "2024-09-02T17:32:21.729837",
     "status": "completed"
    },
    "tags": []
   },
   "outputs": [
    {
     "data": {
      "text/plain": [
       "0    3.0\n",
       "1    3.0\n",
       "2    3.0\n",
       "3    1.0\n",
       "4    1.0\n",
       "Name: point, dtype: float64"
      ]
     },
     "execution_count": 19,
     "metadata": {},
     "output_type": "execute_result"
    }
   ],
   "source": [
    "Diff = df[\"Goal Diff\"]\n",
    "for i in range(0,len(Diff)):\n",
    "    if(Diff[i]>0):\n",
    "        df.loc[i,\"point\"] = 3\n",
    "    elif(Diff[i]==0):\n",
    "        df.loc[i,\"point\"] = 1\n",
    "    elif(Diff[i]<0):\n",
    "        df.loc[i,\"point\"] = 0\n",
    "df[\"point\"].head()"
   ]
  },
  {
   "cell_type": "code",
   "execution_count": 20,
   "id": "ce01374f",
   "metadata": {
    "execution": {
     "iopub.execute_input": "2024-09-02T17:32:21.890738Z",
     "iopub.status.busy": "2024-09-02T17:32:21.890222Z",
     "iopub.status.idle": "2024-09-02T17:32:21.897357Z",
     "shell.execute_reply": "2024-09-02T17:32:21.896066Z"
    },
    "papermill": {
     "duration": 0.028224,
     "end_time": "2024-09-02T17:32:21.900178",
     "exception": false,
     "start_time": "2024-09-02T17:32:21.871954",
     "status": "completed"
    },
    "tags": []
   },
   "outputs": [],
   "source": [
    "df[\"point\"]= df[\"point\"].astype(int)"
   ]
  },
  {
   "cell_type": "code",
   "execution_count": 21,
   "id": "9e825d9c",
   "metadata": {
    "execution": {
     "iopub.execute_input": "2024-09-02T17:32:21.935630Z",
     "iopub.status.busy": "2024-09-02T17:32:21.935135Z",
     "iopub.status.idle": "2024-09-02T17:32:22.093724Z",
     "shell.execute_reply": "2024-09-02T17:32:22.092374Z"
    },
    "papermill": {
     "duration": 0.18008,
     "end_time": "2024-09-02T17:32:22.096742",
     "exception": false,
     "start_time": "2024-09-02T17:32:21.916662",
     "status": "completed"
    },
    "tags": []
   },
   "outputs": [
    {
     "data": {
      "text/html": [
       "<div>\n",
       "<style scoped>\n",
       "    .dataframe tbody tr th:only-of-type {\n",
       "        vertical-align: middle;\n",
       "    }\n",
       "\n",
       "    .dataframe tbody tr th {\n",
       "        vertical-align: top;\n",
       "    }\n",
       "\n",
       "    .dataframe thead th {\n",
       "        text-align: right;\n",
       "    }\n",
       "</style>\n",
       "<table border=\"1\" class=\"dataframe\">\n",
       "  <thead>\n",
       "    <tr style=\"text-align: right;\">\n",
       "      <th></th>\n",
       "      <th>stadium</th>\n",
       "      <th>attendance</th>\n",
       "      <th>Home Team</th>\n",
       "      <th>Goals Home</th>\n",
       "      <th>Away Team</th>\n",
       "      <th>Away Goals</th>\n",
       "      <th>home_possessions</th>\n",
       "      <th>away_possessions</th>\n",
       "      <th>home_shots</th>\n",
       "      <th>away_shots</th>\n",
       "      <th>...</th>\n",
       "      <th>home_yellow</th>\n",
       "      <th>away_yellow</th>\n",
       "      <th>home_red</th>\n",
       "      <th>away_red</th>\n",
       "      <th>year</th>\n",
       "      <th>month</th>\n",
       "      <th>day</th>\n",
       "      <th>Goal Diff</th>\n",
       "      <th>point</th>\n",
       "      <th>away_point</th>\n",
       "    </tr>\n",
       "  </thead>\n",
       "  <tbody>\n",
       "    <tr>\n",
       "      <th>0</th>\n",
       "      <td>Emirates Stadium</td>\n",
       "      <td>60,095</td>\n",
       "      <td>Arsenal</td>\n",
       "      <td>5</td>\n",
       "      <td>Wolverhampton Wanderers</td>\n",
       "      <td>0</td>\n",
       "      <td>51.0</td>\n",
       "      <td>49.0</td>\n",
       "      <td>14</td>\n",
       "      <td>6</td>\n",
       "      <td>...</td>\n",
       "      <td>0</td>\n",
       "      <td>0</td>\n",
       "      <td>0</td>\n",
       "      <td>0</td>\n",
       "      <td>2023</td>\n",
       "      <td>5</td>\n",
       "      <td>1</td>\n",
       "      <td>5</td>\n",
       "      <td>3</td>\n",
       "      <td>0</td>\n",
       "    </tr>\n",
       "    <tr>\n",
       "      <th>1</th>\n",
       "      <td>Villa Park</td>\n",
       "      <td>42,212</td>\n",
       "      <td>Aston Villa</td>\n",
       "      <td>2</td>\n",
       "      <td>Brighton and Hove Albion</td>\n",
       "      <td>1</td>\n",
       "      <td>40.3</td>\n",
       "      <td>59.7</td>\n",
       "      <td>12</td>\n",
       "      <td>8</td>\n",
       "      <td>...</td>\n",
       "      <td>4</td>\n",
       "      <td>4</td>\n",
       "      <td>0</td>\n",
       "      <td>0</td>\n",
       "      <td>2023</td>\n",
       "      <td>5</td>\n",
       "      <td>1</td>\n",
       "      <td>1</td>\n",
       "      <td>3</td>\n",
       "      <td>0</td>\n",
       "    </tr>\n",
       "    <tr>\n",
       "      <th>2</th>\n",
       "      <td>Gtech Community Stadium</td>\n",
       "      <td>17,120</td>\n",
       "      <td>Brentford</td>\n",
       "      <td>1</td>\n",
       "      <td>Manchester City</td>\n",
       "      <td>0</td>\n",
       "      <td>34.4</td>\n",
       "      <td>65.6</td>\n",
       "      <td>11</td>\n",
       "      <td>17</td>\n",
       "      <td>...</td>\n",
       "      <td>4</td>\n",
       "      <td>0</td>\n",
       "      <td>0</td>\n",
       "      <td>0</td>\n",
       "      <td>2023</td>\n",
       "      <td>5</td>\n",
       "      <td>1</td>\n",
       "      <td>1</td>\n",
       "      <td>3</td>\n",
       "      <td>0</td>\n",
       "    </tr>\n",
       "    <tr>\n",
       "      <th>3</th>\n",
       "      <td>Stamford Bridge</td>\n",
       "      <td>40,130</td>\n",
       "      <td>Chelsea</td>\n",
       "      <td>1</td>\n",
       "      <td>Newcastle United</td>\n",
       "      <td>1</td>\n",
       "      <td>64.4</td>\n",
       "      <td>35.6</td>\n",
       "      <td>22</td>\n",
       "      <td>13</td>\n",
       "      <td>...</td>\n",
       "      <td>0</td>\n",
       "      <td>0</td>\n",
       "      <td>0</td>\n",
       "      <td>0</td>\n",
       "      <td>2023</td>\n",
       "      <td>5</td>\n",
       "      <td>1</td>\n",
       "      <td>0</td>\n",
       "      <td>1</td>\n",
       "      <td>1</td>\n",
       "    </tr>\n",
       "    <tr>\n",
       "      <th>4</th>\n",
       "      <td>Selhurst Park</td>\n",
       "      <td>25,198</td>\n",
       "      <td>Crystal Palace</td>\n",
       "      <td>1</td>\n",
       "      <td>Nottingham Forest</td>\n",
       "      <td>1</td>\n",
       "      <td>66.0</td>\n",
       "      <td>34.0</td>\n",
       "      <td>15</td>\n",
       "      <td>7</td>\n",
       "      <td>...</td>\n",
       "      <td>0</td>\n",
       "      <td>2</td>\n",
       "      <td>0</td>\n",
       "      <td>0</td>\n",
       "      <td>2023</td>\n",
       "      <td>5</td>\n",
       "      <td>1</td>\n",
       "      <td>0</td>\n",
       "      <td>1</td>\n",
       "      <td>1</td>\n",
       "    </tr>\n",
       "  </tbody>\n",
       "</table>\n",
       "<p>5 rows × 42 columns</p>\n",
       "</div>"
      ],
      "text/plain": [
       "                   stadium attendance       Home Team  Goals Home  \\\n",
       "0         Emirates Stadium     60,095         Arsenal           5   \n",
       "1               Villa Park     42,212     Aston Villa           2   \n",
       "2  Gtech Community Stadium     17,120       Brentford           1   \n",
       "3          Stamford Bridge     40,130         Chelsea           1   \n",
       "4            Selhurst Park     25,198  Crystal Palace           1   \n",
       "\n",
       "                  Away Team  Away Goals  home_possessions  away_possessions  \\\n",
       "0   Wolverhampton Wanderers           0              51.0              49.0   \n",
       "1  Brighton and Hove Albion           1              40.3              59.7   \n",
       "2           Manchester City           0              34.4              65.6   \n",
       "3          Newcastle United           1              64.4              35.6   \n",
       "4         Nottingham Forest           1              66.0              34.0   \n",
       "\n",
       "   home_shots  away_shots  ...  home_yellow  away_yellow  home_red  away_red  \\\n",
       "0          14           6  ...            0            0         0         0   \n",
       "1          12           8  ...            4            4         0         0   \n",
       "2          11          17  ...            4            0         0         0   \n",
       "3          22          13  ...            0            0         0         0   \n",
       "4          15           7  ...            0            2         0         0   \n",
       "\n",
       "   year  month  day  Goal Diff  point  away_point  \n",
       "0  2023      5    1          5      3           0  \n",
       "1  2023      5    1          1      3           0  \n",
       "2  2023      5    1          1      3           0  \n",
       "3  2023      5    1          0      1           1  \n",
       "4  2023      5    1          0      1           1  \n",
       "\n",
       "[5 rows x 42 columns]"
      ]
     },
     "execution_count": 21,
     "metadata": {},
     "output_type": "execute_result"
    }
   ],
   "source": [
    "for i in range(len(df)):\n",
    "    if df.loc[i,\"point\"]==3:\n",
    "        df.loc[i,\"away_point\"] = 0\n",
    "    elif(df.loc[i,\"point\"]==1):\n",
    "        df.loc[i,\"away_point\"] = 1\n",
    "    elif(df.loc[i,\"point\"]==0):\n",
    "        df.loc[i,\"away_point\"] = 3\n",
    "df[\"away_point\"] = df[\"away_point\"].astype(int)\n",
    "df.head()"
   ]
  },
  {
   "cell_type": "code",
   "execution_count": 22,
   "id": "89fdff65",
   "metadata": {
    "execution": {
     "iopub.execute_input": "2024-09-02T17:32:22.133265Z",
     "iopub.status.busy": "2024-09-02T17:32:22.132677Z",
     "iopub.status.idle": "2024-09-02T17:32:22.619951Z",
     "shell.execute_reply": "2024-09-02T17:32:22.618363Z"
    },
    "papermill": {
     "duration": 0.509082,
     "end_time": "2024-09-02T17:32:22.622966",
     "exception": false,
     "start_time": "2024-09-02T17:32:22.113884",
     "status": "completed"
    },
    "tags": []
   },
   "outputs": [
    {
     "data": {
      "image/png": "[encoded data removed]",
      "text/plain": [
       "<Figure size 640x480 with 2 Axes>"
      ]
     },
     "metadata": {},
     "output_type": "display_data"
    }
   ],
   "source": [
    "fig, ax = plt.subplots(1,2)\n",
    "plt.subplot(121)\n",
    "sns.countplot(x=\"point\",data= df, ax=ax[0])\n",
    "plt.title(\"Home\")\n",
    "plt.xlabel(\"Point\")\n",
    "plt.subplot(122)\n",
    "sns.countplot(x=\"away_point\", data= df, ax=ax[1])\n",
    "plt.title(\"Away\")\n",
    "plt.xlabel(\"Point\")\n",
    "plt.show()\n",
    "# The total points earned by the home and away teams"
   ]
  },
  {
   "cell_type": "code",
   "execution_count": 23,
   "id": "c0251f46",
   "metadata": {
    "execution": {
     "iopub.execute_input": "2024-09-02T17:32:22.662638Z",
     "iopub.status.busy": "2024-09-02T17:32:22.661626Z",
     "iopub.status.idle": "2024-09-02T17:32:23.161781Z",
     "shell.execute_reply": "2024-09-02T17:32:23.160387Z"
    },
    "papermill": {
     "duration": 0.523608,
     "end_time": "2024-09-02T17:32:23.164675",
     "exception": false,
     "start_time": "2024-09-02T17:32:22.641067",
     "status": "completed"
    },
    "tags": []
   },
   "outputs": [
    {
     "data": {
      "text/plain": [
       "Text(0, 0.5, 'Goals')"
      ]
     },
     "execution_count": 23,
     "metadata": {},
     "output_type": "execute_result"
    },
    {
     "data": {
      "image/png": "[encoded data removed]",
      "text/plain": [
       "<Figure size 640x480 with 2 Axes>"
      ]
     },
     "metadata": {},
     "output_type": "display_data"
    }
   ],
   "source": [
    "fig, ax = plt.subplots(1,2)\n",
    "plt.subplot(121)\n",
    "sns.boxplot(df,x=\"point\",y=df[\"Goals Home\"])\n",
    "plt.xlabel(\"Points\")\n",
    "plt.ylabel(\"Goals\")\n",
    "\n",
    "plt.subplot(122)\n",
    "sns.boxplot(df,x=\"away_point\",y=\"Away Goals\")\n",
    "plt.xlabel(\"Points\")\n",
    "plt.ylabel(\"Goals\")\n",
    "\n",
    "# The graph showing how many goals were required to earn the points"
   ]
  },
  {
   "cell_type": "code",
   "execution_count": 24,
   "id": "719f1418",
   "metadata": {
    "execution": {
     "iopub.execute_input": "2024-09-02T17:32:23.200912Z",
     "iopub.status.busy": "2024-09-02T17:32:23.200460Z",
     "iopub.status.idle": "2024-09-02T17:32:23.213095Z",
     "shell.execute_reply": "2024-09-02T17:32:23.211785Z"
    },
    "papermill": {
     "duration": 0.034122,
     "end_time": "2024-09-02T17:32:23.215969",
     "exception": false,
     "start_time": "2024-09-02T17:32:23.181847",
     "status": "completed"
    },
    "tags": []
   },
   "outputs": [],
   "source": [
    "home_points = df.groupby(\"Home Team\")[\"point\"].sum().reset_index()\n",
    "away_points = df.groupby(\"Away Team\")[\"away_point\"].sum().reset_index()\n",
    "# Let's group the points by team and generate a score table."
   ]
  },
  {
   "cell_type": "code",
   "execution_count": 25,
   "id": "94936af8",
   "metadata": {
    "execution": {
     "iopub.execute_input": "2024-09-02T17:32:23.251742Z",
     "iopub.status.busy": "2024-09-02T17:32:23.251267Z",
     "iopub.status.idle": "2024-09-02T17:32:23.277166Z",
     "shell.execute_reply": "2024-09-02T17:32:23.275949Z"
    },
    "papermill": {
     "duration": 0.046786,
     "end_time": "2024-09-02T17:32:23.279904",
     "exception": false,
     "start_time": "2024-09-02T17:32:23.233118",
     "status": "completed"
    },
    "tags": []
   },
   "outputs": [
    {
     "data": {
      "text/html": [
       "<div>\n",
       "<style scoped>\n",
       "    .dataframe tbody tr th:only-of-type {\n",
       "        vertical-align: middle;\n",
       "    }\n",
       "\n",
       "    .dataframe tbody tr th {\n",
       "        vertical-align: top;\n",
       "    }\n",
       "\n",
       "    .dataframe thead th {\n",
       "        text-align: right;\n",
       "    }\n",
       "</style>\n",
       "<table border=\"1\" class=\"dataframe\">\n",
       "  <thead>\n",
       "    <tr style=\"text-align: right;\">\n",
       "      <th></th>\n",
       "      <th>Home Team</th>\n",
       "      <th>point</th>\n",
       "      <th>Away Team</th>\n",
       "      <th>away_point</th>\n",
       "      <th>total_point</th>\n",
       "    </tr>\n",
       "  </thead>\n",
       "  <tbody>\n",
       "    <tr>\n",
       "      <th>0</th>\n",
       "      <td>Arsenal</td>\n",
       "      <td>45</td>\n",
       "      <td>Arsenal</td>\n",
       "      <td>39</td>\n",
       "      <td>84</td>\n",
       "    </tr>\n",
       "    <tr>\n",
       "      <th>1</th>\n",
       "      <td>Aston Villa</td>\n",
       "      <td>38</td>\n",
       "      <td>Aston Villa</td>\n",
       "      <td>23</td>\n",
       "      <td>61</td>\n",
       "    </tr>\n",
       "    <tr>\n",
       "      <th>2</th>\n",
       "      <td>Bournemouth</td>\n",
       "      <td>22</td>\n",
       "      <td>Bournemouth</td>\n",
       "      <td>17</td>\n",
       "      <td>39</td>\n",
       "    </tr>\n",
       "    <tr>\n",
       "      <th>3</th>\n",
       "      <td>Brentford</td>\n",
       "      <td>37</td>\n",
       "      <td>Brentford</td>\n",
       "      <td>22</td>\n",
       "      <td>59</td>\n",
       "    </tr>\n",
       "    <tr>\n",
       "      <th>4</th>\n",
       "      <td>Brighton and Hove Albion</td>\n",
       "      <td>34</td>\n",
       "      <td>Brighton and Hove Albion</td>\n",
       "      <td>28</td>\n",
       "      <td>62</td>\n",
       "    </tr>\n",
       "  </tbody>\n",
       "</table>\n",
       "</div>"
      ],
      "text/plain": [
       "                  Home Team  point                 Away Team  away_point  \\\n",
       "0                   Arsenal     45                   Arsenal          39   \n",
       "1               Aston Villa     38               Aston Villa          23   \n",
       "2               Bournemouth     22               Bournemouth          17   \n",
       "3                 Brentford     37                 Brentford          22   \n",
       "4  Brighton and Hove Albion     34  Brighton and Hove Albion          28   \n",
       "\n",
       "   total_point  \n",
       "0           84  \n",
       "1           61  \n",
       "2           39  \n",
       "3           59  \n",
       "4           62  "
      ]
     },
     "execution_count": 25,
     "metadata": {},
     "output_type": "execute_result"
    }
   ],
   "source": [
    "score_table = pd.merge(home_points, away_points, left_on=\"Home Team\", right_on=\"Away Team\", how=\"outer\", suffixes=('_home', '_away'))\n",
    "score_table[\"total_point\"] = score_table[\"point\"].fillna(0) + score_table[\"away_point\"].fillna(0)\n",
    "score_table.head()"
   ]
  },
  {
   "cell_type": "code",
   "execution_count": 26,
   "id": "a02134ae",
   "metadata": {
    "execution": {
     "iopub.execute_input": "2024-09-02T17:32:23.317206Z",
     "iopub.status.busy": "2024-09-02T17:32:23.316751Z",
     "iopub.status.idle": "2024-09-02T17:32:23.333251Z",
     "shell.execute_reply": "2024-09-02T17:32:23.332052Z"
    },
    "papermill": {
     "duration": 0.037938,
     "end_time": "2024-09-02T17:32:23.335842",
     "exception": false,
     "start_time": "2024-09-02T17:32:23.297904",
     "status": "completed"
    },
    "tags": []
   },
   "outputs": [
    {
     "data": {
      "text/html": [
       "<div>\n",
       "<style scoped>\n",
       "    .dataframe tbody tr th:only-of-type {\n",
       "        vertical-align: middle;\n",
       "    }\n",
       "\n",
       "    .dataframe tbody tr th {\n",
       "        vertical-align: top;\n",
       "    }\n",
       "\n",
       "    .dataframe thead th {\n",
       "        text-align: right;\n",
       "    }\n",
       "</style>\n",
       "<table border=\"1\" class=\"dataframe\">\n",
       "  <thead>\n",
       "    <tr style=\"text-align: right;\">\n",
       "      <th></th>\n",
       "      <th>index</th>\n",
       "      <th>Home Team</th>\n",
       "      <th>point</th>\n",
       "      <th>Away Team</th>\n",
       "      <th>away_point</th>\n",
       "      <th>total_point</th>\n",
       "    </tr>\n",
       "  </thead>\n",
       "  <tbody>\n",
       "    <tr>\n",
       "      <th>0</th>\n",
       "      <td>12</td>\n",
       "      <td>Manchester City</td>\n",
       "      <td>52</td>\n",
       "      <td>Manchester City</td>\n",
       "      <td>37</td>\n",
       "      <td>89</td>\n",
       "    </tr>\n",
       "    <tr>\n",
       "      <th>1</th>\n",
       "      <td>0</td>\n",
       "      <td>Arsenal</td>\n",
       "      <td>45</td>\n",
       "      <td>Arsenal</td>\n",
       "      <td>39</td>\n",
       "      <td>84</td>\n",
       "    </tr>\n",
       "    <tr>\n",
       "      <th>2</th>\n",
       "      <td>13</td>\n",
       "      <td>Manchester United</td>\n",
       "      <td>48</td>\n",
       "      <td>Manchester United</td>\n",
       "      <td>27</td>\n",
       "      <td>75</td>\n",
       "    </tr>\n",
       "    <tr>\n",
       "      <th>3</th>\n",
       "      <td>14</td>\n",
       "      <td>Newcastle United</td>\n",
       "      <td>39</td>\n",
       "      <td>Newcastle United</td>\n",
       "      <td>32</td>\n",
       "      <td>71</td>\n",
       "    </tr>\n",
       "    <tr>\n",
       "      <th>4</th>\n",
       "      <td>11</td>\n",
       "      <td>Liverpool</td>\n",
       "      <td>44</td>\n",
       "      <td>Liverpool</td>\n",
       "      <td>23</td>\n",
       "      <td>67</td>\n",
       "    </tr>\n",
       "  </tbody>\n",
       "</table>\n",
       "</div>"
      ],
      "text/plain": [
       "   index          Home Team  point          Away Team  away_point  total_point\n",
       "0     12    Manchester City     52    Manchester City          37           89\n",
       "1      0            Arsenal     45            Arsenal          39           84\n",
       "2     13  Manchester United     48  Manchester United          27           75\n",
       "3     14   Newcastle United     39   Newcastle United          32           71\n",
       "4     11          Liverpool     44          Liverpool          23           67"
      ]
     },
     "execution_count": 26,
     "metadata": {},
     "output_type": "execute_result"
    }
   ],
   "source": [
    "score_table=score_table.sort_values(\"total_point\",ascending=False).reset_index()\n",
    "score_table.head()"
   ]
  },
  {
   "cell_type": "code",
   "execution_count": 27,
   "id": "644f2032",
   "metadata": {
    "execution": {
     "iopub.execute_input": "2024-09-02T17:32:23.373007Z",
     "iopub.status.busy": "2024-09-02T17:32:23.372571Z",
     "iopub.status.idle": "2024-09-02T17:32:23.395254Z",
     "shell.execute_reply": "2024-09-02T17:32:23.394100Z"
    },
    "papermill": {
     "duration": 0.044674,
     "end_time": "2024-09-02T17:32:23.397898",
     "exception": false,
     "start_time": "2024-09-02T17:32:23.353224",
     "status": "completed"
    },
    "tags": []
   },
   "outputs": [
    {
     "data": {
      "text/html": [
       "<div>\n",
       "<style scoped>\n",
       "    .dataframe tbody tr th:only-of-type {\n",
       "        vertical-align: middle;\n",
       "    }\n",
       "\n",
       "    .dataframe tbody tr th {\n",
       "        vertical-align: top;\n",
       "    }\n",
       "\n",
       "    .dataframe thead th {\n",
       "        text-align: right;\n",
       "    }\n",
       "</style>\n",
       "<table border=\"1\" class=\"dataframe\">\n",
       "  <thead>\n",
       "    <tr style=\"text-align: right;\">\n",
       "      <th></th>\n",
       "      <th>point</th>\n",
       "      <th>away_point</th>\n",
       "      <th>total_point</th>\n",
       "      <th>Team</th>\n",
       "    </tr>\n",
       "  </thead>\n",
       "  <tbody>\n",
       "    <tr>\n",
       "      <th>0</th>\n",
       "      <td>52</td>\n",
       "      <td>37</td>\n",
       "      <td>89</td>\n",
       "      <td>Manchester City</td>\n",
       "    </tr>\n",
       "    <tr>\n",
       "      <th>1</th>\n",
       "      <td>45</td>\n",
       "      <td>39</td>\n",
       "      <td>84</td>\n",
       "      <td>Arsenal</td>\n",
       "    </tr>\n",
       "    <tr>\n",
       "      <th>2</th>\n",
       "      <td>48</td>\n",
       "      <td>27</td>\n",
       "      <td>75</td>\n",
       "      <td>Manchester United</td>\n",
       "    </tr>\n",
       "    <tr>\n",
       "      <th>3</th>\n",
       "      <td>39</td>\n",
       "      <td>32</td>\n",
       "      <td>71</td>\n",
       "      <td>Newcastle United</td>\n",
       "    </tr>\n",
       "    <tr>\n",
       "      <th>4</th>\n",
       "      <td>44</td>\n",
       "      <td>23</td>\n",
       "      <td>67</td>\n",
       "      <td>Liverpool</td>\n",
       "    </tr>\n",
       "  </tbody>\n",
       "</table>\n",
       "</div>"
      ],
      "text/plain": [
       "   point  away_point  total_point               Team\n",
       "0     52          37           89    Manchester City\n",
       "1     45          39           84            Arsenal\n",
       "2     48          27           75  Manchester United\n",
       "3     39          32           71   Newcastle United\n",
       "4     44          23           67          Liverpool"
      ]
     },
     "execution_count": 27,
     "metadata": {},
     "output_type": "execute_result"
    }
   ],
   "source": [
    "for i in range(len(score_table)):\n",
    "    score_table.loc[i,\"Team\"] = score_table.loc[i,\"Home Team\"] \n",
    "score_table.pop(\"Home Team\")\n",
    "score_table.pop(\"Away Team\")\n",
    "score_table.pop(\"index\")\n",
    "score_table.head()"
   ]
  },
  {
   "cell_type": "code",
   "execution_count": 28,
   "id": "74d424c5",
   "metadata": {
    "execution": {
     "iopub.execute_input": "2024-09-02T17:32:23.436591Z",
     "iopub.status.busy": "2024-09-02T17:32:23.436124Z",
     "iopub.status.idle": "2024-09-02T17:32:25.699757Z",
     "shell.execute_reply": "2024-09-02T17:32:25.698492Z"
    },
    "papermill": {
     "duration": 2.286694,
     "end_time": "2024-09-02T17:32:25.702603",
     "exception": false,
     "start_time": "2024-09-02T17:32:23.415909",
     "status": "completed"
    },
    "tags": []
   },
   "outputs": [
    {
     "data": {
      "image/png": "[encoded data removed]",
      "text/plain": [
       "<Figure size 1200x600 with 1 Axes>"
      ]
     },
     "metadata": {},
     "output_type": "display_data"
    }
   ],
   "source": [
    "sns.catplot(x=\"Team\",y=\"total_point\",data = score_table,hue=\"Team\", kind=\"bar\",palette=\"rainbow\",height=6,aspect=2)\n",
    "plt.xticks(rotation=45, ha=\"right\",fontsize=15)\n",
    "plt.xlabel(\"Teams\")\n",
    "plt.ylabel(\"Points\")\n",
    "plt.show()"
   ]
  },
  {
   "cell_type": "code",
   "execution_count": 29,
   "id": "50d000a2",
   "metadata": {
    "execution": {
     "iopub.execute_input": "2024-09-02T17:32:25.743776Z",
     "iopub.status.busy": "2024-09-02T17:32:25.743337Z",
     "iopub.status.idle": "2024-09-02T17:32:26.003373Z",
     "shell.execute_reply": "2024-09-02T17:32:26.001956Z"
    },
    "papermill": {
     "duration": 0.285059,
     "end_time": "2024-09-02T17:32:26.007647",
     "exception": false,
     "start_time": "2024-09-02T17:32:25.722588",
     "status": "completed"
    },
    "tags": []
   },
   "outputs": [
    {
     "data": {
      "image/png": "[encoded data removed]",
      "text/plain": [
       "<Figure size 640x480 with 1 Axes>"
      ]
     },
     "metadata": {},
     "output_type": "display_data"
    }
   ],
   "source": [
    "sns.boxplot(y=\"total_point\",data = score_table,color = \"yellow\")\n",
    "plt.title(\"Total Points\")\n",
    "plt.ylabel(\"Points\")\n",
    "plt.show()\n",
    "# Let's draw a boxplot to get an idea of where the points are generally concentrated in the league and\n",
    "# how close the lowest and highest points are to this concentration."
   ]
  },
  {
   "cell_type": "code",
   "execution_count": 30,
   "id": "bd3699e3",
   "metadata": {
    "execution": {
     "iopub.execute_input": "2024-09-02T17:32:26.049481Z",
     "iopub.status.busy": "2024-09-02T17:32:26.049015Z",
     "iopub.status.idle": "2024-09-02T17:32:26.074865Z",
     "shell.execute_reply": "2024-09-02T17:32:26.073702Z"
    },
    "papermill": {
     "duration": 0.050109,
     "end_time": "2024-09-02T17:32:26.077771",
     "exception": false,
     "start_time": "2024-09-02T17:32:26.027662",
     "status": "completed"
    },
    "tags": []
   },
   "outputs": [
    {
     "data": {
      "text/html": [
       "<div>\n",
       "<style scoped>\n",
       "    .dataframe tbody tr th:only-of-type {\n",
       "        vertical-align: middle;\n",
       "    }\n",
       "\n",
       "    .dataframe tbody tr th {\n",
       "        vertical-align: top;\n",
       "    }\n",
       "\n",
       "    .dataframe thead th {\n",
       "        text-align: right;\n",
       "    }\n",
       "</style>\n",
       "<table border=\"1\" class=\"dataframe\">\n",
       "  <thead>\n",
       "    <tr style=\"text-align: right;\">\n",
       "      <th></th>\n",
       "      <th>stadium</th>\n",
       "      <th>attendance</th>\n",
       "      <th>Home Team</th>\n",
       "      <th>Goals Home</th>\n",
       "      <th>Away Team</th>\n",
       "      <th>Away Goals</th>\n",
       "      <th>home_possessions</th>\n",
       "      <th>away_possessions</th>\n",
       "      <th>home_shots</th>\n",
       "      <th>away_shots</th>\n",
       "      <th>...</th>\n",
       "      <th>home_yellow</th>\n",
       "      <th>away_yellow</th>\n",
       "      <th>home_red</th>\n",
       "      <th>away_red</th>\n",
       "      <th>year</th>\n",
       "      <th>month</th>\n",
       "      <th>day</th>\n",
       "      <th>Goal Diff</th>\n",
       "      <th>point</th>\n",
       "      <th>away_point</th>\n",
       "    </tr>\n",
       "  </thead>\n",
       "  <tbody>\n",
       "    <tr>\n",
       "      <th>0</th>\n",
       "      <td>Selhurst Park</td>\n",
       "      <td>25,286</td>\n",
       "      <td>Crystal Palace</td>\n",
       "      <td>0</td>\n",
       "      <td>Arsenal</td>\n",
       "      <td>2</td>\n",
       "      <td>56.3</td>\n",
       "      <td>43.7</td>\n",
       "      <td>10</td>\n",
       "      <td>10</td>\n",
       "      <td>...</td>\n",
       "      <td>1</td>\n",
       "      <td>2</td>\n",
       "      <td>0</td>\n",
       "      <td>0</td>\n",
       "      <td>2022</td>\n",
       "      <td>8</td>\n",
       "      <td>1</td>\n",
       "      <td>-2</td>\n",
       "      <td>0</td>\n",
       "      <td>3</td>\n",
       "    </tr>\n",
       "    <tr>\n",
       "      <th>1</th>\n",
       "      <td>Goodison Park</td>\n",
       "      <td>39,254</td>\n",
       "      <td>Everton</td>\n",
       "      <td>0</td>\n",
       "      <td>Chelsea</td>\n",
       "      <td>1</td>\n",
       "      <td>37.3</td>\n",
       "      <td>62.7</td>\n",
       "      <td>8</td>\n",
       "      <td>15</td>\n",
       "      <td>...</td>\n",
       "      <td>3</td>\n",
       "      <td>2</td>\n",
       "      <td>0</td>\n",
       "      <td>0</td>\n",
       "      <td>2022</td>\n",
       "      <td>8</td>\n",
       "      <td>1</td>\n",
       "      <td>-1</td>\n",
       "      <td>0</td>\n",
       "      <td>3</td>\n",
       "    </tr>\n",
       "    <tr>\n",
       "      <th>2</th>\n",
       "      <td>Tottenham Hotspur Stadium</td>\n",
       "      <td>61,732</td>\n",
       "      <td>Tottenham Hotspur</td>\n",
       "      <td>4</td>\n",
       "      <td>Southampton</td>\n",
       "      <td>1</td>\n",
       "      <td>57.5</td>\n",
       "      <td>42.5</td>\n",
       "      <td>18</td>\n",
       "      <td>10</td>\n",
       "      <td>...</td>\n",
       "      <td>3</td>\n",
       "      <td>0</td>\n",
       "      <td>0</td>\n",
       "      <td>0</td>\n",
       "      <td>2022</td>\n",
       "      <td>8</td>\n",
       "      <td>1</td>\n",
       "      <td>3</td>\n",
       "      <td>3</td>\n",
       "      <td>0</td>\n",
       "    </tr>\n",
       "    <tr>\n",
       "      <th>3</th>\n",
       "      <td>St James' Park, Newcastle</td>\n",
       "      <td>52,245</td>\n",
       "      <td>Newcastle United</td>\n",
       "      <td>2</td>\n",
       "      <td>Nottingham Forest</td>\n",
       "      <td>0</td>\n",
       "      <td>61.4</td>\n",
       "      <td>38.6</td>\n",
       "      <td>23</td>\n",
       "      <td>5</td>\n",
       "      <td>...</td>\n",
       "      <td>0</td>\n",
       "      <td>3</td>\n",
       "      <td>0</td>\n",
       "      <td>0</td>\n",
       "      <td>2022</td>\n",
       "      <td>8</td>\n",
       "      <td>1</td>\n",
       "      <td>2</td>\n",
       "      <td>3</td>\n",
       "      <td>0</td>\n",
       "    </tr>\n",
       "    <tr>\n",
       "      <th>4</th>\n",
       "      <td>Elland Road</td>\n",
       "      <td>36,347</td>\n",
       "      <td>Leeds United</td>\n",
       "      <td>2</td>\n",
       "      <td>Wolverhampton Wanderers</td>\n",
       "      <td>1</td>\n",
       "      <td>40.1</td>\n",
       "      <td>59.9</td>\n",
       "      <td>12</td>\n",
       "      <td>15</td>\n",
       "      <td>...</td>\n",
       "      <td>2</td>\n",
       "      <td>0</td>\n",
       "      <td>0</td>\n",
       "      <td>0</td>\n",
       "      <td>2022</td>\n",
       "      <td>8</td>\n",
       "      <td>1</td>\n",
       "      <td>1</td>\n",
       "      <td>3</td>\n",
       "      <td>0</td>\n",
       "    </tr>\n",
       "  </tbody>\n",
       "</table>\n",
       "<p>5 rows × 42 columns</p>\n",
       "</div>"
      ],
      "text/plain": [
       "                     stadium attendance          Home Team  Goals Home  \\\n",
       "0              Selhurst Park     25,286     Crystal Palace           0   \n",
       "1              Goodison Park     39,254            Everton           0   \n",
       "2  Tottenham Hotspur Stadium     61,732  Tottenham Hotspur           4   \n",
       "3  St James' Park, Newcastle     52,245   Newcastle United           2   \n",
       "4                Elland Road     36,347       Leeds United           2   \n",
       "\n",
       "                 Away Team  Away Goals  home_possessions  away_possessions  \\\n",
       "0                  Arsenal           2              56.3              43.7   \n",
       "1                  Chelsea           1              37.3              62.7   \n",
       "2              Southampton           1              57.5              42.5   \n",
       "3        Nottingham Forest           0              61.4              38.6   \n",
       "4  Wolverhampton Wanderers           1              40.1              59.9   \n",
       "\n",
       "   home_shots  away_shots  ...  home_yellow  away_yellow  home_red  away_red  \\\n",
       "0          10          10  ...            1            2         0         0   \n",
       "1           8          15  ...            3            2         0         0   \n",
       "2          18          10  ...            3            0         0         0   \n",
       "3          23           5  ...            0            3         0         0   \n",
       "4          12          15  ...            2            0         0         0   \n",
       "\n",
       "   year  month  day  Goal Diff  point  away_point  \n",
       "0  2022      8    1         -2      0           3  \n",
       "1  2022      8    1         -1      0           3  \n",
       "2  2022      8    1          3      3           0  \n",
       "3  2022      8    1          2      3           0  \n",
       "4  2022      8    1          1      3           0  \n",
       "\n",
       "[5 rows x 42 columns]"
      ]
     },
     "execution_count": 30,
     "metadata": {},
     "output_type": "execute_result"
    }
   ],
   "source": [
    "new_df = df.iloc[::-1].reset_index(drop=True)\n",
    "new_df.head()\n",
    "# We reversed the list because I will be summing the points one by one."
   ]
  },
  {
   "cell_type": "code",
   "execution_count": 31,
   "id": "da7c3293",
   "metadata": {
    "execution": {
     "iopub.execute_input": "2024-09-02T17:32:26.121070Z",
     "iopub.status.busy": "2024-09-02T17:32:26.120627Z",
     "iopub.status.idle": "2024-09-02T17:32:26.184172Z",
     "shell.execute_reply": "2024-09-02T17:32:26.182852Z"
    },
    "papermill": {
     "duration": 0.088262,
     "end_time": "2024-09-02T17:32:26.186831",
     "exception": false,
     "start_time": "2024-09-02T17:32:26.098569",
     "status": "completed"
    },
    "tags": []
   },
   "outputs": [
    {
     "data": {
      "text/plain": [
       "0     3\n",
       "1     6\n",
       "2     7\n",
       "3    10\n",
       "4    13\n",
       "Name: Total Point, dtype: int64"
      ]
     },
     "execution_count": 31,
     "metadata": {},
     "output_type": "execute_result"
    }
   ],
   "source": [
    "df_home = new_df.query('`Home Team` == \"Manchester City\" ')\n",
    "df_away = new_df.query('`Away Team`== \"Manchester City\"')\n",
    "mc_df = pd.concat([df_home,df_away],axis=0)\n",
    "mc_df = mc_df.sort_index()\n",
    "mc_df = mc_df.reset_index()\n",
    "mc_df.pop(\"index\")\n",
    "\n",
    "mc_df[\"Total Point\"] = 0\n",
    "for i in range(len(mc_df)):\n",
    "    if i == 0:  \n",
    "        if mc_df.loc[i, \"Home Team\"] == \"Manchester City\":\n",
    "            mc_df.loc[i, \"Total Point\"] = mc_df.loc[i, \"point\"]\n",
    "        elif mc_df.loc[i, \"Away Team\"] == \"Manchester City\":\n",
    "            mc_df.loc[i, \"Total Point\"] = mc_df.loc[i, \"away_point\"]\n",
    "    else:  \n",
    "        if mc_df.loc[i, \"Home Team\"] == \"Manchester City\":\n",
    "            mc_df.loc[i, \"Total Point\"] = mc_df.loc[i-1, \"Total Point\"] + mc_df.loc[i, \"point\"]\n",
    "        elif mc_df.loc[i, \"Away Team\"] == \"Manchester City\":\n",
    "            mc_df.loc[i, \"Total Point\"] = mc_df.loc[i-1, \"Total Point\"] + mc_df.loc[i, \"away_point\"]\n",
    "        \n",
    "mc_df[\"Total Point\"].head()\n",
    "#I am obtaining the points for only Manchester City and Arsenal in a separate dataframe, which will be updated weekly"
   ]
  },
  {
   "cell_type": "code",
   "execution_count": 32,
   "id": "a1fbab42",
   "metadata": {
    "execution": {
     "iopub.execute_input": "2024-09-02T17:32:26.230266Z",
     "iopub.status.busy": "2024-09-02T17:32:26.229064Z",
     "iopub.status.idle": "2024-09-02T17:32:26.282939Z",
     "shell.execute_reply": "2024-09-02T17:32:26.281791Z"
    },
    "papermill": {
     "duration": 0.078689,
     "end_time": "2024-09-02T17:32:26.285785",
     "exception": false,
     "start_time": "2024-09-02T17:32:26.207096",
     "status": "completed"
    },
    "tags": []
   },
   "outputs": [
    {
     "data": {
      "text/html": [
       "<div>\n",
       "<style scoped>\n",
       "    .dataframe tbody tr th:only-of-type {\n",
       "        vertical-align: middle;\n",
       "    }\n",
       "\n",
       "    .dataframe tbody tr th {\n",
       "        vertical-align: top;\n",
       "    }\n",
       "\n",
       "    .dataframe thead th {\n",
       "        text-align: right;\n",
       "    }\n",
       "</style>\n",
       "<table border=\"1\" class=\"dataframe\">\n",
       "  <thead>\n",
       "    <tr style=\"text-align: right;\">\n",
       "      <th></th>\n",
       "      <th>Total Point</th>\n",
       "    </tr>\n",
       "  </thead>\n",
       "  <tbody>\n",
       "    <tr>\n",
       "      <th>0</th>\n",
       "      <td>3</td>\n",
       "    </tr>\n",
       "    <tr>\n",
       "      <th>1</th>\n",
       "      <td>6</td>\n",
       "    </tr>\n",
       "    <tr>\n",
       "      <th>2</th>\n",
       "      <td>9</td>\n",
       "    </tr>\n",
       "    <tr>\n",
       "      <th>3</th>\n",
       "      <td>12</td>\n",
       "    </tr>\n",
       "    <tr>\n",
       "      <th>4</th>\n",
       "      <td>15</td>\n",
       "    </tr>\n",
       "  </tbody>\n",
       "</table>\n",
       "</div>"
      ],
      "text/plain": [
       "   Total Point\n",
       "0            3\n",
       "1            6\n",
       "2            9\n",
       "3           12\n",
       "4           15"
      ]
     },
     "execution_count": 32,
     "metadata": {},
     "output_type": "execute_result"
    }
   ],
   "source": [
    "ars_df = pd.DataFrame()\n",
    "for i in range(len(new_df)):\n",
    "    if i == 0:  \n",
    "        if new_df.loc[i, \"Home Team\"] == \"Arsenal\":\n",
    "            ars_df.loc[i, \"Total Point\"] = new_df.loc[i, \"point\"]\n",
    "        elif new_df.loc[i, \"Away Team\"] == \"Arsenal\":\n",
    "            ars_df.loc[i, \"Total Point\"] = new_df.loc[i, \"away_point\"]\n",
    "    else:  \n",
    "        if new_df.loc[i, \"Home Team\"] == \"Arsenal\":\n",
    "            ars_df.loc[i, \"Total Point\"] = max(ars_df[\"Total Point\"]) + new_df.loc[i, \"point\"]\n",
    "        elif new_df.loc[i, \"Away Team\"] == \"Arsenal\":\n",
    "            ars_df.loc[i, \"Total Point\"] = max(ars_df[\"Total Point\"]) + new_df.loc[i, \"away_point\"]\n",
    "ars_df = ars_df.reset_index()\n",
    "ars_df.pop(\"index\")\n",
    "ars_df[\"Total Point\"] = ars_df[\"Total Point\"].astype(int)\n",
    "ars_df.head()"
   ]
  },
  {
   "cell_type": "code",
   "execution_count": 33,
   "id": "8fe1ab3e",
   "metadata": {
    "execution": {
     "iopub.execute_input": "2024-09-02T17:32:26.330678Z",
     "iopub.status.busy": "2024-09-02T17:32:26.330235Z",
     "iopub.status.idle": "2024-09-02T17:32:26.806770Z",
     "shell.execute_reply": "2024-09-02T17:32:26.805625Z"
    },
    "papermill": {
     "duration": 0.502599,
     "end_time": "2024-09-02T17:32:26.809414",
     "exception": false,
     "start_time": "2024-09-02T17:32:26.306815",
     "status": "completed"
    },
    "tags": []
   },
   "outputs": [
    {
     "data": {
      "text/plain": [
       "<matplotlib.legend.Legend at 0x7e8c34227f10>"
      ]
     },
     "execution_count": 33,
     "metadata": {},
     "output_type": "execute_result"
    },
    {
     "data": {
      "image/png": "[encoded data removed]",
      "text/plain": [
       "<Figure size 640x480 with 1 Axes>"
      ]
     },
     "metadata": {},
     "output_type": "display_data"
    }
   ],
   "source": [
    "sns.set_style(\"white\")\n",
    "sns.lineplot(x=range(len(mc_df)), y=mc_df[\"Total Point\"],label=\"Manchester City\",color=\"blue\")\n",
    "sns.lineplot(x=range(len(ars_df)), y=ars_df[\"Total Point\"],label=\"Arsenal\",color=\"red\")\n",
    "plt.xlabel(\"Weeks\")\n",
    "plt.ylabel(\"Point Increase\")\n",
    "plt.title(\"MC-ARS Weekly Point Increase\")\n",
    "plt.legend(prop={'size': 8}, loc='upper left',title = \"Teams\")"
   ]
  }
 ],
 "metadata": {
  "kaggle": {
   "accelerator": "none",
   "dataSources": [
    {
     "datasetId": 3565553,
     "sourceId": 6209495,
     "sourceType": "datasetVersion"
    }
   ],
   "dockerImageVersionId": 30761,
   "isGpuEnabled": false,
   "isInternetEnabled": true,
   "language": "python",
   "sourceType": "notebook"
  },
  "kernelspec": {
   "display_name": "Python 3",
   "language": "python",
   "name": "python3"
  },
  "language_info": {
   "codemirror_mode": {
    "name": "ipython",
    "version": 3
   },
   "file_extension": ".py",
   "mimetype": "text/x-python",
   "name": "python",
   "nbconvert_exporter": "python",
   "pygments_lexer": "ipython3",
   "version": "3.10.14"
  },
  "papermill": {
   "default_parameters": {},
   "duration": 15.730663,
   "end_time": "2024-09-02T17:32:27.857624",
   "environment_variables": {},
   "exception": null,
   "input_path": "__notebook__.ipynb",
   "output_path": "__notebook__.ipynb",
   "parameters": {},
   "start_time": "2024-09-02T17:32:12.126961",
   "version": "2.6.0"
  }
 },
 "nbformat": 4,
 "nbformat_minor": 5
}
